{
 "cells": [
  {
   "cell_type": "markdown",
   "metadata": {},
   "source": [
    "# Problem set 1:"
   ]
  },
  {
   "cell_type": "code",
   "execution_count": 62,
   "metadata": {},
   "outputs": [],
   "source": [
    "include(\"tests.jl\"); # Ignore this"
   ]
  },
  {
   "cell_type": "markdown",
   "metadata": {},
   "source": [
    "## Problem 1 : Babylonian square root"
   ]
  },
  {
   "cell_type": "markdown",
   "metadata": {},
   "source": [
    "### "
   ]
  },
  {
   "cell_type": "markdown",
   "metadata": {},
   "source": [
    "To get the square root of y, Babylonians used the following algorithm:\n",
    "$$\n",
    "x_{n+1} = \\frac{1}{2} \\left( x_n + \\frac{y}{x_n} \\right)\n",
    "$$\n",
    "Iteratively starting with $x_0$, this algorithm converges to $\\sqrt{y}$ within some tolerance $\\epsilon$. \n",
    "\n",
    "* Write a function `babylonian_sqrt(y, ϵ, x0 = 1)` that returns the square root of y, starting with $x_0$ and iterating until the difference between two successive estimates is less than $\\epsilon$.\n",
    "\n",
    "* Test the function by comparing the result with the built in function `sqrt()` function.\n",
    "\n",
    "* Also return the number of iterations needed to reach the desired tolerance.\n",
    "\n",
    "* **Hint:** You can use the `abs()` function to compute the absolute value of a number.\n",
    "\n",
    "* **Hint 2:** You don't need anythong more than a basic while loop."
   ]
  },
  {
   "cell_type": "code",
   "execution_count": 14,
   "metadata": {},
   "outputs": [],
   "source": [
    "# Here write the babylonian function: \n",
    "function babylonian_sqrt(y, ϵ, x0 = 1)\n",
    "    x = x0\n",
    "    count = 0\n",
    "    while abs(sqrt(y) - x) > ϵ\n",
    "        x = (1/2)*(x0+(y/x0))\n",
    "        x0 = x\n",
    "        count += 1\n",
    "    end\n",
    "    return x, count\n",
    "    end;"
   ]
  },
  {
   "cell_type": "code",
   "execution_count": 15,
   "metadata": {},
   "outputs": [
    {
     "data": {
      "text/plain": [
       "(3.00009155413138, 4)"
      ]
     },
     "metadata": {},
     "output_type": "display_data"
    }
   ],
   "source": [
    "# Check your work with the sqrt function and look at how many iterations it took to converge\n",
    "babylonian_sqrt(9, 0.01, 1)"
   ]
  },
  {
   "cell_type": "markdown",
   "metadata": {},
   "source": [
    "## Counting nucleotides\n",
    "Create a function that given a DNA strand (as a String, e.g. \"AGAGAGATCCCTTA\") it counts how much of each nucleotide (A G T or C) is present in the strand and returns the result as a dictionary mapping the nucleotides to their counts. The function should throw an error (using the error function) if an invalid nucleotide is encountered. Test your result with \"ATATATAGGCCAX\" and \"ATATATAGGCCAA\"."
   ]
  },
  {
   "cell_type": "code",
   "execution_count": 59,
   "metadata": {},
   "outputs": [],
   "source": [
    "function count_nucleotides(strand)\n",
    "\n",
    "    Gcount = 0\n",
    "    Acount = 0\n",
    "    Ccount = 0\n",
    "    Tcount = 0\n",
    "    n = length(strand)\n",
    "\n",
    "    for i = 1:n\n",
    "\n",
    "        if strand[i] == 'A'\n",
    "            Acount += 1\n",
    "\n",
    "        elseif strand[i] == 'G'\n",
    "            Gcount += 1\n",
    "        \n",
    "        elseif strand[i] == 'C'\n",
    "            Ccount += 1\n",
    "        \n",
    "        elseif strand[i] == 'T'\n",
    "            Tcount += 1\n",
    "        \n",
    "        else\n",
    "            println(\"Error\")\n",
    "        end\n",
    "\n",
    "    end\n",
    "\n",
    "    return Gcount, Ccount, Tcount, Acount\n",
    "end;\n"
   ]
  },
  {
   "cell_type": "code",
   "execution_count": 66,
   "metadata": {},
   "outputs": [
    {
     "name": "stdout",
     "output_type": "stream",
     "text": [
      "5"
     ]
    }
   ],
   "source": [
    "Gcount, Ccount, Tcount, Acount = count_nucleotides(\"AGAGAGATCCCTTA\")\n",
    "dicti = Dict(\"A\" => Acount, \"G\" => Gcount, \"T\" => Tcount, \"C\" => Ccount)\n",
    "print(dicti[\"A\"])"
   ]
  },
  {
   "cell_type": "code",
   "execution_count": 67,
   "metadata": {},
   "outputs": [
    {
     "name": "stdout",
     "output_type": "stream",
     "text": [
      "\u001b[31mExpected Dict('A' => 5, 'G' => 3, 'T' => 3, 'C' => 3), got (3, 3, 3, 5), \u001b[39m\n",
      "\u001b[31mIn case 1: AGAGAGATCCCTTA\u001b[39m"
     ]
    }
   ],
   "source": [
    "test_Nucleotide(count_nucleotides);"
   ]
  },
  {
   "cell_type": "markdown",
   "metadata": {},
   "source": [
    "## Problem 3: Fibonacci numbers\n",
    "\n",
    "Using recursion (a function that calls itself) create a function that given an integer n it returns the n-th Fibonacci number. Apply it using map to the range 1:8 to get the result [1,1,2,3,5,8,13,21].\n"
   ]
  },
  {
   "cell_type": "code",
   "execution_count": 58,
   "metadata": {},
   "outputs": [],
   "source": [
    "# Here fill in the fibonacci function\n",
    "function Fib(n)\n",
    "    if n == 1\n",
    "        c = 0\n",
    "    elseif n == 2\n",
    "        c = 1\n",
    "    elseif n == 3\n",
    "        c = 1\n",
    "    else\n",
    "        c = Fib(n-2) + Fib(n-1)\n",
    "    end\n",
    "    return c\n",
    "end;\n"
   ]
  },
  {
   "cell_type": "code",
   "execution_count": 57,
   "metadata": {},
   "outputs": [
    {
     "ename": "UndefVarError",
     "evalue": "UndefVarError: `test_fibonacci` not defined",
     "output_type": "error",
     "traceback": [
      "UndefVarError: `test_fibonacci` not defined\n",
      "\n",
      "Stacktrace:\n",
      " [1] top-level scope\n",
      "   @ c:\\Users\\USAID\\Documents\\2023-2024\\phys 218\\ms jul\\Part1\\Part1\\Problems.ipynb:2"
     ]
    }
   ],
   "source": [
    "nums = 1:8;\n",
    "ans = Fib.(nums) # apply fibonacci element wise\n",
    "test_fibonacci(ans);"
   ]
  },
  {
   "cell_type": "markdown",
   "metadata": {},
   "source": [
    "## Problem 4: Hamming distance\n",
    "Create a function that calculates the Hamming distance of two equal DNA strands, given as strings. This distance is defined by counting (sequentially) the number of non-equal letters in the two strands, e.g. \"ATA\" and \"ATC\" have distance of 1, while \"ATC\" and \"CAT\" have distance of 3.\n",
    "\n",
    "* **Hint:** this exercise has a one-liner solution, using the `zip` and `count` functions."
   ]
  },
  {
   "cell_type": "code",
   "execution_count": null,
   "metadata": {},
   "outputs": [],
   "source": [
    "Hamming(a,b) = # fill in the function\n",
    "# If you can't figure out how to do it in one line, try again!\n"
   ]
  },
  {
   "cell_type": "code",
   "execution_count": null,
   "metadata": {},
   "outputs": [],
   "source": [
    "test_Hamming(Hamming);"
   ]
  },
  {
   "cell_type": "code",
   "execution_count": null,
   "metadata": {},
   "outputs": [],
   "source": [
    "using CairoMakie"
   ]
  },
  {
   "cell_type": "markdown",
   "metadata": {},
   "source": [
    "## Problem 5: Plotting \n",
    "\n",
    "Plot the sine function and its progressive Taylor expansion series:\n",
    "$$\n",
    "\\sin(x) = \\sum_{n=0}^{\\infty} \\frac{(-1)^n}{(2n+1)!} x^{2n+1}\n",
    "$$\n",
    "for $x \\in [-3\\pi, 3\\pi]$. Plot the function and the first 4 terms of the series in the same plot. Use a different color for each curve and add a legend.\n",
    "* When plotting the series, plot the ylim in [-2,2]"
   ]
  },
  {
   "cell_type": "code",
   "execution_count": null,
   "metadata": {},
   "outputs": [],
   "source": [
    "# Here crete the Taylor of sin function"
   ]
  },
  {
   "cell_type": "code",
   "execution_count": null,
   "metadata": {},
   "outputs": [],
   "source": [
    "# Here write the code that calls taylor and plots it for different number of terms"
   ]
  },
  {
   "cell_type": "markdown",
   "metadata": {},
   "source": [
    "### Histograms"
   ]
  },
  {
   "cell_type": "code",
   "execution_count": null,
   "metadata": {},
   "outputs": [],
   "source": [
    "using Random: Xoshiro\n",
    "rng = Xoshiro(1234)\n",
    "xp1 = 0.2randn(rng, 10_000) .+ 0.5\n",
    "xp2 = 0.5randn(rng, 10_000)\n",
    "edges = -2:0.1:2;"
   ]
  },
  {
   "cell_type": "markdown",
   "metadata": {},
   "source": [
    "Using the two distributions generated above (xp1, xp2), plot the histograms of the two distributions to produce a figure like the one below. \n",
    "\n",
    "<center><img src=\"histogram.png\" height=\"400\"/></center>\n",
    "\n",
    "**Hint: You can use `color=(\"red\",0.75)` to determin the opacity**"
   ]
  },
  {
   "cell_type": "code",
   "execution_count": null,
   "metadata": {},
   "outputs": [],
   "source": [
    "# Plot the histogram with code here.\n"
   ]
  },
  {
   "cell_type": "markdown",
   "metadata": {},
   "source": [
    "## Problem 6: Plotting\n",
    "\n",
    "Try to reproduce the following figure:\n",
    "\n",
    "<center>\n",
    "<img src=\"box.png\" height=\"400\"/>\n",
    "</center>\n",
    "you can use hidedecorations!(ax), and hidespines!(ax) to hide the decorations and spines of the plot.\n",
    "\n",
    "To generate the spiral use the following expression:\n",
    "$$\n",
    "n = 4\\\\ \n",
    "t \\in [0, 2\\pi n]\\\\\n",
    "x = (2\\pi n - t) cos(t)\\\\\n",
    "y = (2\\pi n - t) sin(t)\n",
    "$$\n",
    "\n",
    "To generate the box use the following code:\n",
    "```julia\n",
    "Box(ax, color = colors[1], strokewidth = 0)\n",
    "```"
   ]
  },
  {
   "cell_type": "code",
   "execution_count": null,
   "metadata": {},
   "outputs": [],
   "source": [
    "colors = [\n",
    "    \"#7143E0\", # Light purple\n",
    "    \"#191E44\", # Dark blue\n",
    "    \"#0A9A84\", # Yellow\n",
    "    \"#C0A12B\", # Magenta\n",
    "    \"#701B80\", # Light green\n",
    "    \"#2E6137\", # Spiral color green\n",
    "]\n",
    "# Code to create the above figure"
   ]
  },
  {
   "cell_type": "markdown",
   "metadata": {},
   "source": [
    "## Problem 7: Colatz conjecture\n",
    "\n",
    "Given a positive integer, create a function that counts the steps it takes to reach 1 following the Collatz conjecture algorithm (if the number is odd do $n = 3n+1$ otherwise do $n = n/2$ until you reach 1). Test it with the number 100 to get 25. Ensure that your function is type stable by calling @code_warntype your_function(100) and getting no red text.\n",
    "\n",
    "* **Hint:** You can use the ÷ (\\div \\<tab\\>) to get the division symbol. This does integer division if both arguments are integers."
   ]
  },
  {
   "cell_type": "code",
   "execution_count": null,
   "metadata": {},
   "outputs": [],
   "source": [
    "# Code for Colatz"
   ]
  },
  {
   "cell_type": "code",
   "execution_count": null,
   "metadata": {},
   "outputs": [],
   "source": [
    "# test type instability here"
   ]
  },
  {
   "cell_type": "markdown",
   "metadata": {},
   "source": [
    "## Problem 8: Henon map\n",
    "\n",
    "Create a function that given $u_0$, N it creates an orbit of length N of the Henon map\n",
    "$$\n",
    "x_{n+1} = 1 - 1.4 x_n^2 + y_n \\\\\n",
    "y_{n+1} = 0.3 x_n\n",
    "$$\n",
    "This map produces an orbit iteratively, i.e. starting from u0 = (x0, y0) one applies the above rule to get u1 = (x1, y1), and then applies the rule again on u1 to get u2, and so on. The orbit consists of the sequence of states [u0, u1, u2, ...]. Use u0 = (0.0, 0.0).\n"
   ]
  },
  {
   "cell_type": "code",
   "execution_count": null,
   "metadata": {},
   "outputs": [],
   "source": [
    "u₀ = (0.0,0.0)\n",
    "N = 600;"
   ]
  },
  {
   "cell_type": "code",
   "execution_count": null,
   "metadata": {},
   "outputs": [],
   "source": [
    "# Function for Henon's map"
   ]
  },
  {
   "cell_type": "code",
   "execution_count": null,
   "metadata": {},
   "outputs": [],
   "source": [
    "# scatter the points to check your work"
   ]
  },
  {
   "cell_type": "code",
   "execution_count": null,
   "metadata": {},
   "outputs": [],
   "source": []
  },
  {
   "cell_type": "markdown",
   "metadata": {},
   "source": [
    "# Problem 9: Newton-Rapson's method\n",
    "\n",
    "The Newton-Rapson method is an algorithm to find the roots of a function. Assume that we have a function $f(x)$. A first order Taylor expansion of $f(x)$ around $x_0$ is given by:\n",
    "$$\n",
    "f(x) \\approx f(x_0) + f'(x_0) (x - x_0)\n",
    "$$\n",
    "If we set $f(x) = 0$ we get:\n",
    "$$\n",
    "x = x_0 - \\frac{f(x_0)}{f'(x_0)}\n",
    "$$\n",
    "This means that if we start with an initial guess $x_0$ we can get a better guess $x_1$ by using the above formula. We can then use $x_1$ to get $x_2$ and so on. This is the Newton-Rapson method.\n",
    "\n",
    "* Create a function that given a function $f(x)$, its derivative $f'(x)$, an initial guess $x_0$ and a tolerance $\\epsilon$ it returns the root of the function. The function should stop when the difference between two successive estimates is less than $\\epsilon$.\n",
    "\n",
    "Take:\n",
    "$$\n",
    "f(x) = x^3 - 3x \\\\\n",
    "$$\n",
    "\n",
    "Find the 3 roots of the function using the Newton-Rapson method. Use the initial guesses $x_0 = -2.0$, $x_0 = 0.5$ and $x_0 = 2.0$. Use a tolerance of $\\epsilon = 10^{-6}$"
   ]
  },
  {
   "cell_type": "code",
   "execution_count": null,
   "metadata": {},
   "outputs": [],
   "source": [
    "# Newton Function"
   ]
  },
  {
   "cell_type": "code",
   "execution_count": null,
   "metadata": {},
   "outputs": [],
   "source": [
    "# test your function here"
   ]
  },
  {
   "cell_type": "markdown",
   "metadata": {},
   "source": [
    "Now try with:\n",
    "$$\n",
    "f(x) = x^5 - x - 1\n",
    "$$\n",
    "Use the initial guesses $x_0 = -1.0$ \n",
    "* Be careful with infinite loops. If the algorithm does not converge, it will never stop. You can add a counter to the while loop and stop if the counter reaches a certain value."
   ]
  },
  {
   "cell_type": "code",
   "execution_count": null,
   "metadata": {},
   "outputs": [],
   "source": [
    "# test for the new function here"
   ]
  },
  {
   "cell_type": "markdown",
   "metadata": {},
   "source": [
    "However, this function has a root that is real. You can find it by starting with $x_0 = 1.0$."
   ]
  },
  {
   "cell_type": "code",
   "execution_count": null,
   "metadata": {},
   "outputs": [],
   "source": [
    "# test for the root "
   ]
  }
 ],
 "metadata": {
  "kernelspec": {
   "display_name": "Julia 1.10.0",
   "language": "julia",
   "name": "julia-1.10"
  },
  "language_info": {
   "file_extension": ".jl",
   "mimetype": "application/julia",
   "name": "julia",
   "version": "1.10.0"
  }
 },
 "nbformat": 4,
 "nbformat_minor": 2
}
