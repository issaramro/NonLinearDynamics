{
 "cells": [
  {
   "cell_type": "code",
   "execution_count": 1,
   "metadata": {},
   "outputs": [
    {
     "name": "stderr",
     "output_type": "stream",
     "text": [
      "\u001b[32m\u001b[1m  Activating\u001b[22m\u001b[39m new project at `c:\\Users\\USAID\\Documents\\2023-2024\\phys 218\\NonLinearDynamics\\Julia Practice`\n"
     ]
    }
   ],
   "source": [
    "using Pkg \n",
    "Pkg.activate(\".\")"
   ]
  },
  {
   "cell_type": "markdown",
   "metadata": {},
   "source": [
    "# Types"
   ]
  },
  {
   "cell_type": "markdown",
   "metadata": {},
   "source": [
    "In Juia, the type system follows a certain hierarchy that can be thaught of as a tree. The root of the tree is the `Any` type, which is the supertype of all types. For exemple the `Any` type has two subtypes: `Number` and `String`. The `Number` type has two subtypes: `Integer` and `Float`. The `String` type has no subtypes. The types that are at the bottom of the tree are on leaf node."
   ]
  },
  {
   "cell_type": "code",
   "execution_count": 4,
   "metadata": {},
   "outputs": [
    {
     "data": {
      "text/plain": [
       "Type[]"
      ]
     },
     "metadata": {},
     "output_type": "display_data"
    }
   ],
   "source": [
    "subtypes(Float64)"
   ]
  },
  {
   "cell_type": "code",
   "execution_count": 5,
   "metadata": {},
   "outputs": [
    {
     "data": {
      "text/plain": [
       "AbstractFloat"
      ]
     },
     "metadata": {},
     "output_type": "display_data"
    }
   ],
   "source": [
    "supertype(Float64)"
   ]
  },
  {
   "cell_type": "code",
   "execution_count": 6,
   "metadata": {},
   "outputs": [
    {
     "data": {
      "text/plain": [
       "Real"
      ]
     },
     "metadata": {},
     "output_type": "display_data"
    }
   ],
   "source": [
    "supertype(AbstractFloat)"
   ]
  },
  {
   "cell_type": "code",
   "execution_count": 7,
   "metadata": {},
   "outputs": [
    {
     "data": {
      "text/plain": [
       "Number"
      ]
     },
     "metadata": {},
     "output_type": "display_data"
    }
   ],
   "source": [
    "supertype(Real)"
   ]
  },
  {
   "cell_type": "code",
   "execution_count": 8,
   "metadata": {},
   "outputs": [],
   "source": [
    "using AbstractTrees;\n",
    "AbstractTrees.children(x::Type) = subtypes(x)"
   ]
  },
  {
   "cell_type": "code",
   "execution_count": 9,
   "metadata": {},
   "outputs": [
    {
     "name": "stdout",
     "output_type": "stream",
     "text": [
      "Number\n"
     ]
    },
    {
     "name": "stdout",
     "output_type": "stream",
     "text": [
      "├─ MultiplicativeInverse\n",
      "│  "
     ]
    },
    {
     "name": "stdout",
     "output_type": "stream",
     "text": [
      "├─ SignedMultiplicativeInverse\n",
      "│  └─ UnsignedMultiplicativeInverse\n",
      "├─ Complex\n",
      "├─ Real\n",
      "│  ├─ AbstractFloat\n",
      "│  │  "
     ]
    },
    {
     "name": "stdout",
     "output_type": "stream",
     "text": [
      "├─ BigFloat\n",
      "│  │  ├─ Float16\n",
      "│  │  ├─ Float32\n",
      "│  │  └─ Float64\n",
      "│  ├─ AbstractIrrational\n",
      "│  │  └─ Irrational\n",
      "│  ├─ Integer\n",
      "│  │  ├─ Bool\n",
      "│  │  ├─ Signed\n",
      "│  │  │  ├─ BigInt\n",
      "│  │  │  ├─ Int128\n",
      "│  │  │  ├─ Int16\n",
      "│  │  │  ├─ Int32\n",
      "│  │  │  ├─ Int64\n",
      "│  │  │  └─ Int8\n",
      "│  │  └─ Unsigned\n",
      "│  │     "
     ]
    },
    {
     "name": "stdout",
     "output_type": "stream",
     "text": [
      "├─ UInt128\n",
      "│  │     ├─ UInt16\n",
      "│  │     ├─ UInt32\n",
      "│  │     ├─ UInt64\n",
      "│  │     └─ UInt8\n",
      "│  └─ Rational\n",
      "├─ AbstractQuantity\n",
      "│  └─ Quantity\n",
      "└─ LogScaled\n",
      "   ├─ Gain{L} where L<:LogInfo\n",
      "   └─ Level{L} where L<:LogInfo\n"
     ]
    }
   ],
   "source": [
    "print_tree(Number)"
   ]
  },
  {
   "cell_type": "markdown",
   "metadata": {},
   "source": [
    "I will now introduce a new operator: the `<:` operator which is used to check if a type is a subtype of another type. For exemple, `Number <: Any` is true, but `Any <: Number` is false. The `<:` operator is also used to check if a value is of a certain type. For exemple, `1 <: Number` is true, but `\"1\" <: Number` is false."
   ]
  },
  {
   "cell_type": "code",
   "execution_count": 10,
   "metadata": {},
   "outputs": [
    {
     "data": {
      "text/plain": [
       "true"
      ]
     },
     "metadata": {},
     "output_type": "display_data"
    }
   ],
   "source": [
    "Float64 <: Number"
   ]
  },
  {
   "cell_type": "code",
   "execution_count": 11,
   "metadata": {},
   "outputs": [
    {
     "data": {
      "text/plain": [
       "false"
      ]
     },
     "metadata": {},
     "output_type": "display_data"
    }
   ],
   "source": [
    "Float64 <: Int"
   ]
  },
  {
   "cell_type": "markdown",
   "metadata": {},
   "source": [
    "## Abstract and concrete types"
   ]
  },
  {
   "cell_type": "markdown",
   "metadata": {},
   "source": [
    "You can't create an instance of an abstract type. For exemple, you can't create an instance of the `Number` or `Real` types. You can only create instances of concrete types. For exemple, you can create an instance of the `Int64` type, which is a subtype of `Integer`."
   ]
  },
  {
   "cell_type": "markdown",
   "metadata": {},
   "source": [
    "# Custom types"
   ]
  },
  {
   "cell_type": "markdown",
   "metadata": {},
   "source": [
    "It is very usefull to construct your own types. You can do this using the `struct` and `mutable` key words."
   ]
  },
  {
   "cell_type": "code",
   "execution_count": 12,
   "metadata": {},
   "outputs": [],
   "source": [
    "struct A\n",
    "    x\n",
    "    y\n",
    "end\n",
    "mutable struct B\n",
    "    x\n",
    "    y\n",
    "end"
   ]
  },
  {
   "cell_type": "code",
   "execution_count": 13,
   "metadata": {},
   "outputs": [
    {
     "data": {
      "text/plain": [
       "A(1, 2)"
      ]
     },
     "metadata": {},
     "output_type": "display_data"
    }
   ],
   "source": [
    "a = A(1,2)"
   ]
  },
  {
   "cell_type": "code",
   "execution_count": 14,
   "metadata": {},
   "outputs": [
    {
     "data": {
      "text/plain": [
       "B(1, 2)"
      ]
     },
     "metadata": {},
     "output_type": "display_data"
    }
   ],
   "source": [
    "b = B(1,2)"
   ]
  },
  {
   "cell_type": "markdown",
   "metadata": {},
   "source": [
    "You can access the feilds of a struct using the `.` operator."
   ]
  },
  {
   "cell_type": "code",
   "execution_count": 15,
   "metadata": {},
   "outputs": [
    {
     "data": {
      "text/plain": [
       "1"
      ]
     },
     "metadata": {},
     "output_type": "display_data"
    }
   ],
   "source": [
    "a.x"
   ]
  },
  {
   "cell_type": "markdown",
   "metadata": {},
   "source": [
    "Since B is mutable, you can change the value of its feilds."
   ]
  },
  {
   "cell_type": "code",
   "execution_count": 16,
   "metadata": {},
   "outputs": [
    {
     "data": {
      "text/plain": [
       "B(3, 2)"
      ]
     },
     "metadata": {},
     "output_type": "display_data"
    }
   ],
   "source": [
    "b.x = 3\n",
    "b"
   ]
  },
  {
   "cell_type": "markdown",
   "metadata": {},
   "source": [
    "But for a it will not work"
   ]
  },
  {
   "cell_type": "code",
   "execution_count": 17,
   "metadata": {},
   "outputs": [
    {
     "ename": "ErrorException",
     "evalue": "setfield!: immutable struct of type A cannot be changed",
     "output_type": "error",
     "traceback": [
      "setfield!: immutable struct of type A cannot be changed\n",
      "\n",
      "Stacktrace:\n",
      " [1] setproperty!(x::A, f::Symbol, v::Int64)\n",
      "   @ Base ./Base.jl:41\n",
      " [2] top-level scope\n",
      "   @ ~/Desktop/Spring 2024/Julia_Crash_Course/Course/Day2/types.ipynb:1"
     ]
    }
   ],
   "source": [
    "a.x = 3"
   ]
  },
  {
   "cell_type": "markdown",
   "metadata": {},
   "source": [
    "This is very bad tho, since the compiler can't know what type the feilds of a are. So instead of using `Any` as the type of the feilds, we can specify the type of the feilds."
   ]
  },
  {
   "cell_type": "code",
   "execution_count": 18,
   "metadata": {},
   "outputs": [],
   "source": [
    "struct A_Better\n",
    "    x::Int\n",
    "    y::Int\n",
    "    z::String\n",
    "end"
   ]
  },
  {
   "cell_type": "markdown",
   "metadata": {},
   "source": [
    "# Abstract types"
   ]
  },
  {
   "cell_type": "code",
   "execution_count": 19,
   "metadata": {},
   "outputs": [],
   "source": [
    "abstract type C end"
   ]
  },
  {
   "cell_type": "code",
   "execution_count": 20,
   "metadata": {},
   "outputs": [],
   "source": [
    "struct D <: C\n",
    "    x::Number\n",
    "    y::Number\n",
    "    z::String\n",
    "end"
   ]
  },
  {
   "cell_type": "code",
   "execution_count": 21,
   "metadata": {},
   "outputs": [
    {
     "data": {
      "text/plain": [
       "1-element Vector{Any}:\n",
       " D"
      ]
     },
     "metadata": {},
     "output_type": "display_data"
    }
   ],
   "source": [
    "subtypes(C)"
   ]
  },
  {
   "cell_type": "markdown",
   "metadata": {},
   "source": [
    "This is still bad because D is type unstable. The compiler can't know what type the feilds of D are.\n",
    "But what if we need flexibility?"
   ]
  },
  {
   "cell_type": "markdown",
   "metadata": {},
   "source": [
    "# Generic/ Parametric types"
   ]
  },
  {
   "cell_type": "code",
   "execution_count": 1,
   "metadata": {},
   "outputs": [],
   "source": [
    "struct Gen{T<: Number} \n",
    "    x::T\n",
    "    y::T\n",
    "    z::T\n",
    "end"
   ]
  },
  {
   "cell_type": "code",
   "execution_count": 3,
   "metadata": {},
   "outputs": [
    {
     "data": {
      "text/plain": [
       "Gen{Int64}(1, 2, 3)"
      ]
     },
     "metadata": {},
     "output_type": "display_data"
    }
   ],
   "source": [
    "Gen{Float64}(1,2,3)"
   ]
  },
  {
   "cell_type": "code",
   "execution_count": 24,
   "metadata": {},
   "outputs": [
    {
     "data": {
      "text/plain": [
       "Gen{Int64}(1, 2, 3)"
      ]
     },
     "metadata": {},
     "output_type": "display_data"
    }
   ],
   "source": [
    "Gen{Int}(1.0,2,3)"
   ]
  },
  {
   "cell_type": "markdown",
   "metadata": {},
   "source": [
    "What if the types could be different in one struct? "
   ]
  },
  {
   "cell_type": "code",
   "execution_count": 25,
   "metadata": {},
   "outputs": [],
   "source": [
    "struct Gen2{T,F} \n",
    "    x::T\n",
    "    y::F\n",
    "end"
   ]
  },
  {
   "cell_type": "code",
   "execution_count": 26,
   "metadata": {},
   "outputs": [
    {
     "data": {
      "text/plain": [
       "Gen2{String, Float64}(\"Hello\", 64.0)"
      ]
     },
     "metadata": {},
     "output_type": "display_data"
    }
   ],
   "source": [
    "Gen2{String,Float64}(\"Hello\",64)"
   ]
  },
  {
   "cell_type": "code",
   "execution_count": 27,
   "metadata": {},
   "outputs": [
    {
     "data": {
      "text/plain": [
       "Gen2{String, Int64}(\"Hello\", 64)"
      ]
     },
     "metadata": {},
     "output_type": "display_data"
    }
   ],
   "source": [
    "Gen2(\"Hello\",64)"
   ]
  },
  {
   "cell_type": "markdown",
   "metadata": {},
   "source": [
    "Last example"
   ]
  },
  {
   "cell_type": "code",
   "execution_count": 4,
   "metadata": {},
   "outputs": [],
   "source": [
    "struct Z{T <: Real, F <: Union{Nothing, String}}\n",
    "    x::T\n",
    "    z::Int64\n",
    "    y::F\n",
    "end"
   ]
  },
  {
   "cell_type": "code",
   "execution_count": 7,
   "metadata": {},
   "outputs": [
    {
     "data": {
      "text/plain": [
       "Z{Float64, String}(1.0, 3, \"hello\")"
      ]
     },
     "metadata": {},
     "output_type": "display_data"
    }
   ],
   "source": [
    "Z{Float64,String}(1.0,3,\"hello\")"
   ]
  },
  {
   "cell_type": "code",
   "execution_count": 9,
   "metadata": {},
   "outputs": [
    {
     "data": {
      "text/plain": [
       "Z{Float64, Nothing}(1.0, 3, nothing)"
      ]
     },
     "metadata": {},
     "output_type": "display_data"
    }
   ],
   "source": [
    "Z(1.0,3,nothing)"
   ]
  },
  {
   "cell_type": "markdown",
   "metadata": {},
   "source": [
    "# Multiple dispatch or Overloading\n",
    "\n",
    "In python you can't have two functions with the same name. But in Julia you can. This is called multiple dispatch. The function that is called depends on the types of the arguments. This is very usefull because you can have the same function name for different types. For exemple, you can have a `+` function for integers and a `+` function for floats.\n"
   ]
  },
  {
   "cell_type": "markdown",
   "metadata": {},
   "source": [
    "In python the method is determined by what class the object is an instance of. In Julia, the method is determined by the types of the arguments."
   ]
  },
  {
   "cell_type": "code",
   "execution_count": 31,
   "metadata": {},
   "outputs": [
    {
     "ename": "Base.Meta.ParseError",
     "evalue": "ParseError:\n# Error @ /Users/jason/Desktop/Spring 2024/Julia_Crash_Course/Course/Day2/types.ipynb:1:30\nset_size(x::Real, y::Real) = ... \n#                            └─┘ ── invalid identifier",
     "output_type": "error",
     "traceback": [
      "ParseError:\n",
      "# Error @ /Users/jason/Desktop/Spring 2024/Julia_Crash_Course/Course/Day2/types.ipynb:1:30\n",
      "set_size(x::Real, y::Real) = ... \n",
      "#                            └─┘ ── invalid identifier\n",
      "\n",
      "Stacktrace:\n",
      " [1] top-level scope\n",
      "   @ ~/Desktop/Spring 2024/Julia_Crash_Course/Course/Day2/types.ipynb:1"
     ]
    }
   ],
   "source": [
    "set_size(x::Real, y::Real) = ... \n",
    "set_size(x::Real, y::Real, z::Real) = ...\n",
    "set_size(x::String, y::Real) = ... \n",
    "set_size(x::Real, y::String) = ... \n"
   ]
  },
  {
   "cell_type": "markdown",
   "metadata": {},
   "source": [
    "Meaning you have infinite number of methods for a function."
   ]
  },
  {
   "cell_type": "markdown",
   "metadata": {},
   "source": [
    "## How to make sure that you are calling the right method?"
   ]
  },
  {
   "cell_type": "markdown",
   "metadata": {},
   "source": [
    "Julia will always try to find the method that has the most specific types. For exemple,"
   ]
  },
  {
   "cell_type": "code",
   "execution_count": 32,
   "metadata": {},
   "outputs": [
    {
     "ename": "Base.Meta.ParseError",
     "evalue": "ParseError:\n# Error @ /Users/jason/Desktop/Spring 2024/Julia_Crash_Course/Course/Day2/types.ipynb:1:23\nset_size(A::Vector) = ...\n#                     └─┘ ── invalid identifier",
     "output_type": "error",
     "traceback": [
      "ParseError:\n",
      "# Error @ /Users/jason/Desktop/Spring 2024/Julia_Crash_Course/Course/Day2/types.ipynb:1:23\n",
      "set_size(A::Vector) = ...\n",
      "#                     └─┘ ── invalid identifier\n",
      "\n",
      "Stacktrace:\n",
      " [1] top-level scope\n",
      "   @ ~/Desktop/Spring 2024/Julia_Crash_Course/Course/Day2/types.ipynb:1"
     ]
    }
   ],
   "source": [
    "set_size(A::Vector) = ...\n",
    "set_size(B::Vector{<:Real}) = ...\n",
    "set_size(C::Vector{Union{String,Float64}}) = ...\n",
    "set_size(C::Vector{Float64}) = ..."
   ]
  },
  {
   "cell_type": "markdown",
   "metadata": {},
   "source": [
    "## Notice\n",
    "\n",
    "Method do not belong to the type and so you can define methods after you created the type"
   ]
  },
  {
   "cell_type": "code",
   "execution_count": 33,
   "metadata": {},
   "outputs": [],
   "source": [
    "abstract type Animals end\n",
    "\n",
    "struct Dog <: Animals\n",
    "    name::String\n",
    "    age::Int\n",
    "end\n",
    "struct Cat <: Animals\n",
    "    name::String\n",
    "    age::Int\n",
    "end\n"
   ]
  },
  {
   "cell_type": "code",
   "execution_count": 34,
   "metadata": {},
   "outputs": [
    {
     "data": {
      "text/plain": [
       "meets (generic function with 1 method)"
      ]
     },
     "metadata": {},
     "output_type": "display_data"
    }
   ],
   "source": [
    "function encounter(x::Animals, y::Animals)\n",
    "    verb = meets(x,y)\n",
    "    println(\"$(x.name) meets $(y.name) and they $verb\")\n",
    "end\n",
    "meets(x::Animals, y::Animals) = \"pass by\""
   ]
  },
  {
   "cell_type": "code",
   "execution_count": 35,
   "metadata": {},
   "outputs": [],
   "source": [
    "Fido = Dog(\"Fido\", 3)\n",
    "Rex = Dog(\"Rex\", 5)\n",
    "Mittens = Cat(\"Mittens\", 2);\n",
    "Fluffy = Cat(\"Fluffy\", 4);\n"
   ]
  },
  {
   "cell_type": "code",
   "execution_count": 36,
   "metadata": {},
   "outputs": [
    {
     "name": "stdout",
     "output_type": "stream",
     "text": [
      "Fido meets Mittens and they pass by\n"
     ]
    }
   ],
   "source": [
    "encounter(Fido, Mittens)"
   ]
  },
  {
   "cell_type": "code",
   "execution_count": 37,
   "metadata": {},
   "outputs": [
    {
     "data": {
      "text/plain": [
       "meets (generic function with 5 methods)"
      ]
     },
     "metadata": {},
     "output_type": "display_data"
    }
   ],
   "source": [
    "meets(x::Dog, y::Cat) = \"fight\"\n",
    "meets(x::Cat, y::Dog) = \"fight\"\n",
    "meets(x::Dog, y::Dog) = \"play\"\n",
    "meets(x::Cat, y::Cat) = \"play\""
   ]
  },
  {
   "cell_type": "code",
   "execution_count": 38,
   "metadata": {},
   "outputs": [
    {
     "name": "stdout",
     "output_type": "stream",
     "text": [
      "Fido meets Mittens and they fight\n",
      "Fido meets Rex and they play\n",
      "Mittens meets Fluffy and they play\n",
      "Fluffy meets Mittens and they play\n"
     ]
    }
   ],
   "source": [
    "encounter(Fido, Mittens)\n",
    "encounter(Fido, Rex)\n",
    "encounter(Mittens, Fluffy)\n",
    "encounter(Fluffy, Mittens)\n"
   ]
  },
  {
   "cell_type": "markdown",
   "metadata": {},
   "source": [
    "# Easy to extend"
   ]
  },
  {
   "cell_type": "code",
   "execution_count": 39,
   "metadata": {},
   "outputs": [],
   "source": [
    "struct Rabbit <: Animals\n",
    "    name::String\n",
    "    age::Int\n",
    "end"
   ]
  },
  {
   "cell_type": "code",
   "execution_count": 40,
   "metadata": {},
   "outputs": [
    {
     "data": {
      "text/plain": [
       "meets (generic function with 7 methods)"
      ]
     },
     "metadata": {},
     "output_type": "display_data"
    }
   ],
   "source": [
    "meets(x::Dog, y::Rabbit) = \"chase\"\n",
    "meets(x::Rabbit, y::Cat) = \"hide\""
   ]
  },
  {
   "cell_type": "code",
   "execution_count": 41,
   "metadata": {},
   "outputs": [
    {
     "data": {
      "text/plain": [
       "Rabbit(\"Fluffy\", 1)"
      ]
     },
     "metadata": {},
     "output_type": "display_data"
    }
   ],
   "source": [
    "fluffy = Rabbit(\"Fluffy\", 1)"
   ]
  },
  {
   "cell_type": "code",
   "execution_count": 42,
   "metadata": {},
   "outputs": [
    {
     "name": "stdout",
     "output_type": "stream",
     "text": [
      "Rex meets Fluffy and they chase\n",
      "Fluffy meets Mittens and they hide\n",
      "Fluffy meets Rex and they pass by\n"
     ]
    }
   ],
   "source": [
    "encounter(Rex, fluffy)\n",
    "encounter(fluffy, Mittens)\n",
    "encounter(fluffy, Rex)"
   ]
  },
  {
   "cell_type": "markdown",
   "metadata": {},
   "source": [
    "Making sure of what function is called when you have a large package that you don't know"
   ]
  },
  {
   "cell_type": "code",
   "execution_count": 43,
   "metadata": {},
   "outputs": [
    {
     "data": {
      "text/html": [
       "# 7 methods for generic function <b>meets</b> from \u001b[35mMain\u001b[39m:<ul><li> meets(x::<b>Rabbit</b>, y::<b>Cat</b>) in Main at <a href=\"file:///Users/jason/Desktop/Spring 2024/Julia_Crash_Course/Course/Day2/types.ipynb\" target=\"_blank\">/Users/jason/Desktop/Spring 2024/Julia_Crash_Course/Course/Day2/types.ipynb:2</a></li> <li> meets(x::<b>Dog</b>, y::<b>Rabbit</b>) in Main at <a href=\"file:///Users/jason/Desktop/Spring 2024/Julia_Crash_Course/Course/Day2/types.ipynb\" target=\"_blank\">/Users/jason/Desktop/Spring 2024/Julia_Crash_Course/Course/Day2/types.ipynb:1</a></li> <li> meets(x::<b>Cat</b>, y::<b>Cat</b>) in Main at <a href=\"file:///Users/jason/Desktop/Spring 2024/Julia_Crash_Course/Course/Day2/types.ipynb\" target=\"_blank\">/Users/jason/Desktop/Spring 2024/Julia_Crash_Course/Course/Day2/types.ipynb:4</a></li> <li> meets(x::<b>Dog</b>, y::<b>Dog</b>) in Main at <a href=\"file:///Users/jason/Desktop/Spring 2024/Julia_Crash_Course/Course/Day2/types.ipynb\" target=\"_blank\">/Users/jason/Desktop/Spring 2024/Julia_Crash_Course/Course/Day2/types.ipynb:3</a></li> <li> meets(x::<b>Cat</b>, y::<b>Dog</b>) in Main at <a href=\"file:///Users/jason/Desktop/Spring 2024/Julia_Crash_Course/Course/Day2/types.ipynb\" target=\"_blank\">/Users/jason/Desktop/Spring 2024/Julia_Crash_Course/Course/Day2/types.ipynb:2</a></li> <li> meets(x::<b>Dog</b>, y::<b>Cat</b>) in Main at <a href=\"file:///Users/jason/Desktop/Spring 2024/Julia_Crash_Course/Course/Day2/types.ipynb\" target=\"_blank\">/Users/jason/Desktop/Spring 2024/Julia_Crash_Course/Course/Day2/types.ipynb:1</a></li> <li> meets(x::<b>Animals</b>, y::<b>Animals</b>) in Main at <a href=\"file:///Users/jason/Desktop/Spring 2024/Julia_Crash_Course/Course/Day2/types.ipynb\" target=\"_blank\">/Users/jason/Desktop/Spring 2024/Julia_Crash_Course/Course/Day2/types.ipynb:5</a></li> </ul>"
      ],
      "text/plain": [
       "# 7 methods for generic function \"meets\" from \u001b[35mMain\u001b[39m:\n",
       " [1] meets(\u001b[90mx\u001b[39m::\u001b[1mRabbit\u001b[22m, \u001b[90my\u001b[39m::\u001b[1mCat\u001b[22m)\n",
       "\u001b[90m     @\u001b[39m \u001b[90m~/Desktop/Spring 2024/Julia_Crash_Course/Course/Day2/\u001b[39m\u001b[90m\u001b[4mtypes.ipynb:2\u001b[24m\u001b[39m\n",
       " [2] meets(\u001b[90mx\u001b[39m::\u001b[1mDog\u001b[22m, \u001b[90my\u001b[39m::\u001b[1mRabbit\u001b[22m)\n",
       "\u001b[90m     @\u001b[39m \u001b[90m~/Desktop/Spring 2024/Julia_Crash_Course/Course/Day2/\u001b[39m\u001b[90m\u001b[4mtypes.ipynb:1\u001b[24m\u001b[39m\n",
       " [3] meets(\u001b[90mx\u001b[39m::\u001b[1mCat\u001b[22m, \u001b[90my\u001b[39m::\u001b[1mCat\u001b[22m)\n",
       "\u001b[90m     @\u001b[39m \u001b[90m~/Desktop/Spring 2024/Julia_Crash_Course/Course/Day2/\u001b[39m\u001b[90m\u001b[4mtypes.ipynb:4\u001b[24m\u001b[39m\n",
       " [4] meets(\u001b[90mx\u001b[39m::\u001b[1mDog\u001b[22m, \u001b[90my\u001b[39m::\u001b[1mDog\u001b[22m)\n",
       "\u001b[90m     @\u001b[39m \u001b[90m~/Desktop/Spring 2024/Julia_Crash_Course/Course/Day2/\u001b[39m\u001b[90m\u001b[4mtypes.ipynb:3\u001b[24m\u001b[39m\n",
       " [5] meets(\u001b[90mx\u001b[39m::\u001b[1mCat\u001b[22m, \u001b[90my\u001b[39m::\u001b[1mDog\u001b[22m)\n",
       "\u001b[90m     @\u001b[39m \u001b[90m~/Desktop/Spring 2024/Julia_Crash_Course/Course/Day2/\u001b[39m\u001b[90m\u001b[4mtypes.ipynb:2\u001b[24m\u001b[39m\n",
       " [6] meets(\u001b[90mx\u001b[39m::\u001b[1mDog\u001b[22m, \u001b[90my\u001b[39m::\u001b[1mCat\u001b[22m)\n",
       "\u001b[90m     @\u001b[39m \u001b[90m~/Desktop/Spring 2024/Julia_Crash_Course/Course/Day2/\u001b[39m\u001b[90m\u001b[4mtypes.ipynb:1\u001b[24m\u001b[39m\n",
       " [7] meets(\u001b[90mx\u001b[39m::\u001b[1mAnimals\u001b[22m, \u001b[90my\u001b[39m::\u001b[1mAnimals\u001b[22m)\n",
       "\u001b[90m     @\u001b[39m \u001b[90m~/Desktop/Spring 2024/Julia_Crash_Course/Course/Day2/\u001b[39m\u001b[90m\u001b[4mtypes.ipynb:5\u001b[24m\u001b[39m"
      ]
     },
     "metadata": {},
     "output_type": "display_data"
    }
   ],
   "source": [
    "methods(meets)"
   ]
  },
  {
   "cell_type": "code",
   "execution_count": 44,
   "metadata": {},
   "outputs": [
    {
     "data": {
      "text/html": [
       "meets(x::<b>Dog</b>, y::<b>Rabbit</b>) in Main at <a href=\"file:///Users/jason/Desktop/Spring 2024/Julia_Crash_Course/Course/Day2/types.ipynb\" target=\"_blank\">/Users/jason/Desktop/Spring 2024/Julia_Crash_Course/Course/Day2/types.ipynb:1</a>"
      ],
      "text/plain": [
       "meets(\u001b[90mx\u001b[39m::\u001b[1mDog\u001b[22m, \u001b[90my\u001b[39m::\u001b[1mRabbit\u001b[22m)\n",
       "\u001b[90m     @\u001b[39m \u001b[90mMain\u001b[39m \u001b[90m~/Desktop/Spring 2024/Julia_Crash_Course/Course/Day2/\u001b[39m\u001b[90m\u001b[4mtypes.ipynb:1\u001b[24m\u001b[39m"
      ]
     },
     "metadata": {},
     "output_type": "display_data"
    }
   ],
   "source": [
    "@which meets(Rex, fluffy)"
   ]
  },
  {
   "cell_type": "markdown",
   "metadata": {},
   "source": [
    "# Everything is a method in Julia\n"
   ]
  },
  {
   "cell_type": "code",
   "execution_count": 45,
   "metadata": {},
   "outputs": [
    {
     "data": {
      "text/plain": [
       "+ (generic function with 203 methods)"
      ]
     },
     "metadata": {},
     "output_type": "display_data"
    }
   ],
   "source": [
    "+"
   ]
  },
  {
   "cell_type": "code",
   "execution_count": 46,
   "metadata": {},
   "outputs": [
    {
     "data": {
      "text/html": [
       "# 203 methods for generic function <b>+</b> from \u001b[90mBase\u001b[39m:<ul><li> +(level::<b>Base.CoreLogging.LogLevel</b>, inc::<b>Integer</b>) in Base.CoreLogging at <a href=\"https://github.com/JuliaLang/julia/tree/3120989f39bb7ef7863c4aab8ab1227cf71eec66/base/logging.jl#L131\" target=\"_blank\">logging.jl:131</a></li> <li> +(x::<b>Bool</b>, z::<b>Complex{Bool}</b>) in Base at <a href=\"https://github.com/JuliaLang/julia/tree/3120989f39bb7ef7863c4aab8ab1227cf71eec66/base/complex.jl#L305\" target=\"_blank\">complex.jl:305</a></li> <li> +(x::<b>Bool</b>, y::<b>Bool</b>) in Base at <a href=\"https://github.com/JuliaLang/julia/tree/3120989f39bb7ef7863c4aab8ab1227cf71eec66/base/bool.jl#L166\" target=\"_blank\">bool.jl:166</a></li> <li> +(x::<b>Bool</b>) in Base at <a href=\"https://github.com/JuliaLang/julia/tree/3120989f39bb7ef7863c4aab8ab1227cf71eec66/base/bool.jl#L163\" target=\"_blank\">bool.jl:163</a></li> <li> +(x::<b>Bool</b>, z::<b>Complex</b>) in Base at <a href=\"https://github.com/JuliaLang/julia/tree/3120989f39bb7ef7863c4aab8ab1227cf71eec66/base/complex.jl#L312\" target=\"_blank\">complex.jl:312</a></li> <li> +(x::<b>Real</b>, z::<b>Complex{Bool}</b>) in Base at <a href=\"https://github.com/JuliaLang/julia/tree/3120989f39bb7ef7863c4aab8ab1227cf71eec66/base/complex.jl#L319\" target=\"_blank\">complex.jl:319</a></li> <li> +(x::<b>Bool</b>, y::<b>T</b>)<i> where T<:AbstractFloat</i> in Base at <a href=\"https://github.com/JuliaLang/julia/tree/3120989f39bb7ef7863c4aab8ab1227cf71eec66/base/bool.jl#L173\" target=\"_blank\">bool.jl:173</a></li> <li> +(x::<b>Dates.DateTime</b>, y::<b>Dates.Quarter</b>) in Dates at <a href=\"file:///Users/julia/.julia/scratchspaces/a66863c6-20e8-4ff4-8a62-49f30b1f605e/agent-cache/default-grannysmith-C07ZQ07RJYVY.0/build/default-grannysmith-C07ZQ07RJYVY-0/julialang/julia-release-1-dot-10/usr/share/julia/stdlib/v1.10/Dates/src/arithmetic.jl\" target=\"_blank\">/Applications/Julia-1.10.0.app/Contents/Resources/julia/share/julia/stdlib/v1.10/Dates/src/arithmetic.jl:77</a></li> <li> +(dt::<b>Dates.DateTime</b>, z::<b>Dates.Month</b>) in Dates at <a href=\"file:///Users/julia/.julia/scratchspaces/a66863c6-20e8-4ff4-8a62-49f30b1f605e/agent-cache/default-grannysmith-C07ZQ07RJYVY.0/build/default-grannysmith-C07ZQ07RJYVY-0/julialang/julia-release-1-dot-10/usr/share/julia/stdlib/v1.10/Dates/src/arithmetic.jl\" target=\"_blank\">/Applications/Julia-1.10.0.app/Contents/Resources/julia/share/julia/stdlib/v1.10/Dates/src/arithmetic.jl:49</a></li> <li> +(dt::<b>Dates.DateTime</b>, y::<b>Dates.Year</b>) in Dates at <a href=\"file:///Users/julia/.julia/scratchspaces/a66863c6-20e8-4ff4-8a62-49f30b1f605e/agent-cache/default-grannysmith-C07ZQ07RJYVY.0/build/default-grannysmith-C07ZQ07RJYVY-0/julialang/julia-release-1-dot-10/usr/share/julia/stdlib/v1.10/Dates/src/arithmetic.jl\" target=\"_blank\">/Applications/Julia-1.10.0.app/Contents/Resources/julia/share/julia/stdlib/v1.10/Dates/src/arithmetic.jl:25</a></li> <li> +(x::<b>Dates.DateTime</b>, y::<b>Dates.Period</b>) in Dates at <a href=\"file:///Users/julia/.julia/scratchspaces/a66863c6-20e8-4ff4-8a62-49f30b1f605e/agent-cache/default-grannysmith-C07ZQ07RJYVY.0/build/default-grannysmith-C07ZQ07RJYVY-0/julialang/julia-release-1-dot-10/usr/share/julia/stdlib/v1.10/Dates/src/arithmetic.jl\" target=\"_blank\">/Applications/Julia-1.10.0.app/Contents/Resources/julia/share/julia/stdlib/v1.10/Dates/src/arithmetic.jl:83</a></li> <li> +(::<b>Missing</b>, ::<b>Missing</b>) in Base at <a href=\"https://github.com/JuliaLang/julia/tree/3120989f39bb7ef7863c4aab8ab1227cf71eec66/base/missing.jl#L122\" target=\"_blank\">missing.jl:122</a></li> <li> +(::<b>Missing</b>) in Base at <a href=\"https://github.com/JuliaLang/julia/tree/3120989f39bb7ef7863c4aab8ab1227cf71eec66/base/missing.jl#L101\" target=\"_blank\">missing.jl:101</a></li> <li> +(x::<b>Missing</b>, y::<b>Dates.AbstractTime</b>) in Dates at <a href=\"file:///Users/julia/.julia/scratchspaces/a66863c6-20e8-4ff4-8a62-49f30b1f605e/agent-cache/default-grannysmith-C07ZQ07RJYVY.0/build/default-grannysmith-C07ZQ07RJYVY-0/julialang/julia-release-1-dot-10/usr/share/julia/stdlib/v1.10/Dates/src/arithmetic.jl\" target=\"_blank\">/Applications/Julia-1.10.0.app/Contents/Resources/julia/share/julia/stdlib/v1.10/Dates/src/arithmetic.jl:91</a></li> <li> +(::<b>Missing</b>, ::<b>Number</b>) in Base at <a href=\"https://github.com/JuliaLang/julia/tree/3120989f39bb7ef7863c4aab8ab1227cf71eec66/base/missing.jl#L123\" target=\"_blank\">missing.jl:123</a></li> <li> +(x::<b>Dates.CompoundPeriod</b>, y::<b>Dates.CompoundPeriod</b>) in Dates at <a href=\"file:///Users/julia/.julia/scratchspaces/a66863c6-20e8-4ff4-8a62-49f30b1f605e/agent-cache/default-grannysmith-C07ZQ07RJYVY.0/build/default-grannysmith-C07ZQ07RJYVY-0/julialang/julia-release-1-dot-10/usr/share/julia/stdlib/v1.10/Dates/src/periods.jl\" target=\"_blank\">/Applications/Julia-1.10.0.app/Contents/Resources/julia/share/julia/stdlib/v1.10/Dates/src/periods.jl:334</a></li> <li> +(x::<b>Dates.CompoundPeriod</b>, y::<b>Dates.TimeType</b>) in Dates at <a href=\"file:///Users/julia/.julia/scratchspaces/a66863c6-20e8-4ff4-8a62-49f30b1f605e/agent-cache/default-grannysmith-C07ZQ07RJYVY.0/build/default-grannysmith-C07ZQ07RJYVY-0/julialang/julia-release-1-dot-10/usr/share/julia/stdlib/v1.10/Dates/src/periods.jl\" target=\"_blank\">/Applications/Julia-1.10.0.app/Contents/Resources/julia/share/julia/stdlib/v1.10/Dates/src/periods.jl:362</a></li> <li> +(x::<b>Dates.CompoundPeriod</b>, y::<b>Dates.Period</b>) in Dates at <a href=\"file:///Users/julia/.julia/scratchspaces/a66863c6-20e8-4ff4-8a62-49f30b1f605e/agent-cache/default-grannysmith-C07ZQ07RJYVY.0/build/default-grannysmith-C07ZQ07RJYVY-0/julialang/julia-release-1-dot-10/usr/share/julia/stdlib/v1.10/Dates/src/periods.jl\" target=\"_blank\">/Applications/Julia-1.10.0.app/Contents/Resources/julia/share/julia/stdlib/v1.10/Dates/src/periods.jl:332</a></li> <li> +(a::<b>Pkg.Resolve.VersionWeight</b>, b::<b>Pkg.Resolve.VersionWeight</b>) in Pkg.Resolve at <a href=\"file:///Users/julia/.julia/scratchspaces/a66863c6-20e8-4ff4-8a62-49f30b1f605e/agent-cache/default-grannysmith-C07ZQ07RJYVY.0/build/default-grannysmith-C07ZQ07RJYVY-0/julialang/julia-release-1-dot-10/usr/share/julia/stdlib/v1.10/Pkg/src/Resolve/versionweights.jl\" target=\"_blank\">/Applications/Julia-1.10.0.app/Contents/Resources/julia/share/julia/stdlib/v1.10/Pkg/src/Resolve/versionweights.jl:22</a></li> <li> +(x::<b>Rational{BigInt}</b>, y::<b>Rational{BigInt}</b>) in Base.GMP.MPQ at <a href=\"https://github.com/JuliaLang/julia/tree/3120989f39bb7ef7863c4aab8ab1227cf71eec66/base/gmp.jl#L1061\" target=\"_blank\">gmp.jl:1061</a></li> <li> +(c::<b>BigInt</b>, x::<b>BigFloat</b>) in Base.MPFR at <a href=\"https://github.com/JuliaLang/julia/tree/3120989f39bb7ef7863c4aab8ab1227cf71eec66/base/mpfr.jl#L468\" target=\"_blank\">mpfr.jl:468</a></li> <li> +(x::<b>BigInt</b>, y::<b>BigInt</b>) in Base.GMP at <a href=\"https://github.com/JuliaLang/julia/tree/3120989f39bb7ef7863c4aab8ab1227cf71eec66/base/gmp.jl#L501\" target=\"_blank\">gmp.jl:501</a></li> <li> +(a::<b>BigInt</b>, b::<b>BigInt</b>, c::<b>BigInt</b>) in Base.GMP at <a href=\"https://github.com/JuliaLang/julia/tree/3120989f39bb7ef7863c4aab8ab1227cf71eec66/base/gmp.jl#L541\" target=\"_blank\">gmp.jl:541</a></li> <li> +(a::<b>BigInt</b>, b::<b>BigInt</b>, c::<b>BigInt</b>, d::<b>BigInt</b>) in Base.GMP at <a href=\"https://github.com/JuliaLang/julia/tree/3120989f39bb7ef7863c4aab8ab1227cf71eec66/base/gmp.jl#L542\" target=\"_blank\">gmp.jl:542</a></li> <li> +(a::<b>BigInt</b>, b::<b>BigInt</b>, c::<b>BigInt</b>, d::<b>BigInt</b>, e::<b>BigInt</b>) in Base.GMP at <a href=\"https://github.com/JuliaLang/julia/tree/3120989f39bb7ef7863c4aab8ab1227cf71eec66/base/gmp.jl#L543\" target=\"_blank\">gmp.jl:543</a></li> <li> +(x::<b>BigInt</b>, y::<b>BigInt</b>, rest::<b>BigInt...</b>) in Base.GMP at <a href=\"https://github.com/JuliaLang/julia/tree/3120989f39bb7ef7863c4aab8ab1227cf71eec66/base/gmp.jl#L683\" target=\"_blank\">gmp.jl:683</a></li> <li> +(x::<b>BigInt</b>, c::<b>Union{UInt16, UInt32, UInt64, UInt8}</b>) in Base.GMP at <a href=\"https://github.com/JuliaLang/julia/tree/3120989f39bb7ef7863c4aab8ab1227cf71eec66/base/gmp.jl#L549\" target=\"_blank\">gmp.jl:549</a></li> <li> +(x::<b>BigInt</b>, c::<b>Union{Int16, Int32, Int64, Int8}</b>) in Base.GMP at <a href=\"https://github.com/JuliaLang/julia/tree/3120989f39bb7ef7863c4aab8ab1227cf71eec66/base/gmp.jl#L555\" target=\"_blank\">gmp.jl:555</a></li> <li> +(t::<b>Dates.Time</b>, dt::<b>Dates.Date</b>) in Dates at <a href=\"file:///Users/julia/.julia/scratchspaces/a66863c6-20e8-4ff4-8a62-49f30b1f605e/agent-cache/default-grannysmith-C07ZQ07RJYVY.0/build/default-grannysmith-C07ZQ07RJYVY-0/julialang/julia-release-1-dot-10/usr/share/julia/stdlib/v1.10/Dates/src/arithmetic.jl\" target=\"_blank\">/Applications/Julia-1.10.0.app/Contents/Resources/julia/share/julia/stdlib/v1.10/Dates/src/arithmetic.jl:22</a></li> <li> +(x::<b>Dates.Time</b>, y::<b>Dates.TimePeriod</b>) in Dates at <a href=\"file:///Users/julia/.julia/scratchspaces/a66863c6-20e8-4ff4-8a62-49f30b1f605e/agent-cache/default-grannysmith-C07ZQ07RJYVY.0/build/default-grannysmith-C07ZQ07RJYVY-0/julialang/julia-release-1-dot-10/usr/share/julia/stdlib/v1.10/Dates/src/arithmetic.jl\" target=\"_blank\">/Applications/Julia-1.10.0.app/Contents/Resources/julia/share/julia/stdlib/v1.10/Dates/src/arithmetic.jl:85</a></li> <li> +(a::<b>Pkg.Resolve.FieldValue</b>, b::<b>Pkg.Resolve.FieldValue</b>) in Pkg.Resolve at <a href=\"file:///Users/julia/.julia/scratchspaces/a66863c6-20e8-4ff4-8a62-49f30b1f605e/agent-cache/default-grannysmith-C07ZQ07RJYVY.0/build/default-grannysmith-C07ZQ07RJYVY-0/julialang/julia-release-1-dot-10/usr/share/julia/stdlib/v1.10/Pkg/src/Resolve/fieldvalues.jl\" target=\"_blank\">/Applications/Julia-1.10.0.app/Contents/Resources/julia/share/julia/stdlib/v1.10/Pkg/src/Resolve/fieldvalues.jl:43</a></li> <li> +(x::<b>Dates.Date</b>, y::<b>Dates.Day</b>) in Dates at <a href=\"file:///Users/julia/.julia/scratchspaces/a66863c6-20e8-4ff4-8a62-49f30b1f605e/agent-cache/default-grannysmith-C07ZQ07RJYVY.0/build/default-grannysmith-C07ZQ07RJYVY-0/julialang/julia-release-1-dot-10/usr/share/julia/stdlib/v1.10/Dates/src/arithmetic.jl\" target=\"_blank\">/Applications/Julia-1.10.0.app/Contents/Resources/julia/share/julia/stdlib/v1.10/Dates/src/arithmetic.jl:81</a></li> <li> +(x::<b>Dates.Date</b>, y::<b>Dates.Week</b>) in Dates at <a href=\"file:///Users/julia/.julia/scratchspaces/a66863c6-20e8-4ff4-8a62-49f30b1f605e/agent-cache/default-grannysmith-C07ZQ07RJYVY.0/build/default-grannysmith-C07ZQ07RJYVY-0/julialang/julia-release-1-dot-10/usr/share/julia/stdlib/v1.10/Dates/src/arithmetic.jl\" target=\"_blank\">/Applications/Julia-1.10.0.app/Contents/Resources/julia/share/julia/stdlib/v1.10/Dates/src/arithmetic.jl:79</a></li> <li> +(x::<b>Dates.Date</b>, y::<b>Dates.Quarter</b>) in Dates at <a href=\"file:///Users/julia/.julia/scratchspaces/a66863c6-20e8-4ff4-8a62-49f30b1f605e/agent-cache/default-grannysmith-C07ZQ07RJYVY.0/build/default-grannysmith-C07ZQ07RJYVY-0/julialang/julia-release-1-dot-10/usr/share/julia/stdlib/v1.10/Dates/src/arithmetic.jl\" target=\"_blank\">/Applications/Julia-1.10.0.app/Contents/Resources/julia/share/julia/stdlib/v1.10/Dates/src/arithmetic.jl:75</a></li> <li> +(dt::<b>Dates.Date</b>, z::<b>Dates.Month</b>) in Dates at <a href=\"file:///Users/julia/.julia/scratchspaces/a66863c6-20e8-4ff4-8a62-49f30b1f605e/agent-cache/default-grannysmith-C07ZQ07RJYVY.0/build/default-grannysmith-C07ZQ07RJYVY-0/julialang/julia-release-1-dot-10/usr/share/julia/stdlib/v1.10/Dates/src/arithmetic.jl\" target=\"_blank\">/Applications/Julia-1.10.0.app/Contents/Resources/julia/share/julia/stdlib/v1.10/Dates/src/arithmetic.jl:56</a></li> <li> +(dt::<b>Dates.Date</b>, y::<b>Dates.Year</b>) in Dates at <a href=\"file:///Users/julia/.julia/scratchspaces/a66863c6-20e8-4ff4-8a62-49f30b1f605e/agent-cache/default-grannysmith-C07ZQ07RJYVY.0/build/default-grannysmith-C07ZQ07RJYVY-0/julialang/julia-release-1-dot-10/usr/share/julia/stdlib/v1.10/Dates/src/arithmetic.jl\" target=\"_blank\">/Applications/Julia-1.10.0.app/Contents/Resources/julia/share/julia/stdlib/v1.10/Dates/src/arithmetic.jl:29</a></li> <li> +(dt::<b>Dates.Date</b>, t::<b>Dates.Time</b>) in Dates at <a href=\"file:///Users/julia/.julia/scratchspaces/a66863c6-20e8-4ff4-8a62-49f30b1f605e/agent-cache/default-grannysmith-C07ZQ07RJYVY.0/build/default-grannysmith-C07ZQ07RJYVY-0/julialang/julia-release-1-dot-10/usr/share/julia/stdlib/v1.10/Dates/src/arithmetic.jl\" target=\"_blank\">/Applications/Julia-1.10.0.app/Contents/Resources/julia/share/julia/stdlib/v1.10/Dates/src/arithmetic.jl:21</a></li> <li> +(a::<b>BigFloat</b>, b::<b>BigFloat</b>, c::<b>BigFloat</b>, d::<b>BigFloat</b>, e::<b>BigFloat</b>) in Base.MPFR at <a href=\"https://github.com/JuliaLang/julia/tree/3120989f39bb7ef7863c4aab8ab1227cf71eec66/base/mpfr.jl#L619\" target=\"_blank\">mpfr.jl:619</a></li> <li> +(x::<b>BigFloat</b>, y::<b>BigFloat</b>) in Base.MPFR at <a href=\"https://github.com/JuliaLang/julia/tree/3120989f39bb7ef7863c4aab8ab1227cf71eec66/base/mpfr.jl#L432\" target=\"_blank\">mpfr.jl:432</a></li> <li> +(a::<b>BigFloat</b>, b::<b>BigFloat</b>, c::<b>BigFloat</b>) in Base.MPFR at <a href=\"https://github.com/JuliaLang/julia/tree/3120989f39bb7ef7863c4aab8ab1227cf71eec66/base/mpfr.jl#L606\" target=\"_blank\">mpfr.jl:606</a></li> <li> +(a::<b>BigFloat</b>, b::<b>BigFloat</b>, c::<b>BigFloat</b>, d::<b>BigFloat</b>) in Base.MPFR at <a href=\"https://github.com/JuliaLang/julia/tree/3120989f39bb7ef7863c4aab8ab1227cf71eec66/base/mpfr.jl#L612\" target=\"_blank\">mpfr.jl:612</a></li> <li> +(x::<b>BigFloat</b>, c::<b>BigInt</b>) in Base.MPFR at <a href=\"https://github.com/JuliaLang/julia/tree/3120989f39bb7ef7863c4aab8ab1227cf71eec66/base/mpfr.jl#L463\" target=\"_blank\">mpfr.jl:463</a></li> <li> +(x::<b>BigFloat</b>, c::<b>Union{UInt16, UInt32, UInt64, UInt8}</b>) in Base.MPFR at <a href=\"https://github.com/JuliaLang/julia/tree/3120989f39bb7ef7863c4aab8ab1227cf71eec66/base/mpfr.jl#L439\" target=\"_blank\">mpfr.jl:439</a></li> <li> +(x::<b>BigFloat</b>, c::<b>Union{Int16, Int32, Int64, Int8}</b>) in Base.MPFR at <a href=\"https://github.com/JuliaLang/julia/tree/3120989f39bb7ef7863c4aab8ab1227cf71eec66/base/mpfr.jl#L447\" target=\"_blank\">mpfr.jl:447</a></li> <li> +(x::<b>BigFloat</b>, c::<b>Union{Float16, Float32, Float64}</b>) in Base.MPFR at <a href=\"https://github.com/JuliaLang/julia/tree/3120989f39bb7ef7863c4aab8ab1227cf71eec66/base/mpfr.jl#L455\" target=\"_blank\">mpfr.jl:455</a></li> <li> +(B::<b>BitMatrix</b>, J::<b>LinearAlgebra.UniformScaling</b>) in LinearAlgebra at <a href=\"file:///Users/julia/.julia/scratchspaces/a66863c6-20e8-4ff4-8a62-49f30b1f605e/agent-cache/default-grannysmith-C07ZQ07RJYVY.0/build/default-grannysmith-C07ZQ07RJYVY-0/julialang/julia-release-1-dot-10/usr/share/julia/stdlib/v1.10/LinearAlgebra/src/uniformscaling.jl\" target=\"_blank\">/Applications/Julia-1.10.0.app/Contents/Resources/julia/share/julia/stdlib/v1.10/LinearAlgebra/src/uniformscaling.jl:151</a></li> <li> +(z::<b>Complex{Bool}</b>, x::<b>Bool</b>) in Base at <a href=\"https://github.com/JuliaLang/julia/tree/3120989f39bb7ef7863c4aab8ab1227cf71eec66/base/complex.jl#L306\" target=\"_blank\">complex.jl:306</a></li> <li> +(z::<b>Complex{Bool}</b>, x::<b>Real</b>) in Base at <a href=\"https://github.com/JuliaLang/julia/tree/3120989f39bb7ef7863c4aab8ab1227cf71eec66/base/complex.jl#L320\" target=\"_blank\">complex.jl:320</a></li> <li> +(z::<b>Complex</b>, x::<b>Bool</b>) in Base at <a href=\"https://github.com/JuliaLang/julia/tree/3120989f39bb7ef7863c4aab8ab1227cf71eec66/base/complex.jl#L313\" target=\"_blank\">complex.jl:313</a></li> <li> +(A::<b>LinearAlgebra.LowerTriangular</b>, B::<b>LinearAlgebra.Bidiagonal</b>) in LinearAlgebra at <a href=\"file:///Users/julia/.julia/scratchspaces/a66863c6-20e8-4ff4-8a62-49f30b1f605e/agent-cache/default-grannysmith-C07ZQ07RJYVY.0/build/default-grannysmith-C07ZQ07RJYVY-0/julialang/julia-release-1-dot-10/usr/share/julia/stdlib/v1.10/LinearAlgebra/src/special.jl\" target=\"_blank\">/Applications/Julia-1.10.0.app/Contents/Resources/julia/share/julia/stdlib/v1.10/LinearAlgebra/src/special.jl:91</a></li> <li> +(A::<b>LinearAlgebra.LowerTriangular</b>, B::<b>LinearAlgebra.UnitLowerTriangular</b>) in LinearAlgebra at <a href=\"file:///Users/julia/.julia/scratchspaces/a66863c6-20e8-4ff4-8a62-49f30b1f605e/agent-cache/default-grannysmith-C07ZQ07RJYVY.0/build/default-grannysmith-C07ZQ07RJYVY-0/julialang/julia-release-1-dot-10/usr/share/julia/stdlib/v1.10/LinearAlgebra/src/triangular.jl\" target=\"_blank\">/Applications/Julia-1.10.0.app/Contents/Resources/julia/share/julia/stdlib/v1.10/LinearAlgebra/src/triangular.jl:653</a></li> <li> +(A::<b>LinearAlgebra.LowerTriangular</b>, B::<b>LinearAlgebra.LowerTriangular</b>) in LinearAlgebra at <a href=\"file:///Users/julia/.julia/scratchspaces/a66863c6-20e8-4ff4-8a62-49f30b1f605e/agent-cache/default-grannysmith-C07ZQ07RJYVY.0/build/default-grannysmith-C07ZQ07RJYVY-0/julialang/julia-release-1-dot-10/usr/share/julia/stdlib/v1.10/LinearAlgebra/src/triangular.jl\" target=\"_blank\">/Applications/Julia-1.10.0.app/Contents/Resources/julia/share/julia/stdlib/v1.10/LinearAlgebra/src/triangular.jl:651</a></li> <li> +(A::<b>Array</b>, Bs::<b>Array...</b>) in Base at <a href=\"https://github.com/JuliaLang/julia/tree/3120989f39bb7ef7863c4aab8ab1227cf71eec66/base/arraymath.jl#L12\" target=\"_blank\">arraymath.jl:12</a></li> <li> +(x::<b>Integer</b>, y::<b>AbstractChar</b>) in Base at <a href=\"https://github.com/JuliaLang/julia/tree/3120989f39bb7ef7863c4aab8ab1227cf71eec66/base/char.jl#L247\" target=\"_blank\">char.jl:247</a></li> <li> +(y::<b>Integer</b>, x::<b>Rational</b>) in Base at <a href=\"https://github.com/JuliaLang/julia/tree/3120989f39bb7ef7863c4aab8ab1227cf71eec66/base/rational.jl#L350\" target=\"_blank\">rational.jl:350</a></li> <li> +(x::<b>Integer</b>, y::<b>Ptr</b>) in Base at <a href=\"https://github.com/JuliaLang/julia/tree/3120989f39bb7ef7863c4aab8ab1227cf71eec66/base/pointer.jl#L284\" target=\"_blank\">pointer.jl:284</a></li> <li> +(c::<b>Union{Int16, Int32, Int64, Int8}</b>, x::<b>BigInt</b>) in Base.GMP at <a href=\"https://github.com/JuliaLang/julia/tree/3120989f39bb7ef7863c4aab8ab1227cf71eec66/base/gmp.jl#L556\" target=\"_blank\">gmp.jl:556</a></li> <li> +(c::<b>Union{UInt16, UInt32, UInt64, UInt8}</b>, x::<b>BigInt</b>) in Base.GMP at <a href=\"https://github.com/JuliaLang/julia/tree/3120989f39bb7ef7863c4aab8ab1227cf71eec66/base/gmp.jl#L550\" target=\"_blank\">gmp.jl:550</a></li> <li> +(x::<b>T</b>, y::<b>T</b>)<i> where T<:Union{Int128, Int16, Int32, Int64, Int8, UInt128, UInt16, UInt32, UInt64, UInt8}</i> in Base at <a href=\"https://github.com/JuliaLang/julia/tree/3120989f39bb7ef7863c4aab8ab1227cf71eec66/base/int.jl#L87\" target=\"_blank\">int.jl:87</a></li> <li> +(a::<b>Integer</b>, b::<b>Integer</b>) in Base at <a href=\"https://github.com/JuliaLang/julia/tree/3120989f39bb7ef7863c4aab8ab1227cf71eec66/base/int.jl#L1064\" target=\"_blank\">int.jl:1064</a></li> <li> +(x::<b>Number</b>, J::<b>LinearAlgebra.UniformScaling</b>) in LinearAlgebra at <a href=\"file:///Users/julia/.julia/scratchspaces/a66863c6-20e8-4ff4-8a62-49f30b1f605e/agent-cache/default-grannysmith-C07ZQ07RJYVY.0/build/default-grannysmith-C07ZQ07RJYVY-0/julialang/julia-release-1-dot-10/usr/share/julia/stdlib/v1.10/LinearAlgebra/src/uniformscaling.jl\" target=\"_blank\">/Applications/Julia-1.10.0.app/Contents/Resources/julia/share/julia/stdlib/v1.10/LinearAlgebra/src/uniformscaling.jl:145</a></li> <li> +(::<b>Number</b>, ::<b>Missing</b>) in Base at <a href=\"https://github.com/JuliaLang/julia/tree/3120989f39bb7ef7863c4aab8ab1227cf71eec66/base/missing.jl#L124\" target=\"_blank\">missing.jl:124</a></li> <li> +(x::<b>Number</b>, y::<b>Base.TwicePrecision</b>) in Base at <a href=\"https://github.com/JuliaLang/julia/tree/3120989f39bb7ef7863c4aab8ab1227cf71eec66/base/twiceprecision.jl#L292\" target=\"_blank\">twiceprecision.jl:292</a></li> <li> +(x::<b>Unitful.AbstractQuantity</b>) in Unitful at <a href=\"file:///Users/jason/.julia/packages/Unitful/R4J37/src/quantities.jl\" target=\"_blank\">/Users/jason/.julia/packages/Unitful/R4J37/src/quantities.jl:138</a></li> <li> +(x::<b>Rational</b>) in Base at <a href=\"https://github.com/JuliaLang/julia/tree/3120989f39bb7ef7863c4aab8ab1227cf71eec66/base/rational.jl#L300\" target=\"_blank\">rational.jl:300</a></li> <li> +(z::<b>Complex</b>) in Base at <a href=\"https://github.com/JuliaLang/julia/tree/3120989f39bb7ef7863c4aab8ab1227cf71eec66/base/complex.jl#L292\" target=\"_blank\">complex.jl:292</a></li> <li> +(x::<b>Number</b>) in Base at <a href=\"https://github.com/JuliaLang/julia/tree/3120989f39bb7ef7863c4aab8ab1227cf71eec66/base/operators.jl#L524\" target=\"_blank\">operators.jl:524</a></li> <li> +(x::<b>Unitful.AbstractQuantity{T, D, U} where {T, D, U<:(Unitful.Units{N, D, A} where {N, D, A<:Unitful.Affine})}</b>, y::<b>Unitful.AbstractQuantity{T, D, U} where {T, D, U<:(Unitful.Units{N, D, A} where {N, D, A<:Unitful.Affine})}</b>) in Unitful at <a href=\"file:///Users/jason/.julia/packages/Unitful/R4J37/src/quantities.jl\" target=\"_blank\">/Users/jason/.julia/packages/Unitful/R4J37/src/quantities.jl:158</a></li> <li> +(x::<b>Unitful.AbstractQuantity{S, D, U} where U<:(Unitful.Units{N, D, A} where {N, D, A<:Unitful.Affine})</b>, y::<b>Unitful.AbstractQuantity{T, D}</b>)<i> where {S, T, D}</i> in Unitful at <a href=\"file:///Users/jason/.julia/packages/Unitful/R4J37/src/quantities.jl\" target=\"_blank\">/Users/jason/.julia/packages/Unitful/R4J37/src/quantities.jl:141</a></li> <li> +(x::<b>Unitful.AbstractQuantity</b>, y::<b>Unitful.AbstractQuantity{T, D, U} where {T, D, U<:(Unitful.Units{N, D, A} where {N, D, A<:Unitful.Affine})}</b>) in Unitful at <a href=\"file:///Users/jason/.julia/packages/Unitful/R4J37/src/quantities.jl\" target=\"_blank\">/Users/jason/.julia/packages/Unitful/R4J37/src/quantities.jl:155</a></li> <li> +(x::<b>Unitful.AbstractQuantity{S, D, U}</b>, y::<b>Unitful.AbstractQuantity{T, D, U}</b>)<i> where {S, T, D, U}</i> in Unitful at <a href=\"file:///Users/jason/.julia/packages/Unitful/R4J37/src/quantities.jl\" target=\"_blank\">/Users/jason/.julia/packages/Unitful/R4J37/src/quantities.jl:130</a></li> <li> +(x::<b>Unitful.AbstractQuantity{S, D, SU}</b>, y::<b>Unitful.AbstractQuantity{T, D, TU}</b>)<i> where {S, T, D, SU, TU}</i> in Unitful at <a href=\"file:///Users/jason/.julia/packages/Unitful/R4J37/src/quantities.jl\" target=\"_blank\">/Users/jason/.julia/packages/Unitful/R4J37/src/quantities.jl:133</a></li> <li> +(x::<b>Unitful.AbstractQuantity</b>, y::<b>Unitful.AbstractQuantity</b>) in Unitful at <a href=\"file:///Users/jason/.julia/packages/Unitful/R4J37/src/quantities.jl\" target=\"_blank\">/Users/jason/.julia/packages/Unitful/R4J37/src/quantities.jl:137</a></li> <li> +(x::<b>Rational</b>, y::<b>Rational</b>) in Base at <a href=\"https://github.com/JuliaLang/julia/tree/3120989f39bb7ef7863c4aab8ab1227cf71eec66/base/rational.jl#L314\" target=\"_blank\">rational.jl:314</a></li> <li> +(x::<b>AbstractIrrational</b>, y::<b>AbstractIrrational</b>) in Base at <a href=\"https://github.com/JuliaLang/julia/tree/3120989f39bb7ef7863c4aab8ab1227cf71eec66/base/irrationals.jl#L161\" target=\"_blank\">irrationals.jl:161</a></li> <li> +(x::<b>Level{L, S}</b>, y::<b>Level{L, S}</b>)<i> where {L, S}</i> in Unitful at <a href=\"file:///Users/jason/.julia/packages/Unitful/R4J37/src/logarithm.jl\" target=\"_blank\">/Users/jason/.julia/packages/Unitful/R4J37/src/logarithm.jl:184</a></li> <li> +(x::<b>Gain{L, S}</b>, y::<b>Gain{L, S}</b>)<i> where {L, S}</i> in Unitful at <a href=\"file:///Users/jason/.julia/packages/Unitful/R4J37/src/logarithm.jl\" target=\"_blank\">/Users/jason/.julia/packages/Unitful/R4J37/src/logarithm.jl:185</a></li> <li> +(x::<b>Gain{L, S1}</b>, y::<b>Gain{L, S2}</b>)<i> where {L, S1, S2}</i> in Unitful at <a href=\"file:///Users/jason/.julia/packages/Unitful/R4J37/src/logarithm.jl\" target=\"_blank\">/Users/jason/.julia/packages/Unitful/R4J37/src/logarithm.jl:186</a></li> <li> +(z::<b>Complex</b>, w::<b>Complex</b>) in Base at <a href=\"https://github.com/JuliaLang/julia/tree/3120989f39bb7ef7863c4aab8ab1227cf71eec66/base/complex.jl#L294\" target=\"_blank\">complex.jl:294</a></li> <li> +(x::<b>T</b>, y::<b>T</b>)<i> where T<:Union{Float16, Float32, Float64}</i> in Base at <a href=\"https://github.com/JuliaLang/julia/tree/3120989f39bb7ef7863c4aab8ab1227cf71eec66/base/float.jl#L409\" target=\"_blank\">float.jl:409</a></li> <li> +(x::<b>T</b>, y::<b>T</b>)<i> where T<:Number</i> in Base at <a href=\"https://github.com/JuliaLang/julia/tree/3120989f39bb7ef7863c4aab8ab1227cf71eec66/base/promotion.jl#L507\" target=\"_blank\">promotion.jl:507</a></li> <li> +(x::<b>Rational</b>, y::<b>Integer</b>) in Base at <a href=\"https://github.com/JuliaLang/julia/tree/3120989f39bb7ef7863c4aab8ab1227cf71eec66/base/rational.jl#L343\" target=\"_blank\">rational.jl:343</a></li> <li> +(x::<b>Level{L, S}</b>, y::<b>Gain{L}</b>)<i> where {L, S}</i> in Unitful at <a href=\"file:///Users/jason/.julia/packages/Unitful/R4J37/src/logarithm.jl\" target=\"_blank\">/Users/jason/.julia/packages/Unitful/R4J37/src/logarithm.jl:195</a></li> <li> +(y::<b>AbstractFloat</b>, x::<b>Bool</b>) in Base at <a href=\"https://github.com/JuliaLang/julia/tree/3120989f39bb7ef7863c4aab8ab1227cf71eec66/base/bool.jl#L176\" target=\"_blank\">bool.jl:176</a></li> <li> +(x::<b>Real</b>, z::<b>Complex</b>) in Base at <a href=\"https://github.com/JuliaLang/julia/tree/3120989f39bb7ef7863c4aab8ab1227cf71eec66/base/complex.jl#L331\" target=\"_blank\">complex.jl:331</a></li> <li> +(x::<b>Gain</b>, y::<b>Level</b>) in Unitful at <a href=\"file:///Users/jason/.julia/packages/Unitful/R4J37/src/logarithm.jl\" target=\"_blank\">/Users/jason/.julia/packages/Unitful/R4J37/src/logarithm.jl:198</a></li> <li> +(z::<b>Complex</b>, x::<b>Real</b>) in Base at <a href=\"https://github.com/JuliaLang/julia/tree/3120989f39bb7ef7863c4aab8ab1227cf71eec66/base/complex.jl#L332\" target=\"_blank\">complex.jl:332</a></li> <li> +(c::<b>Union{Float16, Float32, Float64}</b>, x::<b>BigFloat</b>) in Base.MPFR at <a href=\"https://github.com/JuliaLang/julia/tree/3120989f39bb7ef7863c4aab8ab1227cf71eec66/base/mpfr.jl#L460\" target=\"_blank\">mpfr.jl:460</a></li> <li> +(c::<b>Union{Int16, Int32, Int64, Int8}</b>, x::<b>BigFloat</b>) in Base.MPFR at <a href=\"https://github.com/JuliaLang/julia/tree/3120989f39bb7ef7863c4aab8ab1227cf71eec66/base/mpfr.jl#L452\" target=\"_blank\">mpfr.jl:452</a></li> <li> +(c::<b>Union{UInt16, UInt32, UInt64, UInt8}</b>, x::<b>BigFloat</b>) in Base.MPFR at <a href=\"https://github.com/JuliaLang/julia/tree/3120989f39bb7ef7863c4aab8ab1227cf71eec66/base/mpfr.jl#L444\" target=\"_blank\">mpfr.jl:444</a></li> <li> +(x::<b>Number</b>, y::<b>Number</b>) in Base at <a href=\"https://github.com/JuliaLang/julia/tree/3120989f39bb7ef7863c4aab8ab1227cf71eec66/base/promotion.jl#L422\" target=\"_blank\">promotion.jl:422</a></li> <li> +(F::<b>LinearAlgebra.Hessenberg</b>, J::<b>LinearAlgebra.UniformScaling</b>) in LinearAlgebra at <a href=\"file:///Users/julia/.julia/scratchspaces/a66863c6-20e8-4ff4-8a62-49f30b1f605e/agent-cache/default-grannysmith-C07ZQ07RJYVY.0/build/default-grannysmith-C07ZQ07RJYVY-0/julialang/julia-release-1-dot-10/usr/share/julia/stdlib/v1.10/LinearAlgebra/src/hessenberg.jl\" target=\"_blank\">/Applications/Julia-1.10.0.app/Contents/Resources/julia/share/julia/stdlib/v1.10/LinearAlgebra/src/hessenberg.jl:560</a></li> <li> +(x::<b>Unitful.AbstractQuantity</b>, y::<b>Union{Dates.Day, Dates.Hour, Dates.Microsecond, Dates.Millisecond, Dates.Minute, Dates.Nanosecond, Dates.Second, Dates.Week}</b>) in Unitful at <a href=\"file:///Users/jason/.julia/packages/Unitful/R4J37/src/dates.jl\" target=\"_blank\">/Users/jason/.julia/packages/Unitful/R4J37/src/dates.jl:87</a></li> <li> +(A::<b>LinearAlgebra.UnitLowerTriangular</b>, B::<b>LinearAlgebra.Bidiagonal</b>) in LinearAlgebra at <a href=\"file:///Users/julia/.julia/scratchspaces/a66863c6-20e8-4ff4-8a62-49f30b1f605e/agent-cache/default-grannysmith-C07ZQ07RJYVY.0/build/default-grannysmith-C07ZQ07RJYVY-0/julialang/julia-release-1-dot-10/usr/share/julia/stdlib/v1.10/LinearAlgebra/src/special.jl\" target=\"_blank\">/Applications/Julia-1.10.0.app/Contents/Resources/julia/share/julia/stdlib/v1.10/LinearAlgebra/src/special.jl:91</a></li> <li> +(UL::<b>LinearAlgebra.UnitLowerTriangular</b>, J::<b>LinearAlgebra.UniformScaling</b>) in LinearAlgebra at <a href=\"file:///Users/julia/.julia/scratchspaces/a66863c6-20e8-4ff4-8a62-49f30b1f605e/agent-cache/default-grannysmith-C07ZQ07RJYVY.0/build/default-grannysmith-C07ZQ07RJYVY-0/julialang/julia-release-1-dot-10/usr/share/julia/stdlib/v1.10/LinearAlgebra/src/uniformscaling.jl\" target=\"_blank\">/Applications/Julia-1.10.0.app/Contents/Resources/julia/share/julia/stdlib/v1.10/LinearAlgebra/src/uniformscaling.jl:181</a></li> <li> +(A::<b>LinearAlgebra.UnitLowerTriangular</b>, B::<b>LinearAlgebra.UnitLowerTriangular</b>) in LinearAlgebra at <a href=\"file:///Users/julia/.julia/scratchspaces/a66863c6-20e8-4ff4-8a62-49f30b1f605e/agent-cache/default-grannysmith-C07ZQ07RJYVY.0/build/default-grannysmith-C07ZQ07RJYVY-0/julialang/julia-release-1-dot-10/usr/share/julia/stdlib/v1.10/LinearAlgebra/src/triangular.jl\" target=\"_blank\">/Applications/Julia-1.10.0.app/Contents/Resources/julia/share/julia/stdlib/v1.10/LinearAlgebra/src/triangular.jl:657</a></li> <li> +(A::<b>LinearAlgebra.UnitLowerTriangular</b>, B::<b>LinearAlgebra.LowerTriangular</b>) in LinearAlgebra at <a href=\"file:///Users/julia/.julia/scratchspaces/a66863c6-20e8-4ff4-8a62-49f30b1f605e/agent-cache/default-grannysmith-C07ZQ07RJYVY.0/build/default-grannysmith-C07ZQ07RJYVY-0/julialang/julia-release-1-dot-10/usr/share/julia/stdlib/v1.10/LinearAlgebra/src/triangular.jl\" target=\"_blank\">/Applications/Julia-1.10.0.app/Contents/Resources/julia/share/julia/stdlib/v1.10/LinearAlgebra/src/triangular.jl:655</a></li> <li> +(A::<b>LinearAlgebra.Hermitian</b>, J::<b>LinearAlgebra.UniformScaling{<:Complex}</b>) in LinearAlgebra at <a href=\"file:///Users/julia/.julia/scratchspaces/a66863c6-20e8-4ff4-8a62-49f30b1f605e/agent-cache/default-grannysmith-C07ZQ07RJYVY.0/build/default-grannysmith-C07ZQ07RJYVY-0/julialang/julia-release-1-dot-10/usr/share/julia/stdlib/v1.10/LinearAlgebra/src/uniformscaling.jl\" target=\"_blank\">/Applications/Julia-1.10.0.app/Contents/Resources/julia/share/julia/stdlib/v1.10/LinearAlgebra/src/uniformscaling.jl:195</a></li> <li> +(H::<b>LinearAlgebra.Hermitian</b>, D::<b>LinearAlgebra.Diagonal{var\"#s988\", V} where {var\"#s988\"<:Real, V<:AbstractVector{var\"#s988\"}}</b>) in LinearAlgebra at <a href=\"file:///Users/julia/.julia/scratchspaces/a66863c6-20e8-4ff4-8a62-49f30b1f605e/agent-cache/default-grannysmith-C07ZQ07RJYVY.0/build/default-grannysmith-C07ZQ07RJYVY-0/julialang/julia-release-1-dot-10/usr/share/julia/stdlib/v1.10/LinearAlgebra/src/diagonal.jl\" target=\"_blank\">/Applications/Julia-1.10.0.app/Contents/Resources/julia/share/julia/stdlib/v1.10/LinearAlgebra/src/diagonal.jl:238</a></li> <li> +(A::<b>LinearAlgebra.Hermitian</b>, B::<b>LinearAlgebra.SymTridiagonal{var\"#s126\", V} where {var\"#s126\"<:Real, V<:AbstractVector{var\"#s126\"}}</b>) in LinearAlgebra at <a href=\"file:///Users/julia/.julia/scratchspaces/a66863c6-20e8-4ff4-8a62-49f30b1f605e/agent-cache/default-grannysmith-C07ZQ07RJYVY.0/build/default-grannysmith-C07ZQ07RJYVY-0/julialang/julia-release-1-dot-10/usr/share/julia/stdlib/v1.10/LinearAlgebra/src/symmetric.jl\" target=\"_blank\">/Applications/Julia-1.10.0.app/Contents/Resources/julia/share/julia/stdlib/v1.10/LinearAlgebra/src/symmetric.jl:523</a></li> <li> +(A::<b>LinearAlgebra.Hermitian</b>, B::<b>LinearAlgebra.Symmetric{var\"#s988\", S} where {var\"#s988\"<:Real, S<:(AbstractMatrix{<:var\"#s988\"})}</b>) in LinearAlgebra at <a href=\"file:///Users/julia/.julia/scratchspaces/a66863c6-20e8-4ff4-8a62-49f30b1f605e/agent-cache/default-grannysmith-C07ZQ07RJYVY.0/build/default-grannysmith-C07ZQ07RJYVY-0/julialang/julia-release-1-dot-10/usr/share/julia/stdlib/v1.10/LinearAlgebra/src/symmetric.jl\" target=\"_blank\">/Applications/Julia-1.10.0.app/Contents/Resources/julia/share/julia/stdlib/v1.10/LinearAlgebra/src/symmetric.jl:518</a></li> <li> +(A::<b>LinearAlgebra.Hermitian</b>, B::<b>LinearAlgebra.Hermitian</b>) in LinearAlgebra at <a href=\"file:///Users/julia/.julia/scratchspaces/a66863c6-20e8-4ff4-8a62-49f30b1f605e/agent-cache/default-grannysmith-C07ZQ07RJYVY.0/build/default-grannysmith-C07ZQ07RJYVY-0/julialang/julia-release-1-dot-10/usr/share/julia/stdlib/v1.10/LinearAlgebra/src/symmetric.jl\" target=\"_blank\">/Applications/Julia-1.10.0.app/Contents/Resources/julia/share/julia/stdlib/v1.10/LinearAlgebra/src/symmetric.jl:504</a></li> <li> +(x::<b>Dates.Period</b>, r::<b>AbstractRange{<:Dates.TimeType}</b>) in Dates at <a href=\"file:///Users/julia/.julia/scratchspaces/a66863c6-20e8-4ff4-8a62-49f30b1f605e/agent-cache/default-grannysmith-C07ZQ07RJYVY.0/build/default-grannysmith-C07ZQ07RJYVY-0/julialang/julia-release-1-dot-10/usr/share/julia/stdlib/v1.10/Dates/src/ranges.jl\" target=\"_blank\">/Applications/Julia-1.10.0.app/Contents/Resources/julia/share/julia/stdlib/v1.10/Dates/src/ranges.jl:64</a></li> <li> +(y::<b>Dates.Period</b>, x::<b>Dates.TimeType</b>) in Dates at <a href=\"file:///Users/julia/.julia/scratchspaces/a66863c6-20e8-4ff4-8a62-49f30b1f605e/agent-cache/default-grannysmith-C07ZQ07RJYVY.0/build/default-grannysmith-C07ZQ07RJYVY-0/julialang/julia-release-1-dot-10/usr/share/julia/stdlib/v1.10/Dates/src/arithmetic.jl\" target=\"_blank\">/Applications/Julia-1.10.0.app/Contents/Resources/julia/share/julia/stdlib/v1.10/Dates/src/arithmetic.jl:87</a></li> <li> +(y::<b>Dates.Period</b>, x::<b>Dates.CompoundPeriod</b>) in Dates at <a href=\"file:///Users/julia/.julia/scratchspaces/a66863c6-20e8-4ff4-8a62-49f30b1f605e/agent-cache/default-grannysmith-C07ZQ07RJYVY.0/build/default-grannysmith-C07ZQ07RJYVY-0/julialang/julia-release-1-dot-10/usr/share/julia/stdlib/v1.10/Dates/src/periods.jl\" target=\"_blank\">/Applications/Julia-1.10.0.app/Contents/Resources/julia/share/julia/stdlib/v1.10/Dates/src/periods.jl:333</a></li> <li> +(x::<b>P</b>, y::<b>P</b>)<i> where P<:Dates.Period</i> in Dates at <a href=\"file:///Users/julia/.julia/scratchspaces/a66863c6-20e8-4ff4-8a62-49f30b1f605e/agent-cache/default-grannysmith-C07ZQ07RJYVY.0/build/default-grannysmith-C07ZQ07RJYVY-0/julialang/julia-release-1-dot-10/usr/share/julia/stdlib/v1.10/Dates/src/periods.jl\" target=\"_blank\">/Applications/Julia-1.10.0.app/Contents/Resources/julia/share/julia/stdlib/v1.10/Dates/src/periods.jl:75</a></li> <li> +(x::<b>Dates.Period</b>, y::<b>Dates.Period</b>) in Dates at <a href=\"file:///Users/julia/.julia/scratchspaces/a66863c6-20e8-4ff4-8a62-49f30b1f605e/agent-cache/default-grannysmith-C07ZQ07RJYVY.0/build/default-grannysmith-C07ZQ07RJYVY-0/julialang/julia-release-1-dot-10/usr/share/julia/stdlib/v1.10/Dates/src/periods.jl\" target=\"_blank\">/Applications/Julia-1.10.0.app/Contents/Resources/julia/share/julia/stdlib/v1.10/Dates/src/periods.jl:331</a></li> <li> +(x::<b>Ptr</b>, y::<b>Integer</b>) in Base at <a href=\"https://github.com/JuliaLang/julia/tree/3120989f39bb7ef7863c4aab8ab1227cf71eec66/base/pointer.jl#L282\" target=\"_blank\">pointer.jl:282</a></li> <li> +(r1::<b>StepRangeLen{T, R}</b>, r2::<b>StepRangeLen{T, R}</b>)<i> where {R<:Base.TwicePrecision, T}</i> in Base at <a href=\"https://github.com/JuliaLang/julia/tree/3120989f39bb7ef7863c4aab8ab1227cf71eec66/base/twiceprecision.jl#L626\" target=\"_blank\">twiceprecision.jl:626</a></li> <li> +(r1::<b>StepRangeLen{T, S}</b>, r2::<b>StepRangeLen{T, S}</b>)<i> where {T, S}</i> in Base at <a href=\"https://github.com/JuliaLang/julia/tree/3120989f39bb7ef7863c4aab8ab1227cf71eec66/base/range.jl#L1477\" target=\"_blank\">range.jl:1477</a></li> <li> +(A::<b>LinearAlgebra.Tridiagonal</b>, B::<b>LinearAlgebra.UniformScaling</b>) in LinearAlgebra at <a href=\"file:///Users/julia/.julia/scratchspaces/a66863c6-20e8-4ff4-8a62-49f30b1f605e/agent-cache/default-grannysmith-C07ZQ07RJYVY.0/build/default-grannysmith-C07ZQ07RJYVY-0/julialang/julia-release-1-dot-10/usr/share/julia/stdlib/v1.10/LinearAlgebra/src/special.jl\" target=\"_blank\">/Applications/Julia-1.10.0.app/Contents/Resources/julia/share/julia/stdlib/v1.10/LinearAlgebra/src/special.jl:232</a></li> <li> +(B::<b>LinearAlgebra.Tridiagonal</b>, A::<b>LinearAlgebra.Bidiagonal</b>) in LinearAlgebra</li> <li> +(B::<b>LinearAlgebra.Tridiagonal</b>, A::<b>LinearAlgebra.Diagonal</b>) in LinearAlgebra</li> <li> +(A::<b>LinearAlgebra.Tridiagonal</b>, B::<b>LinearAlgebra.SymTridiagonal</b>) in LinearAlgebra at <a href=\"file:///Users/julia/.julia/scratchspaces/a66863c6-20e8-4ff4-8a62-49f30b1f605e/agent-cache/default-grannysmith-C07ZQ07RJYVY.0/build/default-grannysmith-C07ZQ07RJYVY-0/julialang/julia-release-1-dot-10/usr/share/julia/stdlib/v1.10/LinearAlgebra/src/special.jl\" target=\"_blank\">/Applications/Julia-1.10.0.app/Contents/Resources/julia/share/julia/stdlib/v1.10/LinearAlgebra/src/special.jl:183</a></li> <li> +(x::<b>LinearAlgebra.Tridiagonal</b>, H::<b>LinearAlgebra.UpperHessenberg</b>) in LinearAlgebra at <a href=\"file:///Users/julia/.julia/scratchspaces/a66863c6-20e8-4ff4-8a62-49f30b1f605e/agent-cache/default-grannysmith-C07ZQ07RJYVY.0/build/default-grannysmith-C07ZQ07RJYVY-0/julialang/julia-release-1-dot-10/usr/share/julia/stdlib/v1.10/LinearAlgebra/src/hessenberg.jl\" target=\"_blank\">/Applications/Julia-1.10.0.app/Contents/Resources/julia/share/julia/stdlib/v1.10/LinearAlgebra/src/hessenberg.jl:120</a></li> <li> +(A::<b>LinearAlgebra.Tridiagonal</b>, B::<b>LinearAlgebra.Tridiagonal</b>) in LinearAlgebra at <a href=\"file:///Users/julia/.julia/scratchspaces/a66863c6-20e8-4ff4-8a62-49f30b1f605e/agent-cache/default-grannysmith-C07ZQ07RJYVY.0/build/default-grannysmith-C07ZQ07RJYVY-0/julialang/julia-release-1-dot-10/usr/share/julia/stdlib/v1.10/LinearAlgebra/src/tridiag.jl\" target=\"_blank\">/Applications/Julia-1.10.0.app/Contents/Resources/julia/share/julia/stdlib/v1.10/LinearAlgebra/src/tridiag.jl:739</a></li> <li> +(A::<b>LinearAlgebra.Bidiagonal</b>, B::<b>LinearAlgebra.LowerTriangular</b>) in LinearAlgebra at <a href=\"file:///Users/julia/.julia/scratchspaces/a66863c6-20e8-4ff4-8a62-49f30b1f605e/agent-cache/default-grannysmith-C07ZQ07RJYVY.0/build/default-grannysmith-C07ZQ07RJYVY-0/julialang/julia-release-1-dot-10/usr/share/julia/stdlib/v1.10/LinearAlgebra/src/special.jl\" target=\"_blank\">/Applications/Julia-1.10.0.app/Contents/Resources/julia/share/julia/stdlib/v1.10/LinearAlgebra/src/special.jl:99</a></li> <li> +(A::<b>LinearAlgebra.Bidiagonal</b>, B::<b>LinearAlgebra.Tridiagonal</b>) in LinearAlgebra at <a href=\"file:///Users/julia/.julia/scratchspaces/a66863c6-20e8-4ff4-8a62-49f30b1f605e/agent-cache/default-grannysmith-C07ZQ07RJYVY.0/build/default-grannysmith-C07ZQ07RJYVY-0/julialang/julia-release-1-dot-10/usr/share/julia/stdlib/v1.10/LinearAlgebra/src/special.jl\" target=\"_blank\">/Applications/Julia-1.10.0.app/Contents/Resources/julia/share/julia/stdlib/v1.10/LinearAlgebra/src/special.jl:202</a></li> <li> +(A::<b>LinearAlgebra.Bidiagonal</b>, B::<b>LinearAlgebra.UpperTriangular</b>) in LinearAlgebra at <a href=\"file:///Users/julia/.julia/scratchspaces/a66863c6-20e8-4ff4-8a62-49f30b1f605e/agent-cache/default-grannysmith-C07ZQ07RJYVY.0/build/default-grannysmith-C07ZQ07RJYVY-0/julialang/julia-release-1-dot-10/usr/share/julia/stdlib/v1.10/LinearAlgebra/src/special.jl\" target=\"_blank\">/Applications/Julia-1.10.0.app/Contents/Resources/julia/share/julia/stdlib/v1.10/LinearAlgebra/src/special.jl:99</a></li> <li> +(x::<b>LinearAlgebra.Bidiagonal</b>, H::<b>LinearAlgebra.UpperHessenberg</b>) in LinearAlgebra at <a href=\"file:///Users/julia/.julia/scratchspaces/a66863c6-20e8-4ff4-8a62-49f30b1f605e/agent-cache/default-grannysmith-C07ZQ07RJYVY.0/build/default-grannysmith-C07ZQ07RJYVY-0/julialang/julia-release-1-dot-10/usr/share/julia/stdlib/v1.10/LinearAlgebra/src/hessenberg.jl\" target=\"_blank\">/Applications/Julia-1.10.0.app/Contents/Resources/julia/share/julia/stdlib/v1.10/LinearAlgebra/src/hessenberg.jl:120</a></li> <li> +(A::<b>LinearAlgebra.Bidiagonal</b>, B::<b>LinearAlgebra.Bidiagonal</b>) in LinearAlgebra at <a href=\"file:///Users/julia/.julia/scratchspaces/a66863c6-20e8-4ff4-8a62-49f30b1f605e/agent-cache/default-grannysmith-C07ZQ07RJYVY.0/build/default-grannysmith-C07ZQ07RJYVY-0/julialang/julia-release-1-dot-10/usr/share/julia/stdlib/v1.10/LinearAlgebra/src/bidiag.jl\" target=\"_blank\">/Applications/Julia-1.10.0.app/Contents/Resources/julia/share/julia/stdlib/v1.10/LinearAlgebra/src/bidiag.jl:390</a></li> <li> +(A::<b>LinearAlgebra.Bidiagonal</b>, B::<b>LinearAlgebra.UnitLowerTriangular</b>) in LinearAlgebra at <a href=\"file:///Users/julia/.julia/scratchspaces/a66863c6-20e8-4ff4-8a62-49f30b1f605e/agent-cache/default-grannysmith-C07ZQ07RJYVY.0/build/default-grannysmith-C07ZQ07RJYVY-0/julialang/julia-release-1-dot-10/usr/share/julia/stdlib/v1.10/LinearAlgebra/src/special.jl\" target=\"_blank\">/Applications/Julia-1.10.0.app/Contents/Resources/julia/share/julia/stdlib/v1.10/LinearAlgebra/src/special.jl:99</a></li> <li> +(A::<b>LinearAlgebra.Bidiagonal</b>, B::<b>LinearAlgebra.UnitUpperTriangular</b>) in LinearAlgebra at <a href=\"file:///Users/julia/.julia/scratchspaces/a66863c6-20e8-4ff4-8a62-49f30b1f605e/agent-cache/default-grannysmith-C07ZQ07RJYVY.0/build/default-grannysmith-C07ZQ07RJYVY-0/julialang/julia-release-1-dot-10/usr/share/julia/stdlib/v1.10/LinearAlgebra/src/special.jl\" target=\"_blank\">/Applications/Julia-1.10.0.app/Contents/Resources/julia/share/julia/stdlib/v1.10/LinearAlgebra/src/special.jl:99</a></li> <li> +(A::<b>LinearAlgebra.Bidiagonal</b>, B::<b>LinearAlgebra.UniformScaling</b>) in LinearAlgebra at <a href=\"file:///Users/julia/.julia/scratchspaces/a66863c6-20e8-4ff4-8a62-49f30b1f605e/agent-cache/default-grannysmith-C07ZQ07RJYVY.0/build/default-grannysmith-C07ZQ07RJYVY-0/julialang/julia-release-1-dot-10/usr/share/julia/stdlib/v1.10/LinearAlgebra/src/special.jl\" target=\"_blank\">/Applications/Julia-1.10.0.app/Contents/Resources/julia/share/julia/stdlib/v1.10/LinearAlgebra/src/special.jl:242</a></li> <li> +(A::<b>LinearAlgebra.Bidiagonal</b>, B::<b>LinearAlgebra.SymTridiagonal</b>) in LinearAlgebra at <a href=\"file:///Users/julia/.julia/scratchspaces/a66863c6-20e8-4ff4-8a62-49f30b1f605e/agent-cache/default-grannysmith-C07ZQ07RJYVY.0/build/default-grannysmith-C07ZQ07RJYVY-0/julialang/julia-release-1-dot-10/usr/share/julia/stdlib/v1.10/LinearAlgebra/src/special.jl\" target=\"_blank\">/Applications/Julia-1.10.0.app/Contents/Resources/julia/share/julia/stdlib/v1.10/LinearAlgebra/src/special.jl:217</a></li> <li> +(A::<b>LinearAlgebra.Bidiagonal</b>, B::<b>LinearAlgebra.Diagonal</b>) in LinearAlgebra at <a href=\"file:///Users/julia/.julia/scratchspaces/a66863c6-20e8-4ff4-8a62-49f30b1f605e/agent-cache/default-grannysmith-C07ZQ07RJYVY.0/build/default-grannysmith-C07ZQ07RJYVY-0/julialang/julia-release-1-dot-10/usr/share/julia/stdlib/v1.10/LinearAlgebra/src/special.jl\" target=\"_blank\">/Applications/Julia-1.10.0.app/Contents/Resources/julia/share/julia/stdlib/v1.10/LinearAlgebra/src/special.jl:151</a></li> <li> +(J::<b>LinearAlgebra.UniformScaling</b>, B::<b>BitMatrix</b>) in LinearAlgebra at <a href=\"file:///Users/julia/.julia/scratchspaces/a66863c6-20e8-4ff4-8a62-49f30b1f605e/agent-cache/default-grannysmith-C07ZQ07RJYVY.0/build/default-grannysmith-C07ZQ07RJYVY-0/julialang/julia-release-1-dot-10/usr/share/julia/stdlib/v1.10/LinearAlgebra/src/uniformscaling.jl\" target=\"_blank\">/Applications/Julia-1.10.0.app/Contents/Resources/julia/share/julia/stdlib/v1.10/LinearAlgebra/src/uniformscaling.jl:152</a></li> <li> +(B::<b>LinearAlgebra.UniformScaling</b>, A::<b>LinearAlgebra.Tridiagonal</b>) in LinearAlgebra</li> <li> +(B::<b>LinearAlgebra.UniformScaling</b>, A::<b>LinearAlgebra.Bidiagonal</b>) in LinearAlgebra</li> <li> +(J::<b>LinearAlgebra.UniformScaling</b>, x::<b>Number</b>) in LinearAlgebra at <a href=\"file:///Users/julia/.julia/scratchspaces/a66863c6-20e8-4ff4-8a62-49f30b1f605e/agent-cache/default-grannysmith-C07ZQ07RJYVY.0/build/default-grannysmith-C07ZQ07RJYVY-0/julialang/julia-release-1-dot-10/usr/share/julia/stdlib/v1.10/LinearAlgebra/src/uniformscaling.jl\" target=\"_blank\">/Applications/Julia-1.10.0.app/Contents/Resources/julia/share/julia/stdlib/v1.10/LinearAlgebra/src/uniformscaling.jl:144</a></li> <li> +(x::<b>LinearAlgebra.UniformScaling</b>, H::<b>LinearAlgebra.UpperHessenberg</b>) in LinearAlgebra at <a href=\"file:///Users/julia/.julia/scratchspaces/a66863c6-20e8-4ff4-8a62-49f30b1f605e/agent-cache/default-grannysmith-C07ZQ07RJYVY.0/build/default-grannysmith-C07ZQ07RJYVY-0/julialang/julia-release-1-dot-10/usr/share/julia/stdlib/v1.10/LinearAlgebra/src/hessenberg.jl\" target=\"_blank\">/Applications/Julia-1.10.0.app/Contents/Resources/julia/share/julia/stdlib/v1.10/LinearAlgebra/src/hessenberg.jl:120</a></li> <li> +(J1::<b>LinearAlgebra.UniformScaling</b>, J2::<b>LinearAlgebra.UniformScaling</b>) in LinearAlgebra at <a href=\"file:///Users/julia/.julia/scratchspaces/a66863c6-20e8-4ff4-8a62-49f30b1f605e/agent-cache/default-grannysmith-C07ZQ07RJYVY.0/build/default-grannysmith-C07ZQ07RJYVY-0/julialang/julia-release-1-dot-10/usr/share/julia/stdlib/v1.10/LinearAlgebra/src/uniformscaling.jl\" target=\"_blank\">/Applications/Julia-1.10.0.app/Contents/Resources/julia/share/julia/stdlib/v1.10/LinearAlgebra/src/uniformscaling.jl:150</a></li> <li> +(B::<b>LinearAlgebra.UniformScaling</b>, A::<b>LinearAlgebra.SymTridiagonal</b>) in LinearAlgebra</li> <li> +(J::<b>LinearAlgebra.UniformScaling</b>, F::<b>LinearAlgebra.Hessenberg</b>) in LinearAlgebra at <a href=\"file:///Users/julia/.julia/scratchspaces/a66863c6-20e8-4ff4-8a62-49f30b1f605e/agent-cache/default-grannysmith-C07ZQ07RJYVY.0/build/default-grannysmith-C07ZQ07RJYVY-0/julialang/julia-release-1-dot-10/usr/share/julia/stdlib/v1.10/LinearAlgebra/src/hessenberg.jl\" target=\"_blank\">/Applications/Julia-1.10.0.app/Contents/Resources/julia/share/julia/stdlib/v1.10/LinearAlgebra/src/hessenberg.jl:561</a></li> <li> +(B::<b>LinearAlgebra.UniformScaling</b>, A::<b>LinearAlgebra.Diagonal</b>) in LinearAlgebra</li> <li> +(J::<b>LinearAlgebra.UniformScaling</b>, A::<b>AbstractMatrix</b>) in LinearAlgebra at <a href=\"file:///Users/julia/.julia/scratchspaces/a66863c6-20e8-4ff4-8a62-49f30b1f605e/agent-cache/default-grannysmith-C07ZQ07RJYVY.0/build/default-grannysmith-C07ZQ07RJYVY-0/julialang/julia-release-1-dot-10/usr/share/julia/stdlib/v1.10/LinearAlgebra/src/uniformscaling.jl\" target=\"_blank\">/Applications/Julia-1.10.0.app/Contents/Resources/julia/share/julia/stdlib/v1.10/LinearAlgebra/src/uniformscaling.jl:153</a></li> <li> +(J::<b>LinearAlgebra.UniformScaling</b>) in LinearAlgebra at <a href=\"file:///Users/julia/.julia/scratchspaces/a66863c6-20e8-4ff4-8a62-49f30b1f605e/agent-cache/default-grannysmith-C07ZQ07RJYVY.0/build/default-grannysmith-C07ZQ07RJYVY-0/julialang/julia-release-1-dot-10/usr/share/julia/stdlib/v1.10/LinearAlgebra/src/uniformscaling.jl\" target=\"_blank\">/Applications/Julia-1.10.0.app/Contents/Resources/julia/share/julia/stdlib/v1.10/LinearAlgebra/src/uniformscaling.jl:149</a></li> <li> +(H::<b>LinearAlgebra.UpperHessenberg</b>, x::<b>LinearAlgebra.UniformScaling</b>) in LinearAlgebra at <a href=\"file:///Users/julia/.julia/scratchspaces/a66863c6-20e8-4ff4-8a62-49f30b1f605e/agent-cache/default-grannysmith-C07ZQ07RJYVY.0/build/default-grannysmith-C07ZQ07RJYVY-0/julialang/julia-release-1-dot-10/usr/share/julia/stdlib/v1.10/LinearAlgebra/src/hessenberg.jl\" target=\"_blank\">/Applications/Julia-1.10.0.app/Contents/Resources/julia/share/julia/stdlib/v1.10/LinearAlgebra/src/hessenberg.jl:119</a></li> <li> +(A::<b>LinearAlgebra.UpperHessenberg</b>, B::<b>LinearAlgebra.UpperHessenberg</b>) in LinearAlgebra at <a href=\"file:///Users/julia/.julia/scratchspaces/a66863c6-20e8-4ff4-8a62-49f30b1f605e/agent-cache/default-grannysmith-C07ZQ07RJYVY.0/build/default-grannysmith-C07ZQ07RJYVY-0/julialang/julia-release-1-dot-10/usr/share/julia/stdlib/v1.10/LinearAlgebra/src/hessenberg.jl\" target=\"_blank\">/Applications/Julia-1.10.0.app/Contents/Resources/julia/share/julia/stdlib/v1.10/LinearAlgebra/src/hessenberg.jl:112</a></li> <li> +(H::<b>LinearAlgebra.UpperHessenberg</b>, x::<b>LinearAlgebra.UnitUpperTriangular</b>) in LinearAlgebra at <a href=\"file:///Users/julia/.julia/scratchspaces/a66863c6-20e8-4ff4-8a62-49f30b1f605e/agent-cache/default-grannysmith-C07ZQ07RJYVY.0/build/default-grannysmith-C07ZQ07RJYVY-0/julialang/julia-release-1-dot-10/usr/share/julia/stdlib/v1.10/LinearAlgebra/src/hessenberg.jl\" target=\"_blank\">/Applications/Julia-1.10.0.app/Contents/Resources/julia/share/julia/stdlib/v1.10/LinearAlgebra/src/hessenberg.jl:119</a></li> <li> +(H::<b>LinearAlgebra.UpperHessenberg</b>, x::<b>LinearAlgebra.UpperTriangular</b>) in LinearAlgebra at <a href=\"file:///Users/julia/.julia/scratchspaces/a66863c6-20e8-4ff4-8a62-49f30b1f605e/agent-cache/default-grannysmith-C07ZQ07RJYVY.0/build/default-grannysmith-C07ZQ07RJYVY-0/julialang/julia-release-1-dot-10/usr/share/julia/stdlib/v1.10/LinearAlgebra/src/hessenberg.jl\" target=\"_blank\">/Applications/Julia-1.10.0.app/Contents/Resources/julia/share/julia/stdlib/v1.10/LinearAlgebra/src/hessenberg.jl:119</a></li> <li> +(H::<b>LinearAlgebra.UpperHessenberg</b>, x::<b>LinearAlgebra.SymTridiagonal</b>) in LinearAlgebra at <a href=\"file:///Users/julia/.julia/scratchspaces/a66863c6-20e8-4ff4-8a62-49f30b1f605e/agent-cache/default-grannysmith-C07ZQ07RJYVY.0/build/default-grannysmith-C07ZQ07RJYVY-0/julialang/julia-release-1-dot-10/usr/share/julia/stdlib/v1.10/LinearAlgebra/src/hessenberg.jl\" target=\"_blank\">/Applications/Julia-1.10.0.app/Contents/Resources/julia/share/julia/stdlib/v1.10/LinearAlgebra/src/hessenberg.jl:119</a></li> <li> +(H::<b>LinearAlgebra.UpperHessenberg</b>, x::<b>LinearAlgebra.Tridiagonal</b>) in LinearAlgebra at <a href=\"file:///Users/julia/.julia/scratchspaces/a66863c6-20e8-4ff4-8a62-49f30b1f605e/agent-cache/default-grannysmith-C07ZQ07RJYVY.0/build/default-grannysmith-C07ZQ07RJYVY-0/julialang/julia-release-1-dot-10/usr/share/julia/stdlib/v1.10/LinearAlgebra/src/hessenberg.jl\" target=\"_blank\">/Applications/Julia-1.10.0.app/Contents/Resources/julia/share/julia/stdlib/v1.10/LinearAlgebra/src/hessenberg.jl:119</a></li> <li> +(H::<b>LinearAlgebra.UpperHessenberg</b>, x::<b>LinearAlgebra.Bidiagonal</b>) in LinearAlgebra at <a href=\"file:///Users/julia/.julia/scratchspaces/a66863c6-20e8-4ff4-8a62-49f30b1f605e/agent-cache/default-grannysmith-C07ZQ07RJYVY.0/build/default-grannysmith-C07ZQ07RJYVY-0/julialang/julia-release-1-dot-10/usr/share/julia/stdlib/v1.10/LinearAlgebra/src/hessenberg.jl\" target=\"_blank\">/Applications/Julia-1.10.0.app/Contents/Resources/julia/share/julia/stdlib/v1.10/LinearAlgebra/src/hessenberg.jl:119</a></li> <li> +(H::<b>LinearAlgebra.UpperHessenberg</b>, x::<b>LinearAlgebra.Diagonal</b>) in LinearAlgebra at <a href=\"file:///Users/julia/.julia/scratchspaces/a66863c6-20e8-4ff4-8a62-49f30b1f605e/agent-cache/default-grannysmith-C07ZQ07RJYVY.0/build/default-grannysmith-C07ZQ07RJYVY-0/julialang/julia-release-1-dot-10/usr/share/julia/stdlib/v1.10/LinearAlgebra/src/hessenberg.jl\" target=\"_blank\">/Applications/Julia-1.10.0.app/Contents/Resources/julia/share/julia/stdlib/v1.10/LinearAlgebra/src/hessenberg.jl:119</a></li> <li> +(x::<b>Dates.Instant</b>) in Dates at <a href=\"file:///Users/julia/.julia/scratchspaces/a66863c6-20e8-4ff4-8a62-49f30b1f605e/agent-cache/default-grannysmith-C07ZQ07RJYVY.0/build/default-grannysmith-C07ZQ07RJYVY-0/julialang/julia-release-1-dot-10/usr/share/julia/stdlib/v1.10/Dates/src/arithmetic.jl\" target=\"_blank\">/Applications/Julia-1.10.0.app/Contents/Resources/julia/share/julia/stdlib/v1.10/Dates/src/arithmetic.jl:4</a></li> <li> +(x::<b>Base.TwicePrecision{T}</b>, y::<b>Base.TwicePrecision{T}</b>)<i> where T</i> in Base at <a href=\"https://github.com/JuliaLang/julia/tree/3120989f39bb7ef7863c4aab8ab1227cf71eec66/base/twiceprecision.jl#L294\" target=\"_blank\">twiceprecision.jl:294</a></li> <li> +(x::<b>Base.TwicePrecision</b>, y::<b>Base.TwicePrecision</b>) in Base at <a href=\"https://github.com/JuliaLang/julia/tree/3120989f39bb7ef7863c4aab8ab1227cf71eec66/base/twiceprecision.jl#L299\" target=\"_blank\">twiceprecision.jl:299</a></li> <li> +(x::<b>Base.TwicePrecision</b>, y::<b>Number</b>) in Base at <a href=\"https://github.com/JuliaLang/julia/tree/3120989f39bb7ef7863c4aab8ab1227cf71eec66/base/twiceprecision.jl#L288\" target=\"_blank\">twiceprecision.jl:288</a></li> <li> +(r1::<b>OrdinalRange</b>, r2::<b>OrdinalRange</b>) in Base at <a href=\"https://github.com/JuliaLang/julia/tree/3120989f39bb7ef7863c4aab8ab1227cf71eec66/base/range.jl#L1454\" target=\"_blank\">range.jl:1454</a></li> <li> +(x::<b>T</b>, y::<b>Integer</b>)<i> where T<:AbstractChar</i> in Base at <a href=\"https://github.com/JuliaLang/julia/tree/3120989f39bb7ef7863c4aab8ab1227cf71eec66/base/char.jl#L237\" target=\"_blank\">char.jl:237</a></li> <li> +(A::<b>LinearAlgebra.UpperTriangular</b>, B::<b>LinearAlgebra.Bidiagonal</b>) in LinearAlgebra at <a href=\"file:///Users/julia/.julia/scratchspaces/a66863c6-20e8-4ff4-8a62-49f30b1f605e/agent-cache/default-grannysmith-C07ZQ07RJYVY.0/build/default-grannysmith-C07ZQ07RJYVY-0/julialang/julia-release-1-dot-10/usr/share/julia/stdlib/v1.10/LinearAlgebra/src/special.jl\" target=\"_blank\">/Applications/Julia-1.10.0.app/Contents/Resources/julia/share/julia/stdlib/v1.10/LinearAlgebra/src/special.jl:91</a></li> <li> +(x::<b>LinearAlgebra.UpperTriangular</b>, H::<b>LinearAlgebra.UpperHessenberg</b>) in LinearAlgebra at <a href=\"file:///Users/julia/.julia/scratchspaces/a66863c6-20e8-4ff4-8a62-49f30b1f605e/agent-cache/default-grannysmith-C07ZQ07RJYVY.0/build/default-grannysmith-C07ZQ07RJYVY-0/julialang/julia-release-1-dot-10/usr/share/julia/stdlib/v1.10/LinearAlgebra/src/hessenberg.jl\" target=\"_blank\">/Applications/Julia-1.10.0.app/Contents/Resources/julia/share/julia/stdlib/v1.10/LinearAlgebra/src/hessenberg.jl:120</a></li> <li> +(A::<b>LinearAlgebra.UpperTriangular</b>, B::<b>LinearAlgebra.UnitUpperTriangular</b>) in LinearAlgebra at <a href=\"file:///Users/julia/.julia/scratchspaces/a66863c6-20e8-4ff4-8a62-49f30b1f605e/agent-cache/default-grannysmith-C07ZQ07RJYVY.0/build/default-grannysmith-C07ZQ07RJYVY-0/julialang/julia-release-1-dot-10/usr/share/julia/stdlib/v1.10/LinearAlgebra/src/triangular.jl\" target=\"_blank\">/Applications/Julia-1.10.0.app/Contents/Resources/julia/share/julia/stdlib/v1.10/LinearAlgebra/src/triangular.jl:652</a></li> <li> +(A::<b>LinearAlgebra.UpperTriangular</b>, B::<b>LinearAlgebra.UpperTriangular</b>) in LinearAlgebra at <a href=\"file:///Users/julia/.julia/scratchspaces/a66863c6-20e8-4ff4-8a62-49f30b1f605e/agent-cache/default-grannysmith-C07ZQ07RJYVY.0/build/default-grannysmith-C07ZQ07RJYVY-0/julialang/julia-release-1-dot-10/usr/share/julia/stdlib/v1.10/LinearAlgebra/src/triangular.jl\" target=\"_blank\">/Applications/Julia-1.10.0.app/Contents/Resources/julia/share/julia/stdlib/v1.10/LinearAlgebra/src/triangular.jl:650</a></li> <li> +(S::<b>LinearAlgebra.Symmetric</b>, D::<b>LinearAlgebra.Diagonal</b>) in LinearAlgebra at <a href=\"file:///Users/julia/.julia/scratchspaces/a66863c6-20e8-4ff4-8a62-49f30b1f605e/agent-cache/default-grannysmith-C07ZQ07RJYVY.0/build/default-grannysmith-C07ZQ07RJYVY-0/julialang/julia-release-1-dot-10/usr/share/julia/stdlib/v1.10/LinearAlgebra/src/diagonal.jl\" target=\"_blank\">/Applications/Julia-1.10.0.app/Contents/Resources/julia/share/julia/stdlib/v1.10/LinearAlgebra/src/diagonal.jl:232</a></li> <li> +(A::<b>LinearAlgebra.Symmetric</b>, B::<b>LinearAlgebra.SymTridiagonal</b>) in LinearAlgebra at <a href=\"file:///Users/julia/.julia/scratchspaces/a66863c6-20e8-4ff4-8a62-49f30b1f605e/agent-cache/default-grannysmith-C07ZQ07RJYVY.0/build/default-grannysmith-C07ZQ07RJYVY-0/julialang/julia-release-1-dot-10/usr/share/julia/stdlib/v1.10/LinearAlgebra/src/symmetric.jl\" target=\"_blank\">/Applications/Julia-1.10.0.app/Contents/Resources/julia/share/julia/stdlib/v1.10/LinearAlgebra/src/symmetric.jl:521</a></li> <li> +(A::<b>LinearAlgebra.Symmetric{var\"#s128\", S} where {var\"#s128\"<:Real, S<:(AbstractMatrix{<:var\"#s128\"})}</b>, B::<b>LinearAlgebra.Hermitian</b>) in LinearAlgebra at <a href=\"file:///Users/julia/.julia/scratchspaces/a66863c6-20e8-4ff4-8a62-49f30b1f605e/agent-cache/default-grannysmith-C07ZQ07RJYVY.0/build/default-grannysmith-C07ZQ07RJYVY-0/julialang/julia-release-1-dot-10/usr/share/julia/stdlib/v1.10/LinearAlgebra/src/symmetric.jl\" target=\"_blank\">/Applications/Julia-1.10.0.app/Contents/Resources/julia/share/julia/stdlib/v1.10/LinearAlgebra/src/symmetric.jl:519</a></li> <li> +(A::<b>LinearAlgebra.Symmetric</b>, B::<b>LinearAlgebra.Symmetric</b>) in LinearAlgebra at <a href=\"file:///Users/julia/.julia/scratchspaces/a66863c6-20e8-4ff4-8a62-49f30b1f605e/agent-cache/default-grannysmith-C07ZQ07RJYVY.0/build/default-grannysmith-C07ZQ07RJYVY-0/julialang/julia-release-1-dot-10/usr/share/julia/stdlib/v1.10/LinearAlgebra/src/symmetric.jl\" target=\"_blank\">/Applications/Julia-1.10.0.app/Contents/Resources/julia/share/julia/stdlib/v1.10/LinearAlgebra/src/symmetric.jl:504</a></li> <li> +(y::<b>Dates.TimeType</b>, x::<b>StridedArray{<:Union{Dates.CompoundPeriod, Dates.Period}}</b>) in Dates at <a href=\"file:///Users/julia/.julia/scratchspaces/a66863c6-20e8-4ff4-8a62-49f30b1f605e/agent-cache/default-grannysmith-C07ZQ07RJYVY.0/build/default-grannysmith-C07ZQ07RJYVY-0/julialang/julia-release-1-dot-10/usr/share/julia/stdlib/v1.10/Dates/src/deprecated.jl\" target=\"_blank\">/Applications/Julia-1.10.0.app/Contents/Resources/julia/share/julia/stdlib/v1.10/Dates/src/deprecated.jl:18</a></li> <li> +(x::<b>Dates.TimeType</b>) in Dates at <a href=\"file:///Users/julia/.julia/scratchspaces/a66863c6-20e8-4ff4-8a62-49f30b1f605e/agent-cache/default-grannysmith-C07ZQ07RJYVY.0/build/default-grannysmith-C07ZQ07RJYVY-0/julialang/julia-release-1-dot-10/usr/share/julia/stdlib/v1.10/Dates/src/arithmetic.jl\" target=\"_blank\">/Applications/Julia-1.10.0.app/Contents/Resources/julia/share/julia/stdlib/v1.10/Dates/src/arithmetic.jl:8</a></li> <li> +(x::<b>Dates.TimeType</b>, y::<b>Dates.CompoundPeriod</b>) in Dates at <a href=\"file:///Users/julia/.julia/scratchspaces/a66863c6-20e8-4ff4-8a62-49f30b1f605e/agent-cache/default-grannysmith-C07ZQ07RJYVY.0/build/default-grannysmith-C07ZQ07RJYVY-0/julialang/julia-release-1-dot-10/usr/share/julia/stdlib/v1.10/Dates/src/periods.jl\" target=\"_blank\">/Applications/Julia-1.10.0.app/Contents/Resources/julia/share/julia/stdlib/v1.10/Dates/src/periods.jl:356</a></li> <li> +(a::<b>Dates.TimeType</b>, b::<b>Dates.Period</b>, c::<b>Dates.Period</b>) in Dates at <a href=\"file:///Users/julia/.julia/scratchspaces/a66863c6-20e8-4ff4-8a62-49f30b1f605e/agent-cache/default-grannysmith-C07ZQ07RJYVY.0/build/default-grannysmith-C07ZQ07RJYVY-0/julialang/julia-release-1-dot-10/usr/share/julia/stdlib/v1.10/Dates/src/periods.jl\" target=\"_blank\">/Applications/Julia-1.10.0.app/Contents/Resources/julia/share/julia/stdlib/v1.10/Dates/src/periods.jl:353</a></li> <li> +(a::<b>Dates.TimeType</b>, b::<b>Dates.Period</b>, c::<b>Dates.Period</b>, d::<b>Dates.Period...</b>) in Dates at <a href=\"file:///Users/julia/.julia/scratchspaces/a66863c6-20e8-4ff4-8a62-49f30b1f605e/agent-cache/default-grannysmith-C07ZQ07RJYVY.0/build/default-grannysmith-C07ZQ07RJYVY-0/julialang/julia-release-1-dot-10/usr/share/julia/stdlib/v1.10/Dates/src/periods.jl\" target=\"_blank\">/Applications/Julia-1.10.0.app/Contents/Resources/julia/share/julia/stdlib/v1.10/Dates/src/periods.jl:354</a></li> <li> +(r::<b>AbstractRange{<:Dates.TimeType}</b>, x::<b>Dates.Period</b>) in Dates at <a href=\"file:///Users/julia/.julia/scratchspaces/a66863c6-20e8-4ff4-8a62-49f30b1f605e/agent-cache/default-grannysmith-C07ZQ07RJYVY.0/build/default-grannysmith-C07ZQ07RJYVY-0/julialang/julia-release-1-dot-10/usr/share/julia/stdlib/v1.10/Dates/src/ranges.jl\" target=\"_blank\">/Applications/Julia-1.10.0.app/Contents/Resources/julia/share/julia/stdlib/v1.10/Dates/src/ranges.jl:65</a></li> <li> +(D::<b>LinearAlgebra.Diagonal</b>, S::<b>LinearAlgebra.Symmetric</b>) in LinearAlgebra at <a href=\"file:///Users/julia/.julia/scratchspaces/a66863c6-20e8-4ff4-8a62-49f30b1f605e/agent-cache/default-grannysmith-C07ZQ07RJYVY.0/build/default-grannysmith-C07ZQ07RJYVY-0/julialang/julia-release-1-dot-10/usr/share/julia/stdlib/v1.10/LinearAlgebra/src/diagonal.jl\" target=\"_blank\">/Applications/Julia-1.10.0.app/Contents/Resources/julia/share/julia/stdlib/v1.10/LinearAlgebra/src/diagonal.jl:229</a></li> <li> +(Da::<b>LinearAlgebra.Diagonal</b>, Db::<b>LinearAlgebra.Diagonal</b>) in LinearAlgebra at <a href=\"file:///Users/julia/.julia/scratchspaces/a66863c6-20e8-4ff4-8a62-49f30b1f605e/agent-cache/default-grannysmith-C07ZQ07RJYVY.0/build/default-grannysmith-C07ZQ07RJYVY-0/julialang/julia-release-1-dot-10/usr/share/julia/stdlib/v1.10/LinearAlgebra/src/diagonal.jl\" target=\"_blank\">/Applications/Julia-1.10.0.app/Contents/Resources/julia/share/julia/stdlib/v1.10/LinearAlgebra/src/diagonal.jl:225</a></li> <li> +(A::<b>LinearAlgebra.Diagonal</b>, B::<b>LinearAlgebra.UniformScaling</b>) in LinearAlgebra at <a href=\"file:///Users/julia/.julia/scratchspaces/a66863c6-20e8-4ff4-8a62-49f30b1f605e/agent-cache/default-grannysmith-C07ZQ07RJYVY.0/build/default-grannysmith-C07ZQ07RJYVY-0/julialang/julia-release-1-dot-10/usr/share/julia/stdlib/v1.10/LinearAlgebra/src/special.jl\" target=\"_blank\">/Applications/Julia-1.10.0.app/Contents/Resources/julia/share/julia/stdlib/v1.10/LinearAlgebra/src/special.jl:247</a></li> <li> +(A::<b>LinearAlgebra.Diagonal</b>, B::<b>LinearAlgebra.Tridiagonal</b>) in LinearAlgebra at <a href=\"file:///Users/julia/.julia/scratchspaces/a66863c6-20e8-4ff4-8a62-49f30b1f605e/agent-cache/default-grannysmith-C07ZQ07RJYVY.0/build/default-grannysmith-C07ZQ07RJYVY-0/julialang/julia-release-1-dot-10/usr/share/julia/stdlib/v1.10/LinearAlgebra/src/special.jl\" target=\"_blank\">/Applications/Julia-1.10.0.app/Contents/Resources/julia/share/julia/stdlib/v1.10/LinearAlgebra/src/special.jl:187</a></li> <li> +(A::<b>LinearAlgebra.Diagonal</b>, B::<b>LinearAlgebra.SymTridiagonal</b>) in LinearAlgebra at <a href=\"file:///Users/julia/.julia/scratchspaces/a66863c6-20e8-4ff4-8a62-49f30b1f605e/agent-cache/default-grannysmith-C07ZQ07RJYVY.0/build/default-grannysmith-C07ZQ07RJYVY-0/julialang/julia-release-1-dot-10/usr/share/julia/stdlib/v1.10/LinearAlgebra/src/special.jl\" target=\"_blank\">/Applications/Julia-1.10.0.app/Contents/Resources/julia/share/julia/stdlib/v1.10/LinearAlgebra/src/special.jl:166</a></li> <li> +(B::<b>LinearAlgebra.Diagonal</b>, A::<b>LinearAlgebra.Bidiagonal</b>) in LinearAlgebra</li> <li> +(x::<b>LinearAlgebra.Diagonal</b>, H::<b>LinearAlgebra.UpperHessenberg</b>) in LinearAlgebra at <a href=\"file:///Users/julia/.julia/scratchspaces/a66863c6-20e8-4ff4-8a62-49f30b1f605e/agent-cache/default-grannysmith-C07ZQ07RJYVY.0/build/default-grannysmith-C07ZQ07RJYVY-0/julialang/julia-release-1-dot-10/usr/share/julia/stdlib/v1.10/LinearAlgebra/src/hessenberg.jl\" target=\"_blank\">/Applications/Julia-1.10.0.app/Contents/Resources/julia/share/julia/stdlib/v1.10/LinearAlgebra/src/hessenberg.jl:120</a></li> <li> +(D::<b>LinearAlgebra.Diagonal{var\"#s988\", V} where {var\"#s988\"<:Real, V<:AbstractVector{var\"#s988\"}}</b>, H::<b>LinearAlgebra.Hermitian</b>) in LinearAlgebra at <a href=\"file:///Users/julia/.julia/scratchspaces/a66863c6-20e8-4ff4-8a62-49f30b1f605e/agent-cache/default-grannysmith-C07ZQ07RJYVY.0/build/default-grannysmith-C07ZQ07RJYVY-0/julialang/julia-release-1-dot-10/usr/share/julia/stdlib/v1.10/LinearAlgebra/src/diagonal.jl\" target=\"_blank\">/Applications/Julia-1.10.0.app/Contents/Resources/julia/share/julia/stdlib/v1.10/LinearAlgebra/src/diagonal.jl:235</a></li> <li> +(x::<b>Dates.AbstractTime</b>, y::<b>Missing</b>) in Dates at <a href=\"file:///Users/julia/.julia/scratchspaces/a66863c6-20e8-4ff4-8a62-49f30b1f605e/agent-cache/default-grannysmith-C07ZQ07RJYVY.0/build/default-grannysmith-C07ZQ07RJYVY-0/julialang/julia-release-1-dot-10/usr/share/julia/stdlib/v1.10/Dates/src/arithmetic.jl\" target=\"_blank\">/Applications/Julia-1.10.0.app/Contents/Resources/julia/share/julia/stdlib/v1.10/Dates/src/arithmetic.jl:90</a></li> <li> +(A::<b>LinearAlgebra.UnitUpperTriangular</b>, B::<b>LinearAlgebra.UnitUpperTriangular</b>) in LinearAlgebra at <a href=\"file:///Users/julia/.julia/scratchspaces/a66863c6-20e8-4ff4-8a62-49f30b1f605e/agent-cache/default-grannysmith-C07ZQ07RJYVY.0/build/default-grannysmith-C07ZQ07RJYVY-0/julialang/julia-release-1-dot-10/usr/share/julia/stdlib/v1.10/LinearAlgebra/src/triangular.jl\" target=\"_blank\">/Applications/Julia-1.10.0.app/Contents/Resources/julia/share/julia/stdlib/v1.10/LinearAlgebra/src/triangular.jl:656</a></li> <li> +(A::<b>LinearAlgebra.UnitUpperTriangular</b>, B::<b>LinearAlgebra.UpperTriangular</b>) in LinearAlgebra at <a href=\"file:///Users/julia/.julia/scratchspaces/a66863c6-20e8-4ff4-8a62-49f30b1f605e/agent-cache/default-grannysmith-C07ZQ07RJYVY.0/build/default-grannysmith-C07ZQ07RJYVY-0/julialang/julia-release-1-dot-10/usr/share/julia/stdlib/v1.10/LinearAlgebra/src/triangular.jl\" target=\"_blank\">/Applications/Julia-1.10.0.app/Contents/Resources/julia/share/julia/stdlib/v1.10/LinearAlgebra/src/triangular.jl:654</a></li> <li> +(A::<b>LinearAlgebra.AbstractTriangular</b>, B::<b>LinearAlgebra.AbstractTriangular</b>) in LinearAlgebra at <a href=\"file:///Users/julia/.julia/scratchspaces/a66863c6-20e8-4ff4-8a62-49f30b1f605e/agent-cache/default-grannysmith-C07ZQ07RJYVY.0/build/default-grannysmith-C07ZQ07RJYVY-0/julialang/julia-release-1-dot-10/usr/share/julia/stdlib/v1.10/LinearAlgebra/src/triangular.jl\" target=\"_blank\">/Applications/Julia-1.10.0.app/Contents/Resources/julia/share/julia/stdlib/v1.10/LinearAlgebra/src/triangular.jl:658</a></li> <li> +(index1::<b>CartesianIndex{N}</b>, index2::<b>CartesianIndex{N}</b>)<i> where N</i> in Base.IteratorsMD at <a href=\"https://github.com/JuliaLang/julia/tree/3120989f39bb7ef7863c4aab8ab1227cf71eec66/base/multidimensional.jl#L119\" target=\"_blank\">multidimensional.jl:119</a></li> <li> +(A::<b>LinearAlgebra.UnitUpperTriangular</b>, B::<b>LinearAlgebra.Bidiagonal</b>) in LinearAlgebra at <a href=\"file:///Users/julia/.julia/scratchspaces/a66863c6-20e8-4ff4-8a62-49f30b1f605e/agent-cache/default-grannysmith-C07ZQ07RJYVY.0/build/default-grannysmith-C07ZQ07RJYVY-0/julialang/julia-release-1-dot-10/usr/share/julia/stdlib/v1.10/LinearAlgebra/src/special.jl\" target=\"_blank\">/Applications/Julia-1.10.0.app/Contents/Resources/julia/share/julia/stdlib/v1.10/LinearAlgebra/src/special.jl:91</a></li> <li> +(x::<b>LinearAlgebra.UnitUpperTriangular</b>, H::<b>LinearAlgebra.UpperHessenberg</b>) in LinearAlgebra at <a href=\"file:///Users/julia/.julia/scratchspaces/a66863c6-20e8-4ff4-8a62-49f30b1f605e/agent-cache/default-grannysmith-C07ZQ07RJYVY.0/build/default-grannysmith-C07ZQ07RJYVY-0/julialang/julia-release-1-dot-10/usr/share/julia/stdlib/v1.10/LinearAlgebra/src/hessenberg.jl\" target=\"_blank\">/Applications/Julia-1.10.0.app/Contents/Resources/julia/share/julia/stdlib/v1.10/LinearAlgebra/src/hessenberg.jl:120</a></li> <li> +(UL::<b>LinearAlgebra.UnitUpperTriangular</b>, J::<b>LinearAlgebra.UniformScaling</b>) in LinearAlgebra at <a href=\"file:///Users/julia/.julia/scratchspaces/a66863c6-20e8-4ff4-8a62-49f30b1f605e/agent-cache/default-grannysmith-C07ZQ07RJYVY.0/build/default-grannysmith-C07ZQ07RJYVY-0/julialang/julia-release-1-dot-10/usr/share/julia/stdlib/v1.10/LinearAlgebra/src/uniformscaling.jl\" target=\"_blank\">/Applications/Julia-1.10.0.app/Contents/Resources/julia/share/julia/stdlib/v1.10/LinearAlgebra/src/uniformscaling.jl:181</a></li> <li> +(A::<b>LinearAlgebra.SymTridiagonal</b>, B::<b>LinearAlgebra.Symmetric</b>) in LinearAlgebra at <a href=\"file:///Users/julia/.julia/scratchspaces/a66863c6-20e8-4ff4-8a62-49f30b1f605e/agent-cache/default-grannysmith-C07ZQ07RJYVY.0/build/default-grannysmith-C07ZQ07RJYVY-0/julialang/julia-release-1-dot-10/usr/share/julia/stdlib/v1.10/LinearAlgebra/src/symmetric.jl\" target=\"_blank\">/Applications/Julia-1.10.0.app/Contents/Resources/julia/share/julia/stdlib/v1.10/LinearAlgebra/src/symmetric.jl:520</a></li> <li> +(A::<b>LinearAlgebra.SymTridiagonal</b>, B::<b>LinearAlgebra.SymTridiagonal</b>) in LinearAlgebra at <a href=\"file:///Users/julia/.julia/scratchspaces/a66863c6-20e8-4ff4-8a62-49f30b1f605e/agent-cache/default-grannysmith-C07ZQ07RJYVY.0/build/default-grannysmith-C07ZQ07RJYVY-0/julialang/julia-release-1-dot-10/usr/share/julia/stdlib/v1.10/LinearAlgebra/src/tridiag.jl\" target=\"_blank\">/Applications/Julia-1.10.0.app/Contents/Resources/julia/share/julia/stdlib/v1.10/LinearAlgebra/src/tridiag.jl:210</a></li> <li> +(A::<b>LinearAlgebra.SymTridiagonal</b>, B::<b>LinearAlgebra.UniformScaling</b>) in LinearAlgebra at <a href=\"file:///Users/julia/.julia/scratchspaces/a66863c6-20e8-4ff4-8a62-49f30b1f605e/agent-cache/default-grannysmith-C07ZQ07RJYVY.0/build/default-grannysmith-C07ZQ07RJYVY-0/julialang/julia-release-1-dot-10/usr/share/julia/stdlib/v1.10/LinearAlgebra/src/special.jl\" target=\"_blank\">/Applications/Julia-1.10.0.app/Contents/Resources/julia/share/julia/stdlib/v1.10/LinearAlgebra/src/special.jl:237</a></li> <li> +(B::<b>LinearAlgebra.SymTridiagonal</b>, A::<b>LinearAlgebra.Tridiagonal</b>) in LinearAlgebra</li> <li> +(B::<b>LinearAlgebra.SymTridiagonal</b>, A::<b>LinearAlgebra.Bidiagonal</b>) in LinearAlgebra</li> <li> +(B::<b>LinearAlgebra.SymTridiagonal</b>, A::<b>LinearAlgebra.Diagonal</b>) in LinearAlgebra</li> <li> +(x::<b>LinearAlgebra.SymTridiagonal</b>, H::<b>LinearAlgebra.UpperHessenberg</b>) in LinearAlgebra at <a href=\"file:///Users/julia/.julia/scratchspaces/a66863c6-20e8-4ff4-8a62-49f30b1f605e/agent-cache/default-grannysmith-C07ZQ07RJYVY.0/build/default-grannysmith-C07ZQ07RJYVY-0/julialang/julia-release-1-dot-10/usr/share/julia/stdlib/v1.10/LinearAlgebra/src/hessenberg.jl\" target=\"_blank\">/Applications/Julia-1.10.0.app/Contents/Resources/julia/share/julia/stdlib/v1.10/LinearAlgebra/src/hessenberg.jl:120</a></li> <li> +(A::<b>LinearAlgebra.SymTridiagonal{var\"#s127\", V} where {var\"#s127\"<:Real, V<:AbstractVector{var\"#s127\"}}</b>, B::<b>LinearAlgebra.Hermitian</b>) in LinearAlgebra at <a href=\"file:///Users/julia/.julia/scratchspaces/a66863c6-20e8-4ff4-8a62-49f30b1f605e/agent-cache/default-grannysmith-C07ZQ07RJYVY.0/build/default-grannysmith-C07ZQ07RJYVY-0/julialang/julia-release-1-dot-10/usr/share/julia/stdlib/v1.10/LinearAlgebra/src/symmetric.jl\" target=\"_blank\">/Applications/Julia-1.10.0.app/Contents/Resources/julia/share/julia/stdlib/v1.10/LinearAlgebra/src/symmetric.jl:522</a></li> <li> +(x::<b>AbstractArray{<:Dates.TimeType}</b>, y::<b>Union{Dates.CompoundPeriod, Dates.Period}</b>) in Dates at <a href=\"file:///Users/julia/.julia/scratchspaces/a66863c6-20e8-4ff4-8a62-49f30b1f605e/agent-cache/default-grannysmith-C07ZQ07RJYVY.0/build/default-grannysmith-C07ZQ07RJYVY-0/julialang/julia-release-1-dot-10/usr/share/julia/stdlib/v1.10/Dates/src/deprecated.jl\" target=\"_blank\">/Applications/Julia-1.10.0.app/Contents/Resources/julia/share/julia/stdlib/v1.10/Dates/src/deprecated.jl:6</a></li> <li> +(A::<b>AbstractMatrix</b>, J::<b>LinearAlgebra.UniformScaling</b>) in LinearAlgebra at <a href=\"file:///Users/julia/.julia/scratchspaces/a66863c6-20e8-4ff4-8a62-49f30b1f605e/agent-cache/default-grannysmith-C07ZQ07RJYVY.0/build/default-grannysmith-C07ZQ07RJYVY-0/julialang/julia-release-1-dot-10/usr/share/julia/stdlib/v1.10/LinearAlgebra/src/uniformscaling.jl\" target=\"_blank\">/Applications/Julia-1.10.0.app/Contents/Resources/julia/share/julia/stdlib/v1.10/LinearAlgebra/src/uniformscaling.jl:214</a></li> <li> +(r1::<b>LinRange{T}</b>, r2::<b>LinRange{T}</b>)<i> where T</i> in Base at <a href=\"https://github.com/JuliaLang/julia/tree/3120989f39bb7ef7863c4aab8ab1227cf71eec66/base/range.jl#L1461\" target=\"_blank\">range.jl:1461</a></li> <li> +(A::<b>BitArray</b>, B::<b>BitArray</b>) in Base at <a href=\"https://github.com/JuliaLang/julia/tree/3120989f39bb7ef7863c4aab8ab1227cf71eec66/base/bitarray.jl#L1184\" target=\"_blank\">bitarray.jl:1184</a></li> <li> +(X::<b>StridedArray{<:Union{Dates.CompoundPeriod, Dates.Period}}</b>, Y::<b>StridedArray{<:Union{Dates.CompoundPeriod, Dates.Period}}</b>) in Dates at <a href=\"file:///Users/julia/.julia/scratchspaces/a66863c6-20e8-4ff4-8a62-49f30b1f605e/agent-cache/default-grannysmith-C07ZQ07RJYVY.0/build/default-grannysmith-C07ZQ07RJYVY-0/julialang/julia-release-1-dot-10/usr/share/julia/stdlib/v1.10/Dates/src/deprecated.jl\" target=\"_blank\">/Applications/Julia-1.10.0.app/Contents/Resources/julia/share/julia/stdlib/v1.10/Dates/src/deprecated.jl:62</a></li> <li> +(r1::<b>Union{LinRange, OrdinalRange, StepRangeLen}</b>, r2::<b>Union{LinRange, OrdinalRange, StepRangeLen}</b>) in Base at <a href=\"https://github.com/JuliaLang/julia/tree/3120989f39bb7ef7863c4aab8ab1227cf71eec66/base/range.jl#L1470\" target=\"_blank\">range.jl:1470</a></li> <li> +(A::<b>AbstractArray</b>, B::<b>AbstractArray</b>) in Base at <a href=\"https://github.com/JuliaLang/julia/tree/3120989f39bb7ef7863c4aab8ab1227cf71eec66/base/arraymath.jl#L6\" target=\"_blank\">arraymath.jl:6</a></li> <li> +(x::<b>StridedArray{<:Union{Dates.CompoundPeriod, Dates.Period}}</b>) in Dates at <a href=\"file:///Users/julia/.julia/scratchspaces/a66863c6-20e8-4ff4-8a62-49f30b1f605e/agent-cache/default-grannysmith-C07ZQ07RJYVY.0/build/default-grannysmith-C07ZQ07RJYVY-0/julialang/julia-release-1-dot-10/usr/share/julia/stdlib/v1.10/Dates/src/deprecated.jl\" target=\"_blank\">/Applications/Julia-1.10.0.app/Contents/Resources/julia/share/julia/stdlib/v1.10/Dates/src/deprecated.jl:55</a></li> <li> +(x::<b>AbstractArray{<:Number}</b>) in Base at <a href=\"https://github.com/JuliaLang/julia/tree/3120989f39bb7ef7863c4aab8ab1227cf71eec66/base/abstractarraymath.jl#L220\" target=\"_blank\">abstractarraymath.jl:220</a></li> <li> +(x::<b>Union{Dates.Day, Dates.Hour, Dates.Microsecond, Dates.Millisecond, Dates.Minute, Dates.Nanosecond, Dates.Second, Dates.Week}</b>, y::<b>Unitful.AbstractQuantity</b>) in Unitful at <a href=\"file:///Users/jason/.julia/packages/Unitful/R4J37/src/dates.jl\" target=\"_blank\">/Users/jason/.julia/packages/Unitful/R4J37/src/dates.jl:86</a></li> <li> +(y::<b>Union{Dates.CompoundPeriod, Dates.Period}</b>, x::<b>AbstractArray{<:Dates.TimeType}</b>) in Dates at <a href=\"file:///Users/julia/.julia/scratchspaces/a66863c6-20e8-4ff4-8a62-49f30b1f605e/agent-cache/default-grannysmith-C07ZQ07RJYVY.0/build/default-grannysmith-C07ZQ07RJYVY-0/julialang/julia-release-1-dot-10/usr/share/julia/stdlib/v1.10/Dates/src/deprecated.jl\" target=\"_blank\">/Applications/Julia-1.10.0.app/Contents/Resources/julia/share/julia/stdlib/v1.10/Dates/src/deprecated.jl:14</a></li> <li> +(x::<b>StridedArray{<:Union{Dates.CompoundPeriod, Dates.Period}}</b>, y::<b>Dates.TimeType</b>) in Dates at <a href=\"file:///Users/julia/.julia/scratchspaces/a66863c6-20e8-4ff4-8a62-49f30b1f605e/agent-cache/default-grannysmith-C07ZQ07RJYVY.0/build/default-grannysmith-C07ZQ07RJYVY-0/julialang/julia-release-1-dot-10/usr/share/julia/stdlib/v1.10/Dates/src/deprecated.jl\" target=\"_blank\">/Applications/Julia-1.10.0.app/Contents/Resources/julia/share/julia/stdlib/v1.10/Dates/src/deprecated.jl:10</a></li> <li> +(x::<b>Union{Dates.CompoundPeriod, Dates.Period}</b>) in Dates at <a href=\"file:///Users/julia/.julia/scratchspaces/a66863c6-20e8-4ff4-8a62-49f30b1f605e/agent-cache/default-grannysmith-C07ZQ07RJYVY.0/build/default-grannysmith-C07ZQ07RJYVY-0/julialang/julia-release-1-dot-10/usr/share/julia/stdlib/v1.10/Dates/src/periods.jl\" target=\"_blank\">/Applications/Julia-1.10.0.app/Contents/Resources/julia/share/julia/stdlib/v1.10/Dates/src/periods.jl:342</a></li> <li> +(a, b, c, xs...) in Base at <a href=\"https://github.com/JuliaLang/julia/tree/3120989f39bb7ef7863c4aab8ab1227cf71eec66/base/operators.jl#L587\" target=\"_blank\">operators.jl:587</a></li> </ul>"
      ],
      "text/plain": [
       "# 203 methods for generic function \"+\" from \u001b[90mBase\u001b[39m:\n",
       "   [1] +(\u001b[90mlevel\u001b[39m::\u001b[1mBase.CoreLogging.LogLevel\u001b[22m, \u001b[90minc\u001b[39m::\u001b[1mInteger\u001b[22m)\n",
       "\u001b[90m     @\u001b[39m \u001b[90mBase.CoreLogging\u001b[39m \u001b[90m\u001b[4mlogging.jl:131\u001b[24m\u001b[39m\n",
       "   [2] +(\u001b[90mx\u001b[39m::\u001b[1mBool\u001b[22m, \u001b[90mz\u001b[39m::\u001b[1mComplex\u001b[22m\u001b[0m{Bool})\n",
       "\u001b[90m     @\u001b[39m \u001b[90m\u001b[4mcomplex.jl:305\u001b[24m\u001b[39m\n",
       "   [3] +(\u001b[90mx\u001b[39m::\u001b[1mBool\u001b[22m, \u001b[90my\u001b[39m::\u001b[1mBool\u001b[22m)\n",
       "\u001b[90m     @\u001b[39m \u001b[90m\u001b[4mbool.jl:166\u001b[24m\u001b[39m\n",
       "   [4] +(\u001b[90mx\u001b[39m::\u001b[1mBool\u001b[22m)\n",
       "\u001b[90m     @\u001b[39m \u001b[90m\u001b[4mbool.jl:163\u001b[24m\u001b[39m\n",
       "   [5] +(\u001b[90mx\u001b[39m::\u001b[1mBool\u001b[22m, \u001b[90mz\u001b[39m::\u001b[1mComplex\u001b[22m)\n",
       "\u001b[90m     @\u001b[39m \u001b[90m\u001b[4mcomplex.jl:312\u001b[24m\u001b[39m\n",
       "   [6] +(\u001b[90mx\u001b[39m::\u001b[1mReal\u001b[22m, \u001b[90mz\u001b[39m::\u001b[1mComplex\u001b[22m\u001b[0m{Bool})\n",
       "\u001b[90m     @\u001b[39m \u001b[90m\u001b[4mcomplex.jl:319\u001b[24m\u001b[39m\n",
       "   [7] +(\u001b[90mx\u001b[39m::\u001b[1mBool\u001b[22m, \u001b[90my\u001b[39m::\u001b[1mT\u001b[22m) where T<:AbstractFloat\n",
       "\u001b[90m     @\u001b[39m \u001b[90m\u001b[4mbool.jl:173\u001b[24m\u001b[39m\n",
       "   [8] +(\u001b[90mx\u001b[39m::\u001b[1mDates.DateTime\u001b[22m, \u001b[90my\u001b[39m::\u001b[1mDates.Quarter\u001b[22m)\n",
       "\u001b[90m     @\u001b[39m \u001b[36mDates\u001b[39m \u001b[90m/Applications/Julia-1.10.0.app/Contents/Resources/julia/share/julia/stdlib/v1.10/Dates/src/\u001b[39m\u001b[90m\u001b[4marithmetic.jl:77\u001b[24m\u001b[39m\n",
       "   [9] +(\u001b[90mdt\u001b[39m::\u001b[1mDates.DateTime\u001b[22m, \u001b[90mz\u001b[39m::\u001b[1mDates.Month\u001b[22m)\n",
       "\u001b[90m     @\u001b[39m \u001b[36mDates\u001b[39m \u001b[90m/Applications/Julia-1.10.0.app/Contents/Resources/julia/share/julia/stdlib/v1.10/Dates/src/\u001b[39m\u001b[90m\u001b[4marithmetic.jl:49\u001b[24m\u001b[39m\n",
       "  [10] +(\u001b[90mdt\u001b[39m::\u001b[1mDates.DateTime\u001b[22m, \u001b[90my\u001b[39m::\u001b[1mDates.Year\u001b[22m)\n",
       "\u001b[90m     @\u001b[39m \u001b[36mDates\u001b[39m \u001b[90m/Applications/Julia-1.10.0.app/Contents/Resources/julia/share/julia/stdlib/v1.10/Dates/src/\u001b[39m\u001b[90m\u001b[4marithmetic.jl:25\u001b[24m\u001b[39m\n",
       "  [11] +(\u001b[90mx\u001b[39m::\u001b[1mDates.DateTime\u001b[22m, \u001b[90my\u001b[39m::\u001b[1mDates.Period\u001b[22m)\n",
       "\u001b[90m     @\u001b[39m \u001b[36mDates\u001b[39m \u001b[90m/Applications/Julia-1.10.0.app/Contents/Resources/julia/share/julia/stdlib/v1.10/Dates/src/\u001b[39m\u001b[90m\u001b[4marithmetic.jl:83\u001b[24m\u001b[39m\n",
       "  [12] +(::\u001b[1mMissing\u001b[22m, ::\u001b[1mMissing\u001b[22m)\n",
       "\u001b[90m     @\u001b[39m \u001b[90m\u001b[4mmissing.jl:122\u001b[24m\u001b[39m\n",
       "  [13] +(::\u001b[1mMissing\u001b[22m)\n",
       "\u001b[90m     @\u001b[39m \u001b[90m\u001b[4mmissing.jl:101\u001b[24m\u001b[39m\n",
       "  [14] +(\u001b[90mx\u001b[39m::\u001b[1mMissing\u001b[22m, \u001b[90my\u001b[39m::\u001b[1mDates.AbstractTime\u001b[22m)\n",
       "\u001b[90m     @\u001b[39m \u001b[36mDates\u001b[39m \u001b[90m/Applications/Julia-1.10.0.app/Contents/Resources/julia/share/julia/stdlib/v1.10/Dates/src/\u001b[39m\u001b[90m\u001b[4marithmetic.jl:91\u001b[24m\u001b[39m\n",
       "  [15] +(::\u001b[1mMissing\u001b[22m, ::\u001b[1mNumber\u001b[22m)\n",
       "\u001b[90m     @\u001b[39m \u001b[90m\u001b[4mmissing.jl:123\u001b[24m\u001b[39m\n",
       "  [16] +(\u001b[90mx\u001b[39m::\u001b[1mDates.CompoundPeriod\u001b[22m, \u001b[90my\u001b[39m::\u001b[1mDates.CompoundPeriod\u001b[22m)\n",
       "\u001b[90m     @\u001b[39m \u001b[36mDates\u001b[39m \u001b[90m/Applications/Julia-1.10.0.app/Contents/Resources/julia/share/julia/stdlib/v1.10/Dates/src/\u001b[39m\u001b[90m\u001b[4mperiods.jl:334\u001b[24m\u001b[39m\n",
       "  [17] +(\u001b[90mx\u001b[39m::\u001b[1mDates.CompoundPeriod\u001b[22m, \u001b[90my\u001b[39m::\u001b[1mDates.TimeType\u001b[22m)\n",
       "\u001b[90m     @\u001b[39m \u001b[36mDates\u001b[39m \u001b[90m/Applications/Julia-1.10.0.app/Contents/Resources/julia/share/julia/stdlib/v1.10/Dates/src/\u001b[39m\u001b[90m\u001b[4mperiods.jl:362\u001b[24m\u001b[39m\n",
       "  [18] +(\u001b[90mx\u001b[39m::\u001b[1mDates.CompoundPeriod\u001b[22m, \u001b[90my\u001b[39m::\u001b[1mDates.Period\u001b[22m)\n",
       "\u001b[90m     @\u001b[39m \u001b[36mDates\u001b[39m \u001b[90m/Applications/Julia-1.10.0.app/Contents/Resources/julia/share/julia/stdlib/v1.10/Dates/src/\u001b[39m\u001b[90m\u001b[4mperiods.jl:332\u001b[24m\u001b[39m\n",
       "  [19] +(\u001b[90ma\u001b[39m::\u001b[1mPkg.Resolve.VersionWeight\u001b[22m, \u001b[90mb\u001b[39m::\u001b[1mPkg.Resolve.VersionWeight\u001b[22m)\n",
       "\u001b[90m     @\u001b[39m \u001b[32mPkg.Resolve\u001b[39m \u001b[90m/Applications/Julia-1.10.0.app/Contents/Resources/julia/share/julia/stdlib/v1.10/Pkg/src/Resolve/\u001b[39m\u001b[90m\u001b[4mversionweights.jl:22\u001b[24m\u001b[39m\n",
       "  [20] +(\u001b[90mx\u001b[39m::\u001b[1mRational\u001b[22m\u001b[0m{BigInt}, \u001b[90my\u001b[39m::\u001b[1mRational\u001b[22m\u001b[0m{BigInt})\n",
       "\u001b[90m     @\u001b[39m \u001b[90mBase.GMP.MPQ\u001b[39m \u001b[90m\u001b[4mgmp.jl:1061\u001b[24m\u001b[39m\n",
       "  [21] +(\u001b[90mc\u001b[39m::\u001b[1mBigInt\u001b[22m, \u001b[90mx\u001b[39m::\u001b[1mBigFloat\u001b[22m)\n",
       "\u001b[90m     @\u001b[39m \u001b[90mBase.MPFR\u001b[39m \u001b[90m\u001b[4mmpfr.jl:468\u001b[24m\u001b[39m\n",
       "  [22] +(\u001b[90mx\u001b[39m::\u001b[1mBigInt\u001b[22m, \u001b[90my\u001b[39m::\u001b[1mBigInt\u001b[22m)\n",
       "\u001b[90m     @\u001b[39m \u001b[90mBase.GMP\u001b[39m \u001b[90m\u001b[4mgmp.jl:501\u001b[24m\u001b[39m\n",
       "  [23] +(\u001b[90ma\u001b[39m::\u001b[1mBigInt\u001b[22m, \u001b[90mb\u001b[39m::\u001b[1mBigInt\u001b[22m, \u001b[90mc\u001b[39m::\u001b[1mBigInt\u001b[22m)\n",
       "\u001b[90m     @\u001b[39m \u001b[90mBase.GMP\u001b[39m \u001b[90m\u001b[4mgmp.jl:541\u001b[24m\u001b[39m\n",
       "  [24] +(\u001b[90ma\u001b[39m::\u001b[1mBigInt\u001b[22m, \u001b[90mb\u001b[39m::\u001b[1mBigInt\u001b[22m, \u001b[90mc\u001b[39m::\u001b[1mBigInt\u001b[22m, \u001b[90md\u001b[39m::\u001b[1mBigInt\u001b[22m)\n",
       "\u001b[90m     @\u001b[39m \u001b[90mBase.GMP\u001b[39m \u001b[90m\u001b[4mgmp.jl:542\u001b[24m\u001b[39m\n",
       "  [25] +(\u001b[90ma\u001b[39m::\u001b[1mBigInt\u001b[22m, \u001b[90mb\u001b[39m::\u001b[1mBigInt\u001b[22m, \u001b[90mc\u001b[39m::\u001b[1mBigInt\u001b[22m, \u001b[90md\u001b[39m::\u001b[1mBigInt\u001b[22m, \u001b[90me\u001b[39m::\u001b[1mBigInt\u001b[22m)\n",
       "\u001b[90m     @\u001b[39m \u001b[90mBase.GMP\u001b[39m \u001b[90m\u001b[4mgmp.jl:543\u001b[24m\u001b[39m\n",
       "  [26] +(\u001b[90mx\u001b[39m::\u001b[1mBigInt\u001b[22m, \u001b[90my\u001b[39m::\u001b[1mBigInt\u001b[22m, \u001b[90mrest\u001b[39m::\u001b[1mBigInt...\u001b[22m)\n",
       "\u001b[90m     @\u001b[39m \u001b[90mBase.GMP\u001b[39m \u001b[90m\u001b[4mgmp.jl:683\u001b[24m\u001b[39m\n",
       "  [27] +(\u001b[90mx\u001b[39m::\u001b[1mBigInt\u001b[22m, \u001b[90mc\u001b[39m::\u001b[1mUnion\u001b[22m\u001b[0m{UInt16, UInt32, UInt64, UInt8})\n",
       "\u001b[90m     @\u001b[39m \u001b[90mBase.GMP\u001b[39m \u001b[90m\u001b[4mgmp.jl:549\u001b[24m\u001b[39m\n",
       "  [28] +(\u001b[90mx\u001b[39m::\u001b[1mBigInt\u001b[22m, \u001b[90mc\u001b[39m::\u001b[1mUnion\u001b[22m\u001b[0m{Int16, Int32, Int64, Int8})\n",
       "\u001b[90m     @\u001b[39m \u001b[90mBase.GMP\u001b[39m \u001b[90m\u001b[4mgmp.jl:555\u001b[24m\u001b[39m\n",
       "  [29] +(\u001b[90mt\u001b[39m::\u001b[1mDates.Time\u001b[22m, \u001b[90mdt\u001b[39m::\u001b[1mDates.Date\u001b[22m)\n",
       "\u001b[90m     @\u001b[39m \u001b[36mDates\u001b[39m \u001b[90m/Applications/Julia-1.10.0.app/Contents/Resources/julia/share/julia/stdlib/v1.10/Dates/src/\u001b[39m\u001b[90m\u001b[4marithmetic.jl:22\u001b[24m\u001b[39m\n",
       "  [30] +(\u001b[90mx\u001b[39m::\u001b[1mDates.Time\u001b[22m, \u001b[90my\u001b[39m::\u001b[1mDates.TimePeriod\u001b[22m)\n",
       "\u001b[90m     @\u001b[39m \u001b[36mDates\u001b[39m \u001b[90m/Applications/Julia-1.10.0.app/Contents/Resources/julia/share/julia/stdlib/v1.10/Dates/src/\u001b[39m\u001b[90m\u001b[4marithmetic.jl:85\u001b[24m\u001b[39m\n",
       "  [31] +(\u001b[90ma\u001b[39m::\u001b[1mPkg.Resolve.FieldValue\u001b[22m, \u001b[90mb\u001b[39m::\u001b[1mPkg.Resolve.FieldValue\u001b[22m)\n",
       "\u001b[90m     @\u001b[39m \u001b[32mPkg.Resolve\u001b[39m \u001b[90m/Applications/Julia-1.10.0.app/Contents/Resources/julia/share/julia/stdlib/v1.10/Pkg/src/Resolve/\u001b[39m\u001b[90m\u001b[4mfieldvalues.jl:43\u001b[24m\u001b[39m\n",
       "  [32] +(\u001b[90mx\u001b[39m::\u001b[1mDates.Date\u001b[22m, \u001b[90my\u001b[39m::\u001b[1mDates.Day\u001b[22m)\n",
       "\u001b[90m     @\u001b[39m \u001b[36mDates\u001b[39m \u001b[90m/Applications/Julia-1.10.0.app/Contents/Resources/julia/share/julia/stdlib/v1.10/Dates/src/\u001b[39m\u001b[90m\u001b[4marithmetic.jl:81\u001b[24m\u001b[39m\n",
       "  [33] +(\u001b[90mx\u001b[39m::\u001b[1mDates.Date\u001b[22m, \u001b[90my\u001b[39m::\u001b[1mDates.Week\u001b[22m)\n",
       "\u001b[90m     @\u001b[39m \u001b[36mDates\u001b[39m \u001b[90m/Applications/Julia-1.10.0.app/Contents/Resources/julia/share/julia/stdlib/v1.10/Dates/src/\u001b[39m\u001b[90m\u001b[4marithmetic.jl:79\u001b[24m\u001b[39m\n",
       "  [34] +(\u001b[90mx\u001b[39m::\u001b[1mDates.Date\u001b[22m, \u001b[90my\u001b[39m::\u001b[1mDates.Quarter\u001b[22m)\n",
       "\u001b[90m     @\u001b[39m \u001b[36mDates\u001b[39m \u001b[90m/Applications/Julia-1.10.0.app/Contents/Resources/julia/share/julia/stdlib/v1.10/Dates/src/\u001b[39m\u001b[90m\u001b[4marithmetic.jl:75\u001b[24m\u001b[39m\n",
       "  [35] +(\u001b[90mdt\u001b[39m::\u001b[1mDates.Date\u001b[22m, \u001b[90mz\u001b[39m::\u001b[1mDates.Month\u001b[22m)\n",
       "\u001b[90m     @\u001b[39m \u001b[36mDates\u001b[39m \u001b[90m/Applications/Julia-1.10.0.app/Contents/Resources/julia/share/julia/stdlib/v1.10/Dates/src/\u001b[39m\u001b[90m\u001b[4marithmetic.jl:56\u001b[24m\u001b[39m\n",
       "  [36] +(\u001b[90mdt\u001b[39m::\u001b[1mDates.Date\u001b[22m, \u001b[90my\u001b[39m::\u001b[1mDates.Year\u001b[22m)\n",
       "\u001b[90m     @\u001b[39m \u001b[36mDates\u001b[39m \u001b[90m/Applications/Julia-1.10.0.app/Contents/Resources/julia/share/julia/stdlib/v1.10/Dates/src/\u001b[39m\u001b[90m\u001b[4marithmetic.jl:29\u001b[24m\u001b[39m\n",
       "  [37] +(\u001b[90mdt\u001b[39m::\u001b[1mDates.Date\u001b[22m, \u001b[90mt\u001b[39m::\u001b[1mDates.Time\u001b[22m)\n",
       "\u001b[90m     @\u001b[39m \u001b[36mDates\u001b[39m \u001b[90m/Applications/Julia-1.10.0.app/Contents/Resources/julia/share/julia/stdlib/v1.10/Dates/src/\u001b[39m\u001b[90m\u001b[4marithmetic.jl:21\u001b[24m\u001b[39m\n",
       "  [38] +(\u001b[90ma\u001b[39m::\u001b[1mBigFloat\u001b[22m, \u001b[90mb\u001b[39m::\u001b[1mBigFloat\u001b[22m, \u001b[90mc\u001b[39m::\u001b[1mBigFloat\u001b[22m, \u001b[90md\u001b[39m::\u001b[1mBigFloat\u001b[22m, \u001b[90me\u001b[39m::\u001b[1mBigFloat\u001b[22m)\n",
       "\u001b[90m     @\u001b[39m \u001b[90mBase.MPFR\u001b[39m \u001b[90m\u001b[4mmpfr.jl:619\u001b[24m\u001b[39m\n",
       "  [39] +(\u001b[90mx\u001b[39m::\u001b[1mBigFloat\u001b[22m, \u001b[90my\u001b[39m::\u001b[1mBigFloat\u001b[22m)\n",
       "\u001b[90m     @\u001b[39m \u001b[90mBase.MPFR\u001b[39m \u001b[90m\u001b[4mmpfr.jl:432\u001b[24m\u001b[39m\n",
       "  [40] +(\u001b[90ma\u001b[39m::\u001b[1mBigFloat\u001b[22m, \u001b[90mb\u001b[39m::\u001b[1mBigFloat\u001b[22m, \u001b[90mc\u001b[39m::\u001b[1mBigFloat\u001b[22m)\n",
       "\u001b[90m     @\u001b[39m \u001b[90mBase.MPFR\u001b[39m \u001b[90m\u001b[4mmpfr.jl:606\u001b[24m\u001b[39m\n",
       "  [41] +(\u001b[90ma\u001b[39m::\u001b[1mBigFloat\u001b[22m, \u001b[90mb\u001b[39m::\u001b[1mBigFloat\u001b[22m, \u001b[90mc\u001b[39m::\u001b[1mBigFloat\u001b[22m, \u001b[90md\u001b[39m::\u001b[1mBigFloat\u001b[22m)\n",
       "\u001b[90m     @\u001b[39m \u001b[90mBase.MPFR\u001b[39m \u001b[90m\u001b[4mmpfr.jl:612\u001b[24m\u001b[39m\n",
       "  [42] +(\u001b[90mx\u001b[39m::\u001b[1mBigFloat\u001b[22m, \u001b[90mc\u001b[39m::\u001b[1mBigInt\u001b[22m)\n",
       "\u001b[90m     @\u001b[39m \u001b[90mBase.MPFR\u001b[39m \u001b[90m\u001b[4mmpfr.jl:463\u001b[24m\u001b[39m\n",
       "  [43] +(\u001b[90mx\u001b[39m::\u001b[1mBigFloat\u001b[22m, \u001b[90mc\u001b[39m::\u001b[1mUnion\u001b[22m\u001b[0m{UInt16, UInt32, UInt64, UInt8})\n",
       "\u001b[90m     @\u001b[39m \u001b[90mBase.MPFR\u001b[39m \u001b[90m\u001b[4mmpfr.jl:439\u001b[24m\u001b[39m\n",
       "  [44] +(\u001b[90mx\u001b[39m::\u001b[1mBigFloat\u001b[22m, \u001b[90mc\u001b[39m::\u001b[1mUnion\u001b[22m\u001b[0m{Int16, Int32, Int64, Int8})\n",
       "\u001b[90m     @\u001b[39m \u001b[90mBase.MPFR\u001b[39m \u001b[90m\u001b[4mmpfr.jl:447\u001b[24m\u001b[39m\n",
       "  [45] +(\u001b[90mx\u001b[39m::\u001b[1mBigFloat\u001b[22m, \u001b[90mc\u001b[39m::\u001b[1mUnion\u001b[22m\u001b[0m{Float16, Float32, Float64})\n",
       "\u001b[90m     @\u001b[39m \u001b[90mBase.MPFR\u001b[39m \u001b[90m\u001b[4mmpfr.jl:455\u001b[24m\u001b[39m\n",
       "  [46] +(\u001b[90mB\u001b[39m::\u001b[1mBitMatrix\u001b[22m, \u001b[90mJ\u001b[39m::\u001b[1mLinearAlgebra.UniformScaling\u001b[22m)\n",
       "\u001b[90m     @\u001b[39m \u001b[33mLinearAlgebra\u001b[39m \u001b[90m/Applications/Julia-1.10.0.app/Contents/Resources/julia/share/julia/stdlib/v1.10/LinearAlgebra/src/\u001b[39m\u001b[90m\u001b[4muniformscaling.jl:151\u001b[24m\u001b[39m\n",
       "  [47] +(\u001b[90mz\u001b[39m::\u001b[1mComplex\u001b[22m\u001b[0m{Bool}, \u001b[90mx\u001b[39m::\u001b[1mBool\u001b[22m)\n",
       "\u001b[90m     @\u001b[39m \u001b[90m\u001b[4mcomplex.jl:306\u001b[24m\u001b[39m\n",
       "  [48] +(\u001b[90mz\u001b[39m::\u001b[1mComplex\u001b[22m\u001b[0m{Bool}, \u001b[90mx\u001b[39m::\u001b[1mReal\u001b[22m)\n",
       "\u001b[90m     @\u001b[39m \u001b[90m\u001b[4mcomplex.jl:320\u001b[24m\u001b[39m\n",
       "  [49] +(\u001b[90mz\u001b[39m::\u001b[1mComplex\u001b[22m, \u001b[90mx\u001b[39m::\u001b[1mBool\u001b[22m)\n",
       "\u001b[90m     @\u001b[39m \u001b[90m\u001b[4mcomplex.jl:313\u001b[24m\u001b[39m\n",
       "  [50] +(\u001b[90mA\u001b[39m::\u001b[1mLinearAlgebra.LowerTriangular\u001b[22m, \u001b[90mB\u001b[39m::\u001b[1mLinearAlgebra.Bidiagonal\u001b[22m)\n",
       "\u001b[90m     @\u001b[39m \u001b[33mLinearAlgebra\u001b[39m \u001b[90m/Applications/Julia-1.10.0.app/Contents/Resources/julia/share/julia/stdlib/v1.10/LinearAlgebra/src/\u001b[39m\u001b[90m\u001b[4mspecial.jl:91\u001b[24m\u001b[39m\n",
       "  [51] +(\u001b[90mA\u001b[39m::\u001b[1mLinearAlgebra.LowerTriangular\u001b[22m, \u001b[90mB\u001b[39m::\u001b[1mLinearAlgebra.UnitLowerTriangular\u001b[22m)\n",
       "\u001b[90m     @\u001b[39m \u001b[33mLinearAlgebra\u001b[39m \u001b[90m/Applications/Julia-1.10.0.app/Contents/Resources/julia/share/julia/stdlib/v1.10/LinearAlgebra/src/\u001b[39m\u001b[90m\u001b[4mtriangular.jl:653\u001b[24m\u001b[39m\n",
       "  [52] +(\u001b[90mA\u001b[39m::\u001b[1mLinearAlgebra.LowerTriangular\u001b[22m, \u001b[90mB\u001b[39m::\u001b[1mLinearAlgebra.LowerTriangular\u001b[22m)\n",
       "\u001b[90m     @\u001b[39m \u001b[33mLinearAlgebra\u001b[39m \u001b[90m/Applications/Julia-1.10.0.app/Contents/Resources/julia/share/julia/stdlib/v1.10/LinearAlgebra/src/\u001b[39m\u001b[90m\u001b[4mtriangular.jl:651\u001b[24m\u001b[39m\n",
       "  [53] +(\u001b[90mA\u001b[39m::\u001b[1mArray\u001b[22m, \u001b[90mBs\u001b[39m::\u001b[1mArray...\u001b[22m)\n",
       "\u001b[90m     @\u001b[39m \u001b[90m\u001b[4marraymath.jl:12\u001b[24m\u001b[39m\n",
       "  [54] +(\u001b[90mx\u001b[39m::\u001b[1mInteger\u001b[22m, \u001b[90my\u001b[39m::\u001b[1mAbstractChar\u001b[22m)\n",
       "\u001b[90m     @\u001b[39m \u001b[90m\u001b[4mchar.jl:247\u001b[24m\u001b[39m\n",
       "  [55] +(\u001b[90my\u001b[39m::\u001b[1mInteger\u001b[22m, \u001b[90mx\u001b[39m::\u001b[1mRational\u001b[22m)\n",
       "\u001b[90m     @\u001b[39m \u001b[90m\u001b[4mrational.jl:350\u001b[24m\u001b[39m\n",
       "  [56] +(\u001b[90mx\u001b[39m::\u001b[1mInteger\u001b[22m, \u001b[90my\u001b[39m::\u001b[1mPtr\u001b[22m)\n",
       "\u001b[90m     @\u001b[39m \u001b[90m\u001b[4mpointer.jl:284\u001b[24m\u001b[39m\n",
       "  [57] +(\u001b[90mc\u001b[39m::\u001b[1mUnion\u001b[22m\u001b[0m{Int16, Int32, Int64, Int8}, \u001b[90mx\u001b[39m::\u001b[1mBigInt\u001b[22m)\n",
       "\u001b[90m     @\u001b[39m \u001b[90mBase.GMP\u001b[39m \u001b[90m\u001b[4mgmp.jl:556\u001b[24m\u001b[39m\n",
       "  [58] +(\u001b[90mc\u001b[39m::\u001b[1mUnion\u001b[22m\u001b[0m{UInt16, UInt32, UInt64, UInt8}, \u001b[90mx\u001b[39m::\u001b[1mBigInt\u001b[22m)\n",
       "\u001b[90m     @\u001b[39m \u001b[90mBase.GMP\u001b[39m \u001b[90m\u001b[4mgmp.jl:550\u001b[24m\u001b[39m\n",
       "  [59] +(\u001b[90mx\u001b[39m::\u001b[1mT\u001b[22m, \u001b[90my\u001b[39m::\u001b[1mT\u001b[22m) where T<:Union{Int128, Int16, Int32, Int64, Int8, UInt128, UInt16, UInt32, UInt64, UInt8}\n",
       "\u001b[90m     @\u001b[39m \u001b[90m\u001b[4mint.jl:87\u001b[24m\u001b[39m\n",
       "  [60] +(\u001b[90ma\u001b[39m::\u001b[1mInteger\u001b[22m, \u001b[90mb\u001b[39m::\u001b[1mInteger\u001b[22m)\n",
       "\u001b[90m     @\u001b[39m \u001b[90m\u001b[4mint.jl:1064\u001b[24m\u001b[39m\n",
       "  [61] +(\u001b[90mx\u001b[39m::\u001b[1mNumber\u001b[22m, \u001b[90mJ\u001b[39m::\u001b[1mLinearAlgebra.UniformScaling\u001b[22m)\n",
       "\u001b[90m     @\u001b[39m \u001b[33mLinearAlgebra\u001b[39m \u001b[90m/Applications/Julia-1.10.0.app/Contents/Resources/julia/share/julia/stdlib/v1.10/LinearAlgebra/src/\u001b[39m\u001b[90m\u001b[4muniformscaling.jl:145\u001b[24m\u001b[39m\n",
       "  [62] +(::\u001b[1mNumber\u001b[22m, ::\u001b[1mMissing\u001b[22m)\n",
       "\u001b[90m     @\u001b[39m \u001b[90m\u001b[4mmissing.jl:124\u001b[24m\u001b[39m\n",
       "  [63] +(\u001b[90mx\u001b[39m::\u001b[1mNumber\u001b[22m, \u001b[90my\u001b[39m::\u001b[1mBase.TwicePrecision\u001b[22m)\n",
       "\u001b[90m     @\u001b[39m \u001b[90m\u001b[4mtwiceprecision.jl:292\u001b[24m\u001b[39m\n",
       "  [64] +(\u001b[90mx\u001b[39m::\u001b[1mUnitful.AbstractQuantity\u001b[22m)\n",
       "\u001b[90m     @\u001b[39m \u001b[35mUnitful\u001b[39m \u001b[90m~/.julia/packages/Unitful/R4J37/src/\u001b[39m\u001b[90m\u001b[4mquantities.jl:138\u001b[24m\u001b[39m\n",
       "  [65] +(\u001b[90mx\u001b[39m::\u001b[1mRational\u001b[22m)\n",
       "\u001b[90m     @\u001b[39m \u001b[90m\u001b[4mrational.jl:300\u001b[24m\u001b[39m\n",
       "  [66] +(\u001b[90mz\u001b[39m::\u001b[1mComplex\u001b[22m)\n",
       "\u001b[90m     @\u001b[39m \u001b[90m\u001b[4mcomplex.jl:292\u001b[24m\u001b[39m\n",
       "  [67] +(\u001b[90mx\u001b[39m::\u001b[1mNumber\u001b[22m)\n",
       "\u001b[90m     @\u001b[39m \u001b[90m\u001b[4moperators.jl:524\u001b[24m\u001b[39m\n",
       "  [68] +(\u001b[90mx\u001b[39m::\u001b[1mUnitful.AbstractQuantity\u001b[22m\u001b[0m{T, D, U} where {T, D, U<:(Unitful.Units{N, D, A} where {N, D, A<:Unitful.Affine})}, \u001b[90my\u001b[39m::\u001b[1mUnitful.AbstractQuantity\u001b[22m\u001b[0m{T, D, U} where {T, D, U<:(Unitful.Units{N, D, A} where {N, D, A<:Unitful.Affine})})\n",
       "\u001b[90m     @\u001b[39m \u001b[35mUnitful\u001b[39m \u001b[90m~/.julia/packages/Unitful/R4J37/src/\u001b[39m\u001b[90m\u001b[4mquantities.jl:158\u001b[24m\u001b[39m\n",
       "  [69] +(\u001b[90mx\u001b[39m::\u001b[1mUnitful.AbstractQuantity\u001b[22m\u001b[0m{S, D, U} where U<:(Unitful.Units{N, D, A} where {N, D, A<:Unitful.Affine}), \u001b[90my\u001b[39m::\u001b[1mUnitful.AbstractQuantity\u001b[22m\u001b[0m{T, D}) where {S, T, D}\n",
       "\u001b[90m     @\u001b[39m \u001b[35mUnitful\u001b[39m \u001b[90m~/.julia/packages/Unitful/R4J37/src/\u001b[39m\u001b[90m\u001b[4mquantities.jl:141\u001b[24m\u001b[39m\n",
       "  [70] +(\u001b[90mx\u001b[39m::\u001b[1mUnitful.AbstractQuantity\u001b[22m, \u001b[90my\u001b[39m::\u001b[1mUnitful.AbstractQuantity\u001b[22m\u001b[0m{T, D, U} where {T, D, U<:(Unitful.Units{N, D, A} where {N, D, A<:Unitful.Affine})})\n",
       "\u001b[90m     @\u001b[39m \u001b[35mUnitful\u001b[39m \u001b[90m~/.julia/packages/Unitful/R4J37/src/\u001b[39m\u001b[90m\u001b[4mquantities.jl:155\u001b[24m\u001b[39m\n",
       "  [71] +(\u001b[90mx\u001b[39m::\u001b[1mUnitful.AbstractQuantity\u001b[22m\u001b[0m{S, D, U}, \u001b[90my\u001b[39m::\u001b[1mUnitful.AbstractQuantity\u001b[22m\u001b[0m{T, D, U}) where {S, T, D, U}\n",
       "\u001b[90m     @\u001b[39m \u001b[35mUnitful\u001b[39m \u001b[90m~/.julia/packages/Unitful/R4J37/src/\u001b[39m\u001b[90m\u001b[4mquantities.jl:130\u001b[24m\u001b[39m\n",
       "  [72] +(\u001b[90mx\u001b[39m::\u001b[1mUnitful.AbstractQuantity\u001b[22m\u001b[0m{S, D, SU}, \u001b[90my\u001b[39m::\u001b[1mUnitful.AbstractQuantity\u001b[22m\u001b[0m{T, D, TU}) where {S, T, D, SU, TU}\n",
       "\u001b[90m     @\u001b[39m \u001b[35mUnitful\u001b[39m \u001b[90m~/.julia/packages/Unitful/R4J37/src/\u001b[39m\u001b[90m\u001b[4mquantities.jl:133\u001b[24m\u001b[39m\n",
       "  [73] +(\u001b[90mx\u001b[39m::\u001b[1mUnitful.AbstractQuantity\u001b[22m, \u001b[90my\u001b[39m::\u001b[1mUnitful.AbstractQuantity\u001b[22m)\n",
       "\u001b[90m     @\u001b[39m \u001b[35mUnitful\u001b[39m \u001b[90m~/.julia/packages/Unitful/R4J37/src/\u001b[39m\u001b[90m\u001b[4mquantities.jl:137\u001b[24m\u001b[39m\n",
       "  [74] +(\u001b[90mx\u001b[39m::\u001b[1mRational\u001b[22m, \u001b[90my\u001b[39m::\u001b[1mRational\u001b[22m)\n",
       "\u001b[90m     @\u001b[39m \u001b[90m\u001b[4mrational.jl:314\u001b[24m\u001b[39m\n",
       "  [75] +(\u001b[90mx\u001b[39m::\u001b[1mAbstractIrrational\u001b[22m, \u001b[90my\u001b[39m::\u001b[1mAbstractIrrational\u001b[22m)\n",
       "\u001b[90m     @\u001b[39m \u001b[90m\u001b[4mirrationals.jl:161\u001b[24m\u001b[39m\n",
       "  [76] +(\u001b[90mx\u001b[39m::\u001b[1mLevel\u001b[22m\u001b[0m{L, S}, \u001b[90my\u001b[39m::\u001b[1mLevel\u001b[22m\u001b[0m{L, S}) where {L, S}\n",
       "\u001b[90m     @\u001b[39m \u001b[35mUnitful\u001b[39m \u001b[90m~/.julia/packages/Unitful/R4J37/src/\u001b[39m\u001b[90m\u001b[4mlogarithm.jl:184\u001b[24m\u001b[39m\n",
       "  [77] +(\u001b[90mx\u001b[39m::\u001b[1mGain\u001b[22m\u001b[0m{L, S}, \u001b[90my\u001b[39m::\u001b[1mGain\u001b[22m\u001b[0m{L, S}) where {L, S}\n",
       "\u001b[90m     @\u001b[39m \u001b[35mUnitful\u001b[39m \u001b[90m~/.julia/packages/Unitful/R4J37/src/\u001b[39m\u001b[90m\u001b[4mlogarithm.jl:185\u001b[24m\u001b[39m\n",
       "  [78] +(\u001b[90mx\u001b[39m::\u001b[1mGain\u001b[22m\u001b[0m{L, S1}, \u001b[90my\u001b[39m::\u001b[1mGain\u001b[22m\u001b[0m{L, S2}) where {L, S1, S2}\n",
       "\u001b[90m     @\u001b[39m \u001b[35mUnitful\u001b[39m \u001b[90m~/.julia/packages/Unitful/R4J37/src/\u001b[39m\u001b[90m\u001b[4mlogarithm.jl:186\u001b[24m\u001b[39m\n",
       "  [79] +(\u001b[90mz\u001b[39m::\u001b[1mComplex\u001b[22m, \u001b[90mw\u001b[39m::\u001b[1mComplex\u001b[22m)\n",
       "\u001b[90m     @\u001b[39m \u001b[90m\u001b[4mcomplex.jl:294\u001b[24m\u001b[39m\n",
       "  [80] +(\u001b[90mx\u001b[39m::\u001b[1mT\u001b[22m, \u001b[90my\u001b[39m::\u001b[1mT\u001b[22m) where T<:Union{Float16, Float32, Float64}\n",
       "\u001b[90m     @\u001b[39m \u001b[90m\u001b[4mfloat.jl:409\u001b[24m\u001b[39m\n",
       "  [81] +(\u001b[90mx\u001b[39m::\u001b[1mT\u001b[22m, \u001b[90my\u001b[39m::\u001b[1mT\u001b[22m) where T<:Number\n",
       "\u001b[90m     @\u001b[39m \u001b[90m\u001b[4mpromotion.jl:507\u001b[24m\u001b[39m\n",
       "  [82] +(\u001b[90mx\u001b[39m::\u001b[1mRational\u001b[22m, \u001b[90my\u001b[39m::\u001b[1mInteger\u001b[22m)\n",
       "\u001b[90m     @\u001b[39m \u001b[90m\u001b[4mrational.jl:343\u001b[24m\u001b[39m\n",
       "  [83] +(\u001b[90mx\u001b[39m::\u001b[1mLevel\u001b[22m\u001b[0m{L, S}, \u001b[90my\u001b[39m::\u001b[1mGain\u001b[22m\u001b[0m{L}) where {L, S}\n",
       "\u001b[90m     @\u001b[39m \u001b[35mUnitful\u001b[39m \u001b[90m~/.julia/packages/Unitful/R4J37/src/\u001b[39m\u001b[90m\u001b[4mlogarithm.jl:195\u001b[24m\u001b[39m\n",
       "  [84] +(\u001b[90my\u001b[39m::\u001b[1mAbstractFloat\u001b[22m, \u001b[90mx\u001b[39m::\u001b[1mBool\u001b[22m)\n",
       "\u001b[90m     @\u001b[39m \u001b[90m\u001b[4mbool.jl:176\u001b[24m\u001b[39m\n",
       "  [85] +(\u001b[90mx\u001b[39m::\u001b[1mReal\u001b[22m, \u001b[90mz\u001b[39m::\u001b[1mComplex\u001b[22m)\n",
       "\u001b[90m     @\u001b[39m \u001b[90m\u001b[4mcomplex.jl:331\u001b[24m\u001b[39m\n",
       "  [86] +(\u001b[90mx\u001b[39m::\u001b[1mGain\u001b[22m, \u001b[90my\u001b[39m::\u001b[1mLevel\u001b[22m)\n",
       "\u001b[90m     @\u001b[39m \u001b[35mUnitful\u001b[39m \u001b[90m~/.julia/packages/Unitful/R4J37/src/\u001b[39m\u001b[90m\u001b[4mlogarithm.jl:198\u001b[24m\u001b[39m\n",
       "  [87] +(\u001b[90mz\u001b[39m::\u001b[1mComplex\u001b[22m, \u001b[90mx\u001b[39m::\u001b[1mReal\u001b[22m)\n",
       "\u001b[90m     @\u001b[39m \u001b[90m\u001b[4mcomplex.jl:332\u001b[24m\u001b[39m\n",
       "  [88] +(\u001b[90mc\u001b[39m::\u001b[1mUnion\u001b[22m\u001b[0m{Float16, Float32, Float64}, \u001b[90mx\u001b[39m::\u001b[1mBigFloat\u001b[22m)\n",
       "\u001b[90m     @\u001b[39m \u001b[90mBase.MPFR\u001b[39m \u001b[90m\u001b[4mmpfr.jl:460\u001b[24m\u001b[39m\n",
       "  [89] +(\u001b[90mc\u001b[39m::\u001b[1mUnion\u001b[22m\u001b[0m{Int16, Int32, Int64, Int8}, \u001b[90mx\u001b[39m::\u001b[1mBigFloat\u001b[22m)\n",
       "\u001b[90m     @\u001b[39m \u001b[90mBase.MPFR\u001b[39m \u001b[90m\u001b[4mmpfr.jl:452\u001b[24m\u001b[39m\n",
       "  [90] +(\u001b[90mc\u001b[39m::\u001b[1mUnion\u001b[22m\u001b[0m{UInt16, UInt32, UInt64, UInt8}, \u001b[90mx\u001b[39m::\u001b[1mBigFloat\u001b[22m)\n",
       "\u001b[90m     @\u001b[39m \u001b[90mBase.MPFR\u001b[39m \u001b[90m\u001b[4mmpfr.jl:444\u001b[24m\u001b[39m\n",
       "  [91] +(\u001b[90mx\u001b[39m::\u001b[1mNumber\u001b[22m, \u001b[90my\u001b[39m::\u001b[1mNumber\u001b[22m)\n",
       "\u001b[90m     @\u001b[39m \u001b[90m\u001b[4mpromotion.jl:422\u001b[24m\u001b[39m\n",
       "  [92] +(\u001b[90mF\u001b[39m::\u001b[1mLinearAlgebra.Hessenberg\u001b[22m, \u001b[90mJ\u001b[39m::\u001b[1mLinearAlgebra.UniformScaling\u001b[22m)\n",
       "\u001b[90m     @\u001b[39m \u001b[33mLinearAlgebra\u001b[39m \u001b[90m/Applications/Julia-1.10.0.app/Contents/Resources/julia/share/julia/stdlib/v1.10/LinearAlgebra/src/\u001b[39m\u001b[90m\u001b[4mhessenberg.jl:560\u001b[24m\u001b[39m\n",
       "  [93] +(\u001b[90mx\u001b[39m::\u001b[1mUnitful.AbstractQuantity\u001b[22m, \u001b[90my\u001b[39m::\u001b[1mUnion\u001b[22m\u001b[0m{Dates.Day, Dates.Hour, Dates.Microsecond, Dates.Millisecond, Dates.Minute, Dates.Nanosecond, Dates.Second, Dates.Week})\n",
       "\u001b[90m     @\u001b[39m \u001b[35mUnitful\u001b[39m \u001b[90m~/.julia/packages/Unitful/R4J37/src/\u001b[39m\u001b[90m\u001b[4mdates.jl:87\u001b[24m\u001b[39m\n",
       "  [94] +(\u001b[90mA\u001b[39m::\u001b[1mLinearAlgebra.UnitLowerTriangular\u001b[22m, \u001b[90mB\u001b[39m::\u001b[1mLinearAlgebra.Bidiagonal\u001b[22m)\n",
       "\u001b[90m     @\u001b[39m \u001b[33mLinearAlgebra\u001b[39m \u001b[90m/Applications/Julia-1.10.0.app/Contents/Resources/julia/share/julia/stdlib/v1.10/LinearAlgebra/src/\u001b[39m\u001b[90m\u001b[4mspecial.jl:91\u001b[24m\u001b[39m\n",
       "  [95] +(\u001b[90mUL\u001b[39m::\u001b[1mLinearAlgebra.UnitLowerTriangular\u001b[22m, \u001b[90mJ\u001b[39m::\u001b[1mLinearAlgebra.UniformScaling\u001b[22m)\n",
       "\u001b[90m     @\u001b[39m \u001b[33mLinearAlgebra\u001b[39m \u001b[90m/Applications/Julia-1.10.0.app/Contents/Resources/julia/share/julia/stdlib/v1.10/LinearAlgebra/src/\u001b[39m\u001b[90m\u001b[4muniformscaling.jl:181\u001b[24m\u001b[39m\n",
       "  [96] +(\u001b[90mA\u001b[39m::\u001b[1mLinearAlgebra.UnitLowerTriangular\u001b[22m, \u001b[90mB\u001b[39m::\u001b[1mLinearAlgebra.UnitLowerTriangular\u001b[22m)\n",
       "\u001b[90m     @\u001b[39m \u001b[33mLinearAlgebra\u001b[39m \u001b[90m/Applications/Julia-1.10.0.app/Contents/Resources/julia/share/julia/stdlib/v1.10/LinearAlgebra/src/\u001b[39m\u001b[90m\u001b[4mtriangular.jl:657\u001b[24m\u001b[39m\n",
       "  [97] +(\u001b[90mA\u001b[39m::\u001b[1mLinearAlgebra.UnitLowerTriangular\u001b[22m, \u001b[90mB\u001b[39m::\u001b[1mLinearAlgebra.LowerTriangular\u001b[22m)\n",
       "\u001b[90m     @\u001b[39m \u001b[33mLinearAlgebra\u001b[39m \u001b[90m/Applications/Julia-1.10.0.app/Contents/Resources/julia/share/julia/stdlib/v1.10/LinearAlgebra/src/\u001b[39m\u001b[90m\u001b[4mtriangular.jl:655\u001b[24m\u001b[39m\n",
       "  [98] +(\u001b[90mA\u001b[39m::\u001b[1mLinearAlgebra.Hermitian\u001b[22m, \u001b[90mJ\u001b[39m::\u001b[1mLinearAlgebra.UniformScaling\u001b[22m\u001b[0m{<:Complex})\n",
       "\u001b[90m     @\u001b[39m \u001b[33mLinearAlgebra\u001b[39m \u001b[90m/Applications/Julia-1.10.0.app/Contents/Resources/julia/share/julia/stdlib/v1.10/LinearAlgebra/src/\u001b[39m\u001b[90m\u001b[4muniformscaling.jl:195\u001b[24m\u001b[39m\n",
       "  [99] +(\u001b[90mH\u001b[39m::\u001b[1mLinearAlgebra.Hermitian\u001b[22m, \u001b[90mD\u001b[39m::\u001b[1mLinearAlgebra.Diagonal\u001b[22m\u001b[0m{var\"#s988\", V} where {var\"#s988\"<:Real, V<:AbstractVector{var\"#s988\"}})\n",
       "\u001b[90m     @\u001b[39m \u001b[33mLinearAlgebra\u001b[39m \u001b[90m/Applications/Julia-1.10.0.app/Contents/Resources/julia/share/julia/stdlib/v1.10/LinearAlgebra/src/\u001b[39m\u001b[90m\u001b[4mdiagonal.jl:238\u001b[24m\u001b[39m\n",
       " [100] +(\u001b[90mA\u001b[39m::\u001b[1mLinearAlgebra.Hermitian\u001b[22m, \u001b[90mB\u001b[39m::\u001b[1mLinearAlgebra.SymTridiagonal\u001b[22m\u001b[0m{var\"#s126\", V} where {var\"#s126\"<:Real, V<:AbstractVector{var\"#s126\"}})\n",
       "\u001b[90m     @\u001b[39m \u001b[33mLinearAlgebra\u001b[39m \u001b[90m/Applications/Julia-1.10.0.app/Contents/Resources/julia/share/julia/stdlib/v1.10/LinearAlgebra/src/\u001b[39m\u001b[90m\u001b[4msymmetric.jl:523\u001b[24m\u001b[39m\n",
       " [101] +(\u001b[90mA\u001b[39m::\u001b[1mLinearAlgebra.Hermitian\u001b[22m, \u001b[90mB\u001b[39m::\u001b[1mLinearAlgebra.Symmetric\u001b[22m\u001b[0m{var\"#s988\", S} where {var\"#s988\"<:Real, S<:(AbstractMatrix{<:var\"#s988\"})})\n",
       "\u001b[90m     @\u001b[39m \u001b[33mLinearAlgebra\u001b[39m \u001b[90m/Applications/Julia-1.10.0.app/Contents/Resources/julia/share/julia/stdlib/v1.10/LinearAlgebra/src/\u001b[39m\u001b[90m\u001b[4msymmetric.jl:518\u001b[24m\u001b[39m\n",
       " [102] +(\u001b[90mA\u001b[39m::\u001b[1mLinearAlgebra.Hermitian\u001b[22m, \u001b[90mB\u001b[39m::\u001b[1mLinearAlgebra.Hermitian\u001b[22m)\n",
       "\u001b[90m     @\u001b[39m \u001b[33mLinearAlgebra\u001b[39m \u001b[90m/Applications/Julia-1.10.0.app/Contents/Resources/julia/share/julia/stdlib/v1.10/LinearAlgebra/src/\u001b[39m\u001b[90m\u001b[4msymmetric.jl:504\u001b[24m\u001b[39m\n",
       " [103] +(\u001b[90mx\u001b[39m::\u001b[1mDates.Period\u001b[22m, \u001b[90mr\u001b[39m::\u001b[1mAbstractRange\u001b[22m\u001b[0m{<:Dates.TimeType})\n",
       "\u001b[90m     @\u001b[39m \u001b[36mDates\u001b[39m \u001b[90m/Applications/Julia-1.10.0.app/Contents/Resources/julia/share/julia/stdlib/v1.10/Dates/src/\u001b[39m\u001b[90m\u001b[4mranges.jl:64\u001b[24m\u001b[39m\n",
       " [104] +(\u001b[90my\u001b[39m::\u001b[1mDates.Period\u001b[22m, \u001b[90mx\u001b[39m::\u001b[1mDates.TimeType\u001b[22m)\n",
       "\u001b[90m     @\u001b[39m \u001b[36mDates\u001b[39m \u001b[90m/Applications/Julia-1.10.0.app/Contents/Resources/julia/share/julia/stdlib/v1.10/Dates/src/\u001b[39m\u001b[90m\u001b[4marithmetic.jl:87\u001b[24m\u001b[39m\n",
       " [105] +(\u001b[90my\u001b[39m::\u001b[1mDates.Period\u001b[22m, \u001b[90mx\u001b[39m::\u001b[1mDates.CompoundPeriod\u001b[22m)\n",
       "\u001b[90m     @\u001b[39m \u001b[36mDates\u001b[39m \u001b[90m/Applications/Julia-1.10.0.app/Contents/Resources/julia/share/julia/stdlib/v1.10/Dates/src/\u001b[39m\u001b[90m\u001b[4mperiods.jl:333\u001b[24m\u001b[39m\n",
       " [106] +(\u001b[90mx\u001b[39m::\u001b[1mP\u001b[22m, \u001b[90my\u001b[39m::\u001b[1mP\u001b[22m) where P<:Dates.Period\n",
       "\u001b[90m     @\u001b[39m \u001b[36mDates\u001b[39m \u001b[90m/Applications/Julia-1.10.0.app/Contents/Resources/julia/share/julia/stdlib/v1.10/Dates/src/\u001b[39m\u001b[90m\u001b[4mperiods.jl:75\u001b[24m\u001b[39m\n",
       " [107] +(\u001b[90mx\u001b[39m::\u001b[1mDates.Period\u001b[22m, \u001b[90my\u001b[39m::\u001b[1mDates.Period\u001b[22m)\n",
       "\u001b[90m     @\u001b[39m \u001b[36mDates\u001b[39m \u001b[90m/Applications/Julia-1.10.0.app/Contents/Resources/julia/share/julia/stdlib/v1.10/Dates/src/\u001b[39m\u001b[90m\u001b[4mperiods.jl:331\u001b[24m\u001b[39m\n",
       " [108] +(\u001b[90mx\u001b[39m::\u001b[1mPtr\u001b[22m, \u001b[90my\u001b[39m::\u001b[1mInteger\u001b[22m)\n",
       "\u001b[90m     @\u001b[39m \u001b[90m\u001b[4mpointer.jl:282\u001b[24m\u001b[39m\n",
       " [109] +(\u001b[90mr1\u001b[39m::\u001b[1mStepRangeLen\u001b[22m\u001b[0m{T, R}, \u001b[90mr2\u001b[39m::\u001b[1mStepRangeLen\u001b[22m\u001b[0m{T, R}) where {R<:Base.TwicePrecision, T}\n",
       "\u001b[90m     @\u001b[39m \u001b[90m\u001b[4mtwiceprecision.jl:626\u001b[24m\u001b[39m\n",
       " [110] +(\u001b[90mr1\u001b[39m::\u001b[1mStepRangeLen\u001b[22m\u001b[0m{T, S}, \u001b[90mr2\u001b[39m::\u001b[1mStepRangeLen\u001b[22m\u001b[0m{T, S}) where {T, S}\n",
       "\u001b[90m     @\u001b[39m \u001b[90m\u001b[4mrange.jl:1477\u001b[24m\u001b[39m\n",
       " [111] +(\u001b[90mA\u001b[39m::\u001b[1mLinearAlgebra.Tridiagonal\u001b[22m, \u001b[90mB\u001b[39m::\u001b[1mLinearAlgebra.UniformScaling\u001b[22m)\n",
       "\u001b[90m     @\u001b[39m \u001b[33mLinearAlgebra\u001b[39m \u001b[90m/Applications/Julia-1.10.0.app/Contents/Resources/julia/share/julia/stdlib/v1.10/LinearAlgebra/src/\u001b[39m\u001b[90m\u001b[4mspecial.jl:232\u001b[24m\u001b[39m\n",
       " [112] +(\u001b[90mB\u001b[39m::\u001b[1mLinearAlgebra.Tridiagonal\u001b[22m, \u001b[90mA\u001b[39m::\u001b[1mLinearAlgebra.Bidiagonal\u001b[22m)\n",
       "\u001b[90m     @\u001b[39m \u001b[33mLinearAlgebra\u001b[39m \u001b[90m\u001b[4mnone:0\u001b[24m\u001b[39m\n",
       " [113] +(\u001b[90mB\u001b[39m::\u001b[1mLinearAlgebra.Tridiagonal\u001b[22m, \u001b[90mA\u001b[39m::\u001b[1mLinearAlgebra.Diagonal\u001b[22m)\n",
       "\u001b[90m     @\u001b[39m \u001b[33mLinearAlgebra\u001b[39m \u001b[90m\u001b[4mnone:0\u001b[24m\u001b[39m\n",
       " [114] +(\u001b[90mA\u001b[39m::\u001b[1mLinearAlgebra.Tridiagonal\u001b[22m, \u001b[90mB\u001b[39m::\u001b[1mLinearAlgebra.SymTridiagonal\u001b[22m)\n",
       "\u001b[90m     @\u001b[39m \u001b[33mLinearAlgebra\u001b[39m \u001b[90m/Applications/Julia-1.10.0.app/Contents/Resources/julia/share/julia/stdlib/v1.10/LinearAlgebra/src/\u001b[39m\u001b[90m\u001b[4mspecial.jl:183\u001b[24m\u001b[39m\n",
       " [115] +(\u001b[90mx\u001b[39m::\u001b[1mLinearAlgebra.Tridiagonal\u001b[22m, \u001b[90mH\u001b[39m::\u001b[1mLinearAlgebra.UpperHessenberg\u001b[22m)\n",
       "\u001b[90m     @\u001b[39m \u001b[33mLinearAlgebra\u001b[39m \u001b[90m/Applications/Julia-1.10.0.app/Contents/Resources/julia/share/julia/stdlib/v1.10/LinearAlgebra/src/\u001b[39m\u001b[90m\u001b[4mhessenberg.jl:120\u001b[24m\u001b[39m\n",
       " [116] +(\u001b[90mA\u001b[39m::\u001b[1mLinearAlgebra.Tridiagonal\u001b[22m, \u001b[90mB\u001b[39m::\u001b[1mLinearAlgebra.Tridiagonal\u001b[22m)\n",
       "\u001b[90m     @\u001b[39m \u001b[33mLinearAlgebra\u001b[39m \u001b[90m/Applications/Julia-1.10.0.app/Contents/Resources/julia/share/julia/stdlib/v1.10/LinearAlgebra/src/\u001b[39m\u001b[90m\u001b[4mtridiag.jl:739\u001b[24m\u001b[39m\n",
       " [117] +(\u001b[90mA\u001b[39m::\u001b[1mLinearAlgebra.Bidiagonal\u001b[22m, \u001b[90mB\u001b[39m::\u001b[1mLinearAlgebra.LowerTriangular\u001b[22m)\n",
       "\u001b[90m     @\u001b[39m \u001b[33mLinearAlgebra\u001b[39m \u001b[90m/Applications/Julia-1.10.0.app/Contents/Resources/julia/share/julia/stdlib/v1.10/LinearAlgebra/src/\u001b[39m\u001b[90m\u001b[4mspecial.jl:99\u001b[24m\u001b[39m\n",
       " [118] +(\u001b[90mA\u001b[39m::\u001b[1mLinearAlgebra.Bidiagonal\u001b[22m, \u001b[90mB\u001b[39m::\u001b[1mLinearAlgebra.Tridiagonal\u001b[22m)\n",
       "\u001b[90m     @\u001b[39m \u001b[33mLinearAlgebra\u001b[39m \u001b[90m/Applications/Julia-1.10.0.app/Contents/Resources/julia/share/julia/stdlib/v1.10/LinearAlgebra/src/\u001b[39m\u001b[90m\u001b[4mspecial.jl:202\u001b[24m\u001b[39m\n",
       " [119] +(\u001b[90mA\u001b[39m::\u001b[1mLinearAlgebra.Bidiagonal\u001b[22m, \u001b[90mB\u001b[39m::\u001b[1mLinearAlgebra.UpperTriangular\u001b[22m)\n",
       "\u001b[90m     @\u001b[39m \u001b[33mLinearAlgebra\u001b[39m \u001b[90m/Applications/Julia-1.10.0.app/Contents/Resources/julia/share/julia/stdlib/v1.10/LinearAlgebra/src/\u001b[39m\u001b[90m\u001b[4mspecial.jl:99\u001b[24m\u001b[39m\n",
       " [120] +(\u001b[90mx\u001b[39m::\u001b[1mLinearAlgebra.Bidiagonal\u001b[22m, \u001b[90mH\u001b[39m::\u001b[1mLinearAlgebra.UpperHessenberg\u001b[22m)\n",
       "\u001b[90m     @\u001b[39m \u001b[33mLinearAlgebra\u001b[39m \u001b[90m/Applications/Julia-1.10.0.app/Contents/Resources/julia/share/julia/stdlib/v1.10/LinearAlgebra/src/\u001b[39m\u001b[90m\u001b[4mhessenberg.jl:120\u001b[24m\u001b[39m\n",
       " [121] +(\u001b[90mA\u001b[39m::\u001b[1mLinearAlgebra.Bidiagonal\u001b[22m, \u001b[90mB\u001b[39m::\u001b[1mLinearAlgebra.Bidiagonal\u001b[22m)\n",
       "\u001b[90m     @\u001b[39m \u001b[33mLinearAlgebra\u001b[39m \u001b[90m/Applications/Julia-1.10.0.app/Contents/Resources/julia/share/julia/stdlib/v1.10/LinearAlgebra/src/\u001b[39m\u001b[90m\u001b[4mbidiag.jl:390\u001b[24m\u001b[39m\n",
       " [122] +(\u001b[90mA\u001b[39m::\u001b[1mLinearAlgebra.Bidiagonal\u001b[22m, \u001b[90mB\u001b[39m::\u001b[1mLinearAlgebra.UnitLowerTriangular\u001b[22m)\n",
       "\u001b[90m     @\u001b[39m \u001b[33mLinearAlgebra\u001b[39m \u001b[90m/Applications/Julia-1.10.0.app/Contents/Resources/julia/share/julia/stdlib/v1.10/LinearAlgebra/src/\u001b[39m\u001b[90m\u001b[4mspecial.jl:99\u001b[24m\u001b[39m\n",
       " [123] +(\u001b[90mA\u001b[39m::\u001b[1mLinearAlgebra.Bidiagonal\u001b[22m, \u001b[90mB\u001b[39m::\u001b[1mLinearAlgebra.UnitUpperTriangular\u001b[22m)\n",
       "\u001b[90m     @\u001b[39m \u001b[33mLinearAlgebra\u001b[39m \u001b[90m/Applications/Julia-1.10.0.app/Contents/Resources/julia/share/julia/stdlib/v1.10/LinearAlgebra/src/\u001b[39m\u001b[90m\u001b[4mspecial.jl:99\u001b[24m\u001b[39m\n",
       " [124] +(\u001b[90mA\u001b[39m::\u001b[1mLinearAlgebra.Bidiagonal\u001b[22m, \u001b[90mB\u001b[39m::\u001b[1mLinearAlgebra.UniformScaling\u001b[22m)\n",
       "\u001b[90m     @\u001b[39m \u001b[33mLinearAlgebra\u001b[39m \u001b[90m/Applications/Julia-1.10.0.app/Contents/Resources/julia/share/julia/stdlib/v1.10/LinearAlgebra/src/\u001b[39m\u001b[90m\u001b[4mspecial.jl:242\u001b[24m\u001b[39m\n",
       " [125] +(\u001b[90mA\u001b[39m::\u001b[1mLinearAlgebra.Bidiagonal\u001b[22m, \u001b[90mB\u001b[39m::\u001b[1mLinearAlgebra.SymTridiagonal\u001b[22m)\n",
       "\u001b[90m     @\u001b[39m \u001b[33mLinearAlgebra\u001b[39m \u001b[90m/Applications/Julia-1.10.0.app/Contents/Resources/julia/share/julia/stdlib/v1.10/LinearAlgebra/src/\u001b[39m\u001b[90m\u001b[4mspecial.jl:217\u001b[24m\u001b[39m\n",
       " [126] +(\u001b[90mA\u001b[39m::\u001b[1mLinearAlgebra.Bidiagonal\u001b[22m, \u001b[90mB\u001b[39m::\u001b[1mLinearAlgebra.Diagonal\u001b[22m)\n",
       "\u001b[90m     @\u001b[39m \u001b[33mLinearAlgebra\u001b[39m \u001b[90m/Applications/Julia-1.10.0.app/Contents/Resources/julia/share/julia/stdlib/v1.10/LinearAlgebra/src/\u001b[39m\u001b[90m\u001b[4mspecial.jl:151\u001b[24m\u001b[39m\n",
       " [127] +(\u001b[90mJ\u001b[39m::\u001b[1mLinearAlgebra.UniformScaling\u001b[22m, \u001b[90mB\u001b[39m::\u001b[1mBitMatrix\u001b[22m)\n",
       "\u001b[90m     @\u001b[39m \u001b[33mLinearAlgebra\u001b[39m \u001b[90m/Applications/Julia-1.10.0.app/Contents/Resources/julia/share/julia/stdlib/v1.10/LinearAlgebra/src/\u001b[39m\u001b[90m\u001b[4muniformscaling.jl:152\u001b[24m\u001b[39m\n",
       " [128] +(\u001b[90mB\u001b[39m::\u001b[1mLinearAlgebra.UniformScaling\u001b[22m, \u001b[90mA\u001b[39m::\u001b[1mLinearAlgebra.Tridiagonal\u001b[22m)\n",
       "\u001b[90m     @\u001b[39m \u001b[33mLinearAlgebra\u001b[39m \u001b[90m\u001b[4mnone:0\u001b[24m\u001b[39m\n",
       " [129] +(\u001b[90mB\u001b[39m::\u001b[1mLinearAlgebra.UniformScaling\u001b[22m, \u001b[90mA\u001b[39m::\u001b[1mLinearAlgebra.Bidiagonal\u001b[22m)\n",
       "\u001b[90m     @\u001b[39m \u001b[33mLinearAlgebra\u001b[39m \u001b[90m\u001b[4mnone:0\u001b[24m\u001b[39m\n",
       " [130] +(\u001b[90mJ\u001b[39m::\u001b[1mLinearAlgebra.UniformScaling\u001b[22m, \u001b[90mx\u001b[39m::\u001b[1mNumber\u001b[22m)\n",
       "\u001b[90m     @\u001b[39m \u001b[33mLinearAlgebra\u001b[39m \u001b[90m/Applications/Julia-1.10.0.app/Contents/Resources/julia/share/julia/stdlib/v1.10/LinearAlgebra/src/\u001b[39m\u001b[90m\u001b[4muniformscaling.jl:144\u001b[24m\u001b[39m\n",
       " [131] +(\u001b[90mx\u001b[39m::\u001b[1mLinearAlgebra.UniformScaling\u001b[22m, \u001b[90mH\u001b[39m::\u001b[1mLinearAlgebra.UpperHessenberg\u001b[22m)\n",
       "\u001b[90m     @\u001b[39m \u001b[33mLinearAlgebra\u001b[39m \u001b[90m/Applications/Julia-1.10.0.app/Contents/Resources/julia/share/julia/stdlib/v1.10/LinearAlgebra/src/\u001b[39m\u001b[90m\u001b[4mhessenberg.jl:120\u001b[24m\u001b[39m\n",
       " [132] +(\u001b[90mJ1\u001b[39m::\u001b[1mLinearAlgebra.UniformScaling\u001b[22m, \u001b[90mJ2\u001b[39m::\u001b[1mLinearAlgebra.UniformScaling\u001b[22m)\n",
       "\u001b[90m     @\u001b[39m \u001b[33mLinearAlgebra\u001b[39m \u001b[90m/Applications/Julia-1.10.0.app/Contents/Resources/julia/share/julia/stdlib/v1.10/LinearAlgebra/src/\u001b[39m\u001b[90m\u001b[4muniformscaling.jl:150\u001b[24m\u001b[39m\n",
       " [133] +(\u001b[90mB\u001b[39m::\u001b[1mLinearAlgebra.UniformScaling\u001b[22m, \u001b[90mA\u001b[39m::\u001b[1mLinearAlgebra.SymTridiagonal\u001b[22m)\n",
       "\u001b[90m     @\u001b[39m \u001b[33mLinearAlgebra\u001b[39m \u001b[90m\u001b[4mnone:0\u001b[24m\u001b[39m\n",
       " [134] +(\u001b[90mJ\u001b[39m::\u001b[1mLinearAlgebra.UniformScaling\u001b[22m, \u001b[90mF\u001b[39m::\u001b[1mLinearAlgebra.Hessenberg\u001b[22m)\n",
       "\u001b[90m     @\u001b[39m \u001b[33mLinearAlgebra\u001b[39m \u001b[90m/Applications/Julia-1.10.0.app/Contents/Resources/julia/share/julia/stdlib/v1.10/LinearAlgebra/src/\u001b[39m\u001b[90m\u001b[4mhessenberg.jl:561\u001b[24m\u001b[39m\n",
       " [135] +(\u001b[90mB\u001b[39m::\u001b[1mLinearAlgebra.UniformScaling\u001b[22m, \u001b[90mA\u001b[39m::\u001b[1mLinearAlgebra.Diagonal\u001b[22m)\n",
       "\u001b[90m     @\u001b[39m \u001b[33mLinearAlgebra\u001b[39m \u001b[90m\u001b[4mnone:0\u001b[24m\u001b[39m\n",
       " [136] +(\u001b[90mJ\u001b[39m::\u001b[1mLinearAlgebra.UniformScaling\u001b[22m, \u001b[90mA\u001b[39m::\u001b[1mAbstractMatrix\u001b[22m)\n",
       "\u001b[90m     @\u001b[39m \u001b[33mLinearAlgebra\u001b[39m \u001b[90m/Applications/Julia-1.10.0.app/Contents/Resources/julia/share/julia/stdlib/v1.10/LinearAlgebra/src/\u001b[39m\u001b[90m\u001b[4muniformscaling.jl:153\u001b[24m\u001b[39m\n",
       " [137] +(\u001b[90mJ\u001b[39m::\u001b[1mLinearAlgebra.UniformScaling\u001b[22m)\n",
       "\u001b[90m     @\u001b[39m \u001b[33mLinearAlgebra\u001b[39m \u001b[90m/Applications/Julia-1.10.0.app/Contents/Resources/julia/share/julia/stdlib/v1.10/LinearAlgebra/src/\u001b[39m\u001b[90m\u001b[4muniformscaling.jl:149\u001b[24m\u001b[39m\n",
       " [138] +(\u001b[90mH\u001b[39m::\u001b[1mLinearAlgebra.UpperHessenberg\u001b[22m, \u001b[90mx\u001b[39m::\u001b[1mLinearAlgebra.UniformScaling\u001b[22m)\n",
       "\u001b[90m     @\u001b[39m \u001b[33mLinearAlgebra\u001b[39m \u001b[90m/Applications/Julia-1.10.0.app/Contents/Resources/julia/share/julia/stdlib/v1.10/LinearAlgebra/src/\u001b[39m\u001b[90m\u001b[4mhessenberg.jl:119\u001b[24m\u001b[39m\n",
       " [139] +(\u001b[90mA\u001b[39m::\u001b[1mLinearAlgebra.UpperHessenberg\u001b[22m, \u001b[90mB\u001b[39m::\u001b[1mLinearAlgebra.UpperHessenberg\u001b[22m)\n",
       "\u001b[90m     @\u001b[39m \u001b[33mLinearAlgebra\u001b[39m \u001b[90m/Applications/Julia-1.10.0.app/Contents/Resources/julia/share/julia/stdlib/v1.10/LinearAlgebra/src/\u001b[39m\u001b[90m\u001b[4mhessenberg.jl:112\u001b[24m\u001b[39m\n",
       " [140] +(\u001b[90mH\u001b[39m::\u001b[1mLinearAlgebra.UpperHessenberg\u001b[22m, \u001b[90mx\u001b[39m::\u001b[1mLinearAlgebra.UnitUpperTriangular\u001b[22m)\n",
       "\u001b[90m     @\u001b[39m \u001b[33mLinearAlgebra\u001b[39m \u001b[90m/Applications/Julia-1.10.0.app/Contents/Resources/julia/share/julia/stdlib/v1.10/LinearAlgebra/src/\u001b[39m\u001b[90m\u001b[4mhessenberg.jl:119\u001b[24m\u001b[39m\n",
       " [141] +(\u001b[90mH\u001b[39m::\u001b[1mLinearAlgebra.UpperHessenberg\u001b[22m, \u001b[90mx\u001b[39m::\u001b[1mLinearAlgebra.UpperTriangular\u001b[22m)\n",
       "\u001b[90m     @\u001b[39m \u001b[33mLinearAlgebra\u001b[39m \u001b[90m/Applications/Julia-1.10.0.app/Contents/Resources/julia/share/julia/stdlib/v1.10/LinearAlgebra/src/\u001b[39m\u001b[90m\u001b[4mhessenberg.jl:119\u001b[24m\u001b[39m\n",
       " [142] +(\u001b[90mH\u001b[39m::\u001b[1mLinearAlgebra.UpperHessenberg\u001b[22m, \u001b[90mx\u001b[39m::\u001b[1mLinearAlgebra.SymTridiagonal\u001b[22m)\n",
       "\u001b[90m     @\u001b[39m \u001b[33mLinearAlgebra\u001b[39m \u001b[90m/Applications/Julia-1.10.0.app/Contents/Resources/julia/share/julia/stdlib/v1.10/LinearAlgebra/src/\u001b[39m\u001b[90m\u001b[4mhessenberg.jl:119\u001b[24m\u001b[39m\n",
       " [143] +(\u001b[90mH\u001b[39m::\u001b[1mLinearAlgebra.UpperHessenberg\u001b[22m, \u001b[90mx\u001b[39m::\u001b[1mLinearAlgebra.Tridiagonal\u001b[22m)\n",
       "\u001b[90m     @\u001b[39m \u001b[33mLinearAlgebra\u001b[39m \u001b[90m/Applications/Julia-1.10.0.app/Contents/Resources/julia/share/julia/stdlib/v1.10/LinearAlgebra/src/\u001b[39m\u001b[90m\u001b[4mhessenberg.jl:119\u001b[24m\u001b[39m\n",
       " [144] +(\u001b[90mH\u001b[39m::\u001b[1mLinearAlgebra.UpperHessenberg\u001b[22m, \u001b[90mx\u001b[39m::\u001b[1mLinearAlgebra.Bidiagonal\u001b[22m)\n",
       "\u001b[90m     @\u001b[39m \u001b[33mLinearAlgebra\u001b[39m \u001b[90m/Applications/Julia-1.10.0.app/Contents/Resources/julia/share/julia/stdlib/v1.10/LinearAlgebra/src/\u001b[39m\u001b[90m\u001b[4mhessenberg.jl:119\u001b[24m\u001b[39m\n",
       " [145] +(\u001b[90mH\u001b[39m::\u001b[1mLinearAlgebra.UpperHessenberg\u001b[22m, \u001b[90mx\u001b[39m::\u001b[1mLinearAlgebra.Diagonal\u001b[22m)\n",
       "\u001b[90m     @\u001b[39m \u001b[33mLinearAlgebra\u001b[39m \u001b[90m/Applications/Julia-1.10.0.app/Contents/Resources/julia/share/julia/stdlib/v1.10/LinearAlgebra/src/\u001b[39m\u001b[90m\u001b[4mhessenberg.jl:119\u001b[24m\u001b[39m\n",
       " [146] +(\u001b[90mx\u001b[39m::\u001b[1mDates.Instant\u001b[22m)\n",
       "\u001b[90m     @\u001b[39m \u001b[36mDates\u001b[39m \u001b[90m/Applications/Julia-1.10.0.app/Contents/Resources/julia/share/julia/stdlib/v1.10/Dates/src/\u001b[39m\u001b[90m\u001b[4marithmetic.jl:4\u001b[24m\u001b[39m\n",
       " [147] +(\u001b[90mx\u001b[39m::\u001b[1mBase.TwicePrecision\u001b[22m\u001b[0m{T}, \u001b[90my\u001b[39m::\u001b[1mBase.TwicePrecision\u001b[22m\u001b[0m{T}) where T\n",
       "\u001b[90m     @\u001b[39m \u001b[90m\u001b[4mtwiceprecision.jl:294\u001b[24m\u001b[39m\n",
       " [148] +(\u001b[90mx\u001b[39m::\u001b[1mBase.TwicePrecision\u001b[22m, \u001b[90my\u001b[39m::\u001b[1mBase.TwicePrecision\u001b[22m)\n",
       "\u001b[90m     @\u001b[39m \u001b[90m\u001b[4mtwiceprecision.jl:299\u001b[24m\u001b[39m\n",
       " [149] +(\u001b[90mx\u001b[39m::\u001b[1mBase.TwicePrecision\u001b[22m, \u001b[90my\u001b[39m::\u001b[1mNumber\u001b[22m)\n",
       "\u001b[90m     @\u001b[39m \u001b[90m\u001b[4mtwiceprecision.jl:288\u001b[24m\u001b[39m\n",
       " [150] +(\u001b[90mr1\u001b[39m::\u001b[1mOrdinalRange\u001b[22m, \u001b[90mr2\u001b[39m::\u001b[1mOrdinalRange\u001b[22m)\n",
       "\u001b[90m     @\u001b[39m \u001b[90m\u001b[4mrange.jl:1454\u001b[24m\u001b[39m\n",
       " [151] +(\u001b[90mx\u001b[39m::\u001b[1mT\u001b[22m, \u001b[90my\u001b[39m::\u001b[1mInteger\u001b[22m) where T<:AbstractChar\n",
       "\u001b[90m     @\u001b[39m \u001b[90m\u001b[4mchar.jl:237\u001b[24m\u001b[39m\n",
       " [152] +(\u001b[90mA\u001b[39m::\u001b[1mLinearAlgebra.UpperTriangular\u001b[22m, \u001b[90mB\u001b[39m::\u001b[1mLinearAlgebra.Bidiagonal\u001b[22m)\n",
       "\u001b[90m     @\u001b[39m \u001b[33mLinearAlgebra\u001b[39m \u001b[90m/Applications/Julia-1.10.0.app/Contents/Resources/julia/share/julia/stdlib/v1.10/LinearAlgebra/src/\u001b[39m\u001b[90m\u001b[4mspecial.jl:91\u001b[24m\u001b[39m\n",
       " [153] +(\u001b[90mx\u001b[39m::\u001b[1mLinearAlgebra.UpperTriangular\u001b[22m, \u001b[90mH\u001b[39m::\u001b[1mLinearAlgebra.UpperHessenberg\u001b[22m)\n",
       "\u001b[90m     @\u001b[39m \u001b[33mLinearAlgebra\u001b[39m \u001b[90m/Applications/Julia-1.10.0.app/Contents/Resources/julia/share/julia/stdlib/v1.10/LinearAlgebra/src/\u001b[39m\u001b[90m\u001b[4mhessenberg.jl:120\u001b[24m\u001b[39m\n",
       " [154] +(\u001b[90mA\u001b[39m::\u001b[1mLinearAlgebra.UpperTriangular\u001b[22m, \u001b[90mB\u001b[39m::\u001b[1mLinearAlgebra.UnitUpperTriangular\u001b[22m)\n",
       "\u001b[90m     @\u001b[39m \u001b[33mLinearAlgebra\u001b[39m \u001b[90m/Applications/Julia-1.10.0.app/Contents/Resources/julia/share/julia/stdlib/v1.10/LinearAlgebra/src/\u001b[39m\u001b[90m\u001b[4mtriangular.jl:652\u001b[24m\u001b[39m\n",
       " [155] +(\u001b[90mA\u001b[39m::\u001b[1mLinearAlgebra.UpperTriangular\u001b[22m, \u001b[90mB\u001b[39m::\u001b[1mLinearAlgebra.UpperTriangular\u001b[22m)\n",
       "\u001b[90m     @\u001b[39m \u001b[33mLinearAlgebra\u001b[39m \u001b[90m/Applications/Julia-1.10.0.app/Contents/Resources/julia/share/julia/stdlib/v1.10/LinearAlgebra/src/\u001b[39m\u001b[90m\u001b[4mtriangular.jl:650\u001b[24m\u001b[39m\n",
       " [156] +(\u001b[90mS\u001b[39m::\u001b[1mLinearAlgebra.Symmetric\u001b[22m, \u001b[90mD\u001b[39m::\u001b[1mLinearAlgebra.Diagonal\u001b[22m)\n",
       "\u001b[90m     @\u001b[39m \u001b[33mLinearAlgebra\u001b[39m \u001b[90m/Applications/Julia-1.10.0.app/Contents/Resources/julia/share/julia/stdlib/v1.10/LinearAlgebra/src/\u001b[39m\u001b[90m\u001b[4mdiagonal.jl:232\u001b[24m\u001b[39m\n",
       " [157] +(\u001b[90mA\u001b[39m::\u001b[1mLinearAlgebra.Symmetric\u001b[22m, \u001b[90mB\u001b[39m::\u001b[1mLinearAlgebra.SymTridiagonal\u001b[22m)\n",
       "\u001b[90m     @\u001b[39m \u001b[33mLinearAlgebra\u001b[39m \u001b[90m/Applications/Julia-1.10.0.app/Contents/Resources/julia/share/julia/stdlib/v1.10/LinearAlgebra/src/\u001b[39m\u001b[90m\u001b[4msymmetric.jl:521\u001b[24m\u001b[39m\n",
       " [158] +(\u001b[90mA\u001b[39m::\u001b[1mLinearAlgebra.Symmetric\u001b[22m\u001b[0m{var\"#s128\", S} where {var\"#s128\"<:Real, S<:(AbstractMatrix{<:var\"#s128\"})}, \u001b[90mB\u001b[39m::\u001b[1mLinearAlgebra.Hermitian\u001b[22m)\n",
       "\u001b[90m     @\u001b[39m \u001b[33mLinearAlgebra\u001b[39m \u001b[90m/Applications/Julia-1.10.0.app/Contents/Resources/julia/share/julia/stdlib/v1.10/LinearAlgebra/src/\u001b[39m\u001b[90m\u001b[4msymmetric.jl:519\u001b[24m\u001b[39m\n",
       " [159] +(\u001b[90mA\u001b[39m::\u001b[1mLinearAlgebra.Symmetric\u001b[22m, \u001b[90mB\u001b[39m::\u001b[1mLinearAlgebra.Symmetric\u001b[22m)\n",
       "\u001b[90m     @\u001b[39m \u001b[33mLinearAlgebra\u001b[39m \u001b[90m/Applications/Julia-1.10.0.app/Contents/Resources/julia/share/julia/stdlib/v1.10/LinearAlgebra/src/\u001b[39m\u001b[90m\u001b[4msymmetric.jl:504\u001b[24m\u001b[39m\n",
       " [160] +(\u001b[90my\u001b[39m::\u001b[1mDates.TimeType\u001b[22m, \u001b[90mx\u001b[39m::\u001b[1mStridedArray\u001b[22m\u001b[0m{<:Union{Dates.CompoundPeriod, Dates.Period}})\n",
       "\u001b[90m     @\u001b[39m \u001b[36mDates\u001b[39m \u001b[90m/Applications/Julia-1.10.0.app/Contents/Resources/julia/share/julia/stdlib/v1.10/Dates/src/\u001b[39m\u001b[90m\u001b[4mdeprecated.jl:18\u001b[24m\u001b[39m\n",
       " [161] +(\u001b[90mx\u001b[39m::\u001b[1mDates.TimeType\u001b[22m)\n",
       "\u001b[90m     @\u001b[39m \u001b[36mDates\u001b[39m \u001b[90m/Applications/Julia-1.10.0.app/Contents/Resources/julia/share/julia/stdlib/v1.10/Dates/src/\u001b[39m\u001b[90m\u001b[4marithmetic.jl:8\u001b[24m\u001b[39m\n",
       " [162] +(\u001b[90mx\u001b[39m::\u001b[1mDates.TimeType\u001b[22m, \u001b[90my\u001b[39m::\u001b[1mDates.CompoundPeriod\u001b[22m)\n",
       "\u001b[90m     @\u001b[39m \u001b[36mDates\u001b[39m \u001b[90m/Applications/Julia-1.10.0.app/Contents/Resources/julia/share/julia/stdlib/v1.10/Dates/src/\u001b[39m\u001b[90m\u001b[4mperiods.jl:356\u001b[24m\u001b[39m\n",
       " [163] +(\u001b[90ma\u001b[39m::\u001b[1mDates.TimeType\u001b[22m, \u001b[90mb\u001b[39m::\u001b[1mDates.Period\u001b[22m, \u001b[90mc\u001b[39m::\u001b[1mDates.Period\u001b[22m)\n",
       "\u001b[90m     @\u001b[39m \u001b[36mDates\u001b[39m \u001b[90m/Applications/Julia-1.10.0.app/Contents/Resources/julia/share/julia/stdlib/v1.10/Dates/src/\u001b[39m\u001b[90m\u001b[4mperiods.jl:353\u001b[24m\u001b[39m\n",
       " [164] +(\u001b[90ma\u001b[39m::\u001b[1mDates.TimeType\u001b[22m, \u001b[90mb\u001b[39m::\u001b[1mDates.Period\u001b[22m, \u001b[90mc\u001b[39m::\u001b[1mDates.Period\u001b[22m, \u001b[90md\u001b[39m::\u001b[1mDates.Period...\u001b[22m)\n",
       "\u001b[90m     @\u001b[39m \u001b[36mDates\u001b[39m \u001b[90m/Applications/Julia-1.10.0.app/Contents/Resources/julia/share/julia/stdlib/v1.10/Dates/src/\u001b[39m\u001b[90m\u001b[4mperiods.jl:354\u001b[24m\u001b[39m\n",
       " [165] +(\u001b[90mr\u001b[39m::\u001b[1mAbstractRange\u001b[22m\u001b[0m{<:Dates.TimeType}, \u001b[90mx\u001b[39m::\u001b[1mDates.Period\u001b[22m)\n",
       "\u001b[90m     @\u001b[39m \u001b[36mDates\u001b[39m \u001b[90m/Applications/Julia-1.10.0.app/Contents/Resources/julia/share/julia/stdlib/v1.10/Dates/src/\u001b[39m\u001b[90m\u001b[4mranges.jl:65\u001b[24m\u001b[39m\n",
       " [166] +(\u001b[90mD\u001b[39m::\u001b[1mLinearAlgebra.Diagonal\u001b[22m, \u001b[90mS\u001b[39m::\u001b[1mLinearAlgebra.Symmetric\u001b[22m)\n",
       "\u001b[90m     @\u001b[39m \u001b[33mLinearAlgebra\u001b[39m \u001b[90m/Applications/Julia-1.10.0.app/Contents/Resources/julia/share/julia/stdlib/v1.10/LinearAlgebra/src/\u001b[39m\u001b[90m\u001b[4mdiagonal.jl:229\u001b[24m\u001b[39m\n",
       " [167] +(\u001b[90mDa\u001b[39m::\u001b[1mLinearAlgebra.Diagonal\u001b[22m, \u001b[90mDb\u001b[39m::\u001b[1mLinearAlgebra.Diagonal\u001b[22m)\n",
       "\u001b[90m     @\u001b[39m \u001b[33mLinearAlgebra\u001b[39m \u001b[90m/Applications/Julia-1.10.0.app/Contents/Resources/julia/share/julia/stdlib/v1.10/LinearAlgebra/src/\u001b[39m\u001b[90m\u001b[4mdiagonal.jl:225\u001b[24m\u001b[39m\n",
       " [168] +(\u001b[90mA\u001b[39m::\u001b[1mLinearAlgebra.Diagonal\u001b[22m, \u001b[90mB\u001b[39m::\u001b[1mLinearAlgebra.UniformScaling\u001b[22m)\n",
       "\u001b[90m     @\u001b[39m \u001b[33mLinearAlgebra\u001b[39m \u001b[90m/Applications/Julia-1.10.0.app/Contents/Resources/julia/share/julia/stdlib/v1.10/LinearAlgebra/src/\u001b[39m\u001b[90m\u001b[4mspecial.jl:247\u001b[24m\u001b[39m\n",
       " [169] +(\u001b[90mA\u001b[39m::\u001b[1mLinearAlgebra.Diagonal\u001b[22m, \u001b[90mB\u001b[39m::\u001b[1mLinearAlgebra.Tridiagonal\u001b[22m)\n",
       "\u001b[90m     @\u001b[39m \u001b[33mLinearAlgebra\u001b[39m \u001b[90m/Applications/Julia-1.10.0.app/Contents/Resources/julia/share/julia/stdlib/v1.10/LinearAlgebra/src/\u001b[39m\u001b[90m\u001b[4mspecial.jl:187\u001b[24m\u001b[39m\n",
       " [170] +(\u001b[90mA\u001b[39m::\u001b[1mLinearAlgebra.Diagonal\u001b[22m, \u001b[90mB\u001b[39m::\u001b[1mLinearAlgebra.SymTridiagonal\u001b[22m)\n",
       "\u001b[90m     @\u001b[39m \u001b[33mLinearAlgebra\u001b[39m \u001b[90m/Applications/Julia-1.10.0.app/Contents/Resources/julia/share/julia/stdlib/v1.10/LinearAlgebra/src/\u001b[39m\u001b[90m\u001b[4mspecial.jl:166\u001b[24m\u001b[39m\n",
       " [171] +(\u001b[90mB\u001b[39m::\u001b[1mLinearAlgebra.Diagonal\u001b[22m, \u001b[90mA\u001b[39m::\u001b[1mLinearAlgebra.Bidiagonal\u001b[22m)\n",
       "\u001b[90m     @\u001b[39m \u001b[33mLinearAlgebra\u001b[39m \u001b[90m\u001b[4mnone:0\u001b[24m\u001b[39m\n",
       " [172] +(\u001b[90mx\u001b[39m::\u001b[1mLinearAlgebra.Diagonal\u001b[22m, \u001b[90mH\u001b[39m::\u001b[1mLinearAlgebra.UpperHessenberg\u001b[22m)\n",
       "\u001b[90m     @\u001b[39m \u001b[33mLinearAlgebra\u001b[39m \u001b[90m/Applications/Julia-1.10.0.app/Contents/Resources/julia/share/julia/stdlib/v1.10/LinearAlgebra/src/\u001b[39m\u001b[90m\u001b[4mhessenberg.jl:120\u001b[24m\u001b[39m\n",
       " [173] +(\u001b[90mD\u001b[39m::\u001b[1mLinearAlgebra.Diagonal\u001b[22m\u001b[0m{var\"#s988\", V} where {var\"#s988\"<:Real, V<:AbstractVector{var\"#s988\"}}, \u001b[90mH\u001b[39m::\u001b[1mLinearAlgebra.Hermitian\u001b[22m)\n",
       "\u001b[90m     @\u001b[39m \u001b[33mLinearAlgebra\u001b[39m \u001b[90m/Applications/Julia-1.10.0.app/Contents/Resources/julia/share/julia/stdlib/v1.10/LinearAlgebra/src/\u001b[39m\u001b[90m\u001b[4mdiagonal.jl:235\u001b[24m\u001b[39m\n",
       " [174] +(\u001b[90mx\u001b[39m::\u001b[1mDates.AbstractTime\u001b[22m, \u001b[90my\u001b[39m::\u001b[1mMissing\u001b[22m)\n",
       "\u001b[90m     @\u001b[39m \u001b[36mDates\u001b[39m \u001b[90m/Applications/Julia-1.10.0.app/Contents/Resources/julia/share/julia/stdlib/v1.10/Dates/src/\u001b[39m\u001b[90m\u001b[4marithmetic.jl:90\u001b[24m\u001b[39m\n",
       " [175] +(\u001b[90mA\u001b[39m::\u001b[1mLinearAlgebra.UnitUpperTriangular\u001b[22m, \u001b[90mB\u001b[39m::\u001b[1mLinearAlgebra.UnitUpperTriangular\u001b[22m)\n",
       "\u001b[90m     @\u001b[39m \u001b[33mLinearAlgebra\u001b[39m \u001b[90m/Applications/Julia-1.10.0.app/Contents/Resources/julia/share/julia/stdlib/v1.10/LinearAlgebra/src/\u001b[39m\u001b[90m\u001b[4mtriangular.jl:656\u001b[24m\u001b[39m\n",
       " [176] +(\u001b[90mA\u001b[39m::\u001b[1mLinearAlgebra.UnitUpperTriangular\u001b[22m, \u001b[90mB\u001b[39m::\u001b[1mLinearAlgebra.UpperTriangular\u001b[22m)\n",
       "\u001b[90m     @\u001b[39m \u001b[33mLinearAlgebra\u001b[39m \u001b[90m/Applications/Julia-1.10.0.app/Contents/Resources/julia/share/julia/stdlib/v1.10/LinearAlgebra/src/\u001b[39m\u001b[90m\u001b[4mtriangular.jl:654\u001b[24m\u001b[39m\n",
       " [177] +(\u001b[90mA\u001b[39m::\u001b[1mLinearAlgebra.AbstractTriangular\u001b[22m, \u001b[90mB\u001b[39m::\u001b[1mLinearAlgebra.AbstractTriangular\u001b[22m)\n",
       "\u001b[90m     @\u001b[39m \u001b[33mLinearAlgebra\u001b[39m \u001b[90m/Applications/Julia-1.10.0.app/Contents/Resources/julia/share/julia/stdlib/v1.10/LinearAlgebra/src/\u001b[39m\u001b[90m\u001b[4mtriangular.jl:658\u001b[24m\u001b[39m\n",
       " [178] +(\u001b[90mindex1\u001b[39m::\u001b[1mCartesianIndex\u001b[22m\u001b[0m{N}, \u001b[90mindex2\u001b[39m::\u001b[1mCartesianIndex\u001b[22m\u001b[0m{N}) where N\n",
       "\u001b[90m     @\u001b[39m \u001b[90mBase.IteratorsMD\u001b[39m \u001b[90m\u001b[4mmultidimensional.jl:119\u001b[24m\u001b[39m\n",
       " [179] +(\u001b[90mA\u001b[39m::\u001b[1mLinearAlgebra.UnitUpperTriangular\u001b[22m, \u001b[90mB\u001b[39m::\u001b[1mLinearAlgebra.Bidiagonal\u001b[22m)\n",
       "\u001b[90m     @\u001b[39m \u001b[33mLinearAlgebra\u001b[39m \u001b[90m/Applications/Julia-1.10.0.app/Contents/Resources/julia/share/julia/stdlib/v1.10/LinearAlgebra/src/\u001b[39m\u001b[90m\u001b[4mspecial.jl:91\u001b[24m\u001b[39m\n",
       " [180] +(\u001b[90mx\u001b[39m::\u001b[1mLinearAlgebra.UnitUpperTriangular\u001b[22m, \u001b[90mH\u001b[39m::\u001b[1mLinearAlgebra.UpperHessenberg\u001b[22m)\n",
       "\u001b[90m     @\u001b[39m \u001b[33mLinearAlgebra\u001b[39m \u001b[90m/Applications/Julia-1.10.0.app/Contents/Resources/julia/share/julia/stdlib/v1.10/LinearAlgebra/src/\u001b[39m\u001b[90m\u001b[4mhessenberg.jl:120\u001b[24m\u001b[39m\n",
       " [181] +(\u001b[90mUL\u001b[39m::\u001b[1mLinearAlgebra.UnitUpperTriangular\u001b[22m, \u001b[90mJ\u001b[39m::\u001b[1mLinearAlgebra.UniformScaling\u001b[22m)\n",
       "\u001b[90m     @\u001b[39m \u001b[33mLinearAlgebra\u001b[39m \u001b[90m/Applications/Julia-1.10.0.app/Contents/Resources/julia/share/julia/stdlib/v1.10/LinearAlgebra/src/\u001b[39m\u001b[90m\u001b[4muniformscaling.jl:181\u001b[24m\u001b[39m\n",
       " [182] +(\u001b[90mA\u001b[39m::\u001b[1mLinearAlgebra.SymTridiagonal\u001b[22m, \u001b[90mB\u001b[39m::\u001b[1mLinearAlgebra.Symmetric\u001b[22m)\n",
       "\u001b[90m     @\u001b[39m \u001b[33mLinearAlgebra\u001b[39m \u001b[90m/Applications/Julia-1.10.0.app/Contents/Resources/julia/share/julia/stdlib/v1.10/LinearAlgebra/src/\u001b[39m\u001b[90m\u001b[4msymmetric.jl:520\u001b[24m\u001b[39m\n",
       " [183] +(\u001b[90mA\u001b[39m::\u001b[1mLinearAlgebra.SymTridiagonal\u001b[22m, \u001b[90mB\u001b[39m::\u001b[1mLinearAlgebra.SymTridiagonal\u001b[22m)\n",
       "\u001b[90m     @\u001b[39m \u001b[33mLinearAlgebra\u001b[39m \u001b[90m/Applications/Julia-1.10.0.app/Contents/Resources/julia/share/julia/stdlib/v1.10/LinearAlgebra/src/\u001b[39m\u001b[90m\u001b[4mtridiag.jl:210\u001b[24m\u001b[39m\n",
       " [184] +(\u001b[90mA\u001b[39m::\u001b[1mLinearAlgebra.SymTridiagonal\u001b[22m, \u001b[90mB\u001b[39m::\u001b[1mLinearAlgebra.UniformScaling\u001b[22m)\n",
       "\u001b[90m     @\u001b[39m \u001b[33mLinearAlgebra\u001b[39m \u001b[90m/Applications/Julia-1.10.0.app/Contents/Resources/julia/share/julia/stdlib/v1.10/LinearAlgebra/src/\u001b[39m\u001b[90m\u001b[4mspecial.jl:237\u001b[24m\u001b[39m\n",
       " [185] +(\u001b[90mB\u001b[39m::\u001b[1mLinearAlgebra.SymTridiagonal\u001b[22m, \u001b[90mA\u001b[39m::\u001b[1mLinearAlgebra.Tridiagonal\u001b[22m)\n",
       "\u001b[90m     @\u001b[39m \u001b[33mLinearAlgebra\u001b[39m \u001b[90m\u001b[4mnone:0\u001b[24m\u001b[39m\n",
       " [186] +(\u001b[90mB\u001b[39m::\u001b[1mLinearAlgebra.SymTridiagonal\u001b[22m, \u001b[90mA\u001b[39m::\u001b[1mLinearAlgebra.Bidiagonal\u001b[22m)\n",
       "\u001b[90m     @\u001b[39m \u001b[33mLinearAlgebra\u001b[39m \u001b[90m\u001b[4mnone:0\u001b[24m\u001b[39m\n",
       " [187] +(\u001b[90mB\u001b[39m::\u001b[1mLinearAlgebra.SymTridiagonal\u001b[22m, \u001b[90mA\u001b[39m::\u001b[1mLinearAlgebra.Diagonal\u001b[22m)\n",
       "\u001b[90m     @\u001b[39m \u001b[33mLinearAlgebra\u001b[39m \u001b[90m\u001b[4mnone:0\u001b[24m\u001b[39m\n",
       " [188] +(\u001b[90mx\u001b[39m::\u001b[1mLinearAlgebra.SymTridiagonal\u001b[22m, \u001b[90mH\u001b[39m::\u001b[1mLinearAlgebra.UpperHessenberg\u001b[22m)\n",
       "\u001b[90m     @\u001b[39m \u001b[33mLinearAlgebra\u001b[39m \u001b[90m/Applications/Julia-1.10.0.app/Contents/Resources/julia/share/julia/stdlib/v1.10/LinearAlgebra/src/\u001b[39m\u001b[90m\u001b[4mhessenberg.jl:120\u001b[24m\u001b[39m\n",
       " [189] +(\u001b[90mA\u001b[39m::\u001b[1mLinearAlgebra.SymTridiagonal\u001b[22m\u001b[0m{var\"#s127\", V} where {var\"#s127\"<:Real, V<:AbstractVector{var\"#s127\"}}, \u001b[90mB\u001b[39m::\u001b[1mLinearAlgebra.Hermitian\u001b[22m)\n",
       "\u001b[90m     @\u001b[39m \u001b[33mLinearAlgebra\u001b[39m \u001b[90m/Applications/Julia-1.10.0.app/Contents/Resources/julia/share/julia/stdlib/v1.10/LinearAlgebra/src/\u001b[39m\u001b[90m\u001b[4msymmetric.jl:522\u001b[24m\u001b[39m\n",
       " [190] +(\u001b[90mx\u001b[39m::\u001b[1mAbstractArray\u001b[22m\u001b[0m{<:Dates.TimeType}, \u001b[90my\u001b[39m::\u001b[1mUnion\u001b[22m\u001b[0m{Dates.CompoundPeriod, Dates.Period})\n",
       "\u001b[90m     @\u001b[39m \u001b[36mDates\u001b[39m \u001b[90m/Applications/Julia-1.10.0.app/Contents/Resources/julia/share/julia/stdlib/v1.10/Dates/src/\u001b[39m\u001b[90m\u001b[4mdeprecated.jl:6\u001b[24m\u001b[39m\n",
       " [191] +(\u001b[90mA\u001b[39m::\u001b[1mAbstractMatrix\u001b[22m, \u001b[90mJ\u001b[39m::\u001b[1mLinearAlgebra.UniformScaling\u001b[22m)\n",
       "\u001b[90m     @\u001b[39m \u001b[33mLinearAlgebra\u001b[39m \u001b[90m/Applications/Julia-1.10.0.app/Contents/Resources/julia/share/julia/stdlib/v1.10/LinearAlgebra/src/\u001b[39m\u001b[90m\u001b[4muniformscaling.jl:214\u001b[24m\u001b[39m\n",
       " [192] +(\u001b[90mr1\u001b[39m::\u001b[1mLinRange\u001b[22m\u001b[0m{T}, \u001b[90mr2\u001b[39m::\u001b[1mLinRange\u001b[22m\u001b[0m{T}) where T\n",
       "\u001b[90m     @\u001b[39m \u001b[90m\u001b[4mrange.jl:1461\u001b[24m\u001b[39m\n",
       " [193] +(\u001b[90mA\u001b[39m::\u001b[1mBitArray\u001b[22m, \u001b[90mB\u001b[39m::\u001b[1mBitArray\u001b[22m)\n",
       "\u001b[90m     @\u001b[39m \u001b[90m\u001b[4mbitarray.jl:1184\u001b[24m\u001b[39m\n",
       " [194] +(\u001b[90mX\u001b[39m::\u001b[1mStridedArray\u001b[22m\u001b[0m{<:Union{Dates.CompoundPeriod, Dates.Period}}, \u001b[90mY\u001b[39m::\u001b[1mStridedArray\u001b[22m\u001b[0m{<:Union{Dates.CompoundPeriod, Dates.Period}})\n",
       "\u001b[90m     @\u001b[39m \u001b[36mDates\u001b[39m \u001b[90m/Applications/Julia-1.10.0.app/Contents/Resources/julia/share/julia/stdlib/v1.10/Dates/src/\u001b[39m\u001b[90m\u001b[4mdeprecated.jl:62\u001b[24m\u001b[39m\n",
       " [195] +(\u001b[90mr1\u001b[39m::\u001b[1mUnion\u001b[22m\u001b[0m{LinRange, OrdinalRange, StepRangeLen}, \u001b[90mr2\u001b[39m::\u001b[1mUnion\u001b[22m\u001b[0m{LinRange, OrdinalRange, StepRangeLen})\n",
       "\u001b[90m     @\u001b[39m \u001b[90m\u001b[4mrange.jl:1470\u001b[24m\u001b[39m\n",
       " [196] +(\u001b[90mA\u001b[39m::\u001b[1mAbstractArray\u001b[22m, \u001b[90mB\u001b[39m::\u001b[1mAbstractArray\u001b[22m)\n",
       "\u001b[90m     @\u001b[39m \u001b[90m\u001b[4marraymath.jl:6\u001b[24m\u001b[39m\n",
       " [197] +(\u001b[90mx\u001b[39m::\u001b[1mStridedArray\u001b[22m\u001b[0m{<:Union{Dates.CompoundPeriod, Dates.Period}})\n",
       "\u001b[90m     @\u001b[39m \u001b[36mDates\u001b[39m \u001b[90m/Applications/Julia-1.10.0.app/Contents/Resources/julia/share/julia/stdlib/v1.10/Dates/src/\u001b[39m\u001b[90m\u001b[4mdeprecated.jl:55\u001b[24m\u001b[39m\n",
       " [198] +(\u001b[90mx\u001b[39m::\u001b[1mAbstractArray\u001b[22m\u001b[0m{<:Number})\n",
       "\u001b[90m     @\u001b[39m \u001b[90m\u001b[4mabstractarraymath.jl:220\u001b[24m\u001b[39m\n",
       " [199] +(\u001b[90mx\u001b[39m::\u001b[1mUnion\u001b[22m\u001b[0m{Dates.Day, Dates.Hour, Dates.Microsecond, Dates.Millisecond, Dates.Minute, Dates.Nanosecond, Dates.Second, Dates.Week}, \u001b[90my\u001b[39m::\u001b[1mUnitful.AbstractQuantity\u001b[22m)\n",
       "\u001b[90m     @\u001b[39m \u001b[35mUnitful\u001b[39m \u001b[90m~/.julia/packages/Unitful/R4J37/src/\u001b[39m\u001b[90m\u001b[4mdates.jl:86\u001b[24m\u001b[39m\n",
       " [200] +(\u001b[90my\u001b[39m::\u001b[1mUnion\u001b[22m\u001b[0m{Dates.CompoundPeriod, Dates.Period}, \u001b[90mx\u001b[39m::\u001b[1mAbstractArray\u001b[22m\u001b[0m{<:Dates.TimeType})\n",
       "\u001b[90m     @\u001b[39m \u001b[36mDates\u001b[39m \u001b[90m/Applications/Julia-1.10.0.app/Contents/Resources/julia/share/julia/stdlib/v1.10/Dates/src/\u001b[39m\u001b[90m\u001b[4mdeprecated.jl:14\u001b[24m\u001b[39m\n",
       " [201] +(\u001b[90mx\u001b[39m::\u001b[1mStridedArray\u001b[22m\u001b[0m{<:Union{Dates.CompoundPeriod, Dates.Period}}, \u001b[90my\u001b[39m::\u001b[1mDates.TimeType\u001b[22m)\n",
       "\u001b[90m     @\u001b[39m \u001b[36mDates\u001b[39m \u001b[90m/Applications/Julia-1.10.0.app/Contents/Resources/julia/share/julia/stdlib/v1.10/Dates/src/\u001b[39m\u001b[90m\u001b[4mdeprecated.jl:10\u001b[24m\u001b[39m\n",
       " [202] +(\u001b[90mx\u001b[39m::\u001b[1mUnion\u001b[22m\u001b[0m{Dates.CompoundPeriod, Dates.Period})\n",
       "\u001b[90m     @\u001b[39m \u001b[36mDates\u001b[39m \u001b[90m/Applications/Julia-1.10.0.app/Contents/Resources/julia/share/julia/stdlib/v1.10/Dates/src/\u001b[39m\u001b[90m\u001b[4mperiods.jl:342\u001b[24m\u001b[39m\n",
       " [203] +(\u001b[90ma\u001b[39m, \u001b[90mb\u001b[39m, \u001b[90mc\u001b[39m, \u001b[90mxs...\u001b[39m)\n",
       "\u001b[90m     @\u001b[39m \u001b[90m\u001b[4moperators.jl:587\u001b[24m\u001b[39m"
      ]
     },
     "metadata": {},
     "output_type": "display_data"
    }
   ],
   "source": [
    "methods(+)"
   ]
  },
  {
   "cell_type": "markdown",
   "metadata": {},
   "source": [
    "So something funny you can do is actually implement your own version of the `+` operator. For exemple, you can define a `+` operator that makes two animals encounter."
   ]
  },
  {
   "cell_type": "code",
   "execution_count": 47,
   "metadata": {},
   "outputs": [],
   "source": [
    "Base.:+(x::Animals, y::Animals) = encounter(x,y)"
   ]
  },
  {
   "cell_type": "code",
   "execution_count": 48,
   "metadata": {},
   "outputs": [
    {
     "name": "stdout",
     "output_type": "stream",
     "text": [
      "Fido meets Mittens and they fight\n"
     ]
    }
   ],
   "source": [
    "Fido + Mittens"
   ]
  },
  {
   "cell_type": "markdown",
   "metadata": {},
   "source": [
    "# Dispatch with parametric types"
   ]
  },
  {
   "cell_type": "code",
   "execution_count": 49,
   "metadata": {},
   "outputs": [],
   "source": [
    "struct Alpha{T}\n",
    "    x::T\n",
    "end"
   ]
  },
  {
   "cell_type": "code",
   "execution_count": 50,
   "metadata": {},
   "outputs": [
    {
     "data": {
      "text/plain": [
       "foo (generic function with 3 methods)"
      ]
     },
     "metadata": {},
     "output_type": "display_data"
    }
   ],
   "source": [
    "foo(x::Alpha) = \"General form\"\n",
    "foo(x::Alpha{<:Real}) = \"Specialized for Reals\"\n",
    "foo(x::Alpha{Int}) = \"Specialized for Ints\"\n",
    "foo(x::Alpha{Int64}) = \"Specialized for Ints64\""
   ]
  },
  {
   "cell_type": "code",
   "execution_count": 51,
   "metadata": {},
   "outputs": [
    {
     "data": {
      "text/plain": [
       "Alpha{Float64}(1.0)"
      ]
     },
     "metadata": {},
     "output_type": "display_data"
    }
   ],
   "source": [
    "a1=Alpha(\"hello\")\n",
    "a2=Alpha(1)\n",
    "a3=Alpha(1.0)"
   ]
  },
  {
   "cell_type": "code",
   "execution_count": 52,
   "metadata": {},
   "outputs": [
    {
     "name": "stdout",
     "output_type": "stream",
     "text": [
      "General form\n",
      "Specialized for Ints64\n",
      "Specialized for Reals\n"
     ]
    }
   ],
   "source": [
    "println(foo(a1))\n",
    "println(foo(a2))\n",
    "println(foo(a3))"
   ]
  },
  {
   "cell_type": "markdown",
   "metadata": {},
   "source": [
    "# Generic Algorithms"
   ]
  },
  {
   "cell_type": "markdown",
   "metadata": {},
   "source": [
    "Imagine the following simple function that just computes the dot product os two vectors of the same size."
   ]
  },
  {
   "cell_type": "code",
   "execution_count": 20,
   "metadata": {},
   "outputs": [],
   "source": [
    "using LinearAlgebra"
   ]
  },
  {
   "cell_type": "code",
   "execution_count": 21,
   "metadata": {},
   "outputs": [
    {
     "data": {
      "text/plain": [
       "mydot (generic function with 1 method)"
      ]
     },
     "metadata": {},
     "output_type": "display_data"
    }
   ],
   "source": [
    "function mydot(x::AbstractVector, y::AbstractVector)\n",
    "    x ⋅ y\n",
    "end"
   ]
  },
  {
   "cell_type": "code",
   "execution_count": 22,
   "metadata": {},
   "outputs": [
    {
     "data": {
      "text/plain": [
       "10.0"
      ]
     },
     "metadata": {},
     "output_type": "display_data"
    }
   ],
   "source": [
    "x = ones(10)\n",
    "y = ones(10)\n",
    "mydot(x,y)"
   ]
  },
  {
   "cell_type": "markdown",
   "metadata": {},
   "source": [
    "### One hot vector \n",
    "\n",
    "The one hot vector is a vector that has only one non zero element. For exemple, the one hot vector of size 5 with the third element being 1 is `[0, 0, 1, 0, 0]`. The one hot vector of size 5 with the first element being 1 is `[1, 0, 0, 0, 0]`."
   ]
  },
  {
   "cell_type": "markdown",
   "metadata": {},
   "source": [
    "We can implement the one hot vector using our own type."
   ]
  },
  {
   "cell_type": "code",
   "execution_count": 23,
   "metadata": {},
   "outputs": [],
   "source": [
    "struct OneHotVector <: AbstractVector{Bool}\n",
    "    ind :: Int\n",
    "    len :: Int\n",
    "end"
   ]
  },
  {
   "cell_type": "code",
   "execution_count": 24,
   "metadata": {},
   "outputs": [],
   "source": [
    "Base.size(v::OneHotVector) = (v.len,)\n",
    "Base.getindex(v::OneHotVector, i::Int) = Int(i == v.ind)\n",
    "Base.length(v::OneHotVector) = v.len"
   ]
  },
  {
   "cell_type": "code",
   "execution_count": 25,
   "metadata": {},
   "outputs": [
    {
     "data": {
      "text/plain": [
       "(1, 0)"
      ]
     },
     "metadata": {},
     "output_type": "display_data"
    }
   ],
   "source": [
    "v = OneHotVector(3, 5)\n",
    "v[3], v[4]"
   ]
  },
  {
   "cell_type": "code",
   "execution_count": 26,
   "metadata": {},
   "outputs": [],
   "source": [
    "v1 = OneHotVector(100, 1_000_000);\n",
    "v2 = 1:1_000_000;"
   ]
  },
  {
   "cell_type": "code",
   "execution_count": 27,
   "metadata": {},
   "outputs": [],
   "source": [
    "using BenchmarkTools"
   ]
  },
  {
   "cell_type": "code",
   "execution_count": 28,
   "metadata": {},
   "outputs": [
    {
     "name": "stdout",
     "output_type": "stream",
     "text": [
      "  178.027 μs (0 allocations: 0 bytes)\n"
     ]
    },
    {
     "data": {
      "text/plain": [
       "100"
      ]
     },
     "metadata": {},
     "output_type": "display_data"
    }
   ],
   "source": [
    "@btime mydot(v1,v2)"
   ]
  },
  {
   "cell_type": "code",
   "execution_count": 31,
   "metadata": {},
   "outputs": [],
   "source": [
    "LinearAlgebra.dot(v1::OneHotVector,v2::AbstractArray) = v2[v1.ind] "
   ]
  },
  {
   "cell_type": "code",
   "execution_count": 32,
   "metadata": {},
   "outputs": [
    {
     "name": "stdout",
     "output_type": "stream",
     "text": [
      "  29.059 ns (0 allocations: 0 bytes)\n"
     ]
    },
    {
     "data": {
      "text/plain": [
       "100"
      ]
     },
     "metadata": {},
     "output_type": "display_data"
    }
   ],
   "source": [
    "@btime mydot(v1,v2)"
   ]
  }
 ],
 "metadata": {
  "kernelspec": {
   "display_name": "Julia 1.10.0",
   "language": "julia",
   "name": "julia-1.10"
  },
  "language_info": {
   "file_extension": ".jl",
   "mimetype": "application/julia",
   "name": "julia",
   "version": "1.10.0"
  }
 },
 "nbformat": 4,
 "nbformat_minor": 2
}
