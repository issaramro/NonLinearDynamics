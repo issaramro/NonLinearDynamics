{
 "cells": [
  {
   "cell_type": "markdown",
   "metadata": {},
   "source": [
    "# Problem set 2"
   ]
  },
  {
   "cell_type": "code",
   "execution_count": 1,
   "metadata": {},
   "outputs": [
    {
     "name": "stderr",
     "output_type": "stream",
     "text": [
      "\u001b[32m\u001b[1m  Activating\u001b[22m\u001b[39m project at `c:\\Users\\USAID\\Documents\\2023-2024\\phys 218\\NonLinearDynamics\\Julia Practice`\n"
     ]
    }
   ],
   "source": [
    "using Pkg\n",
    "Pkg.activate(\".\")\n",
    "# Pkg.add(\"Unitful\")\n",
    "# Pkg.add(\"Statistics\")\n",
    "# include(\"tests.jl\")"
   ]
  },
  {
   "cell_type": "markdown",
   "metadata": {},
   "source": [
    "## Problem 1: Type hierarchies\n",
    "\n",
    "Create a function person_info(p) that takes in any type of a \"person\" and prints their name and potentially some extra information. \n",
    "* For a normal person, only the name is printed.\n",
    "* If the person is a student, it should print their name and grade.\n",
    "* If it is a group leader, then print their name and their group name.\n",
    "* If the input to person_info is something other than a \"person\", it should error.\n",
    "\n",
    "Solve this exercise without using a single if statement; only multiple dispatch. These kind of problems seem to be \"natural\" to solve using if statements. However using multiple dispatch instead makes the code clearer, more easy to extend and (typically) more performant, because of how Julia compiles code.\n",
    "\n",
    "**Hint:** given the rules of the exercise, you do not actually need abstract types to solve it. However, it is in general good practice to use them.\n",
    "\n",
    "\n"
   ]
  },
  {
   "cell_type": "code",
   "execution_count": 2,
   "metadata": {},
   "outputs": [],
   "source": [
    "# Fill in the structs below:\n",
    "struct Person\n",
    "    name::String\n",
    "end\n",
    "\n",
    "struct Student\n",
    "    name::String\n",
    "    grade::Number\n",
    "end\n",
    "\n",
    "struct Normal\n",
    "    name::String\n",
    "end\n",
    "\n",
    "struct GroupLeader\n",
    "    name::String\n",
    "    group::String\n",
    "end"
   ]
  },
  {
   "cell_type": "code",
   "execution_count": 3,
   "metadata": {},
   "outputs": [
    {
     "data": {
      "text/plain": [
       "person_info (generic function with 4 methods)"
      ]
     },
     "metadata": {},
     "output_type": "display_data"
    }
   ],
   "source": [
    "# Fill in personal_info functions\n",
    "person_info(p::Student) = print(p.name, \", \", p.grade)\n",
    "person_info(p::Normal) = print(p.name)\n",
    "person_info(p::GroupLeader) = print(p.name, \", \", p.group)\n",
    "person_info(p::Person) = print(p.name)"
   ]
  },
  {
   "cell_type": "code",
   "execution_count": 4,
   "metadata": {},
   "outputs": [],
   "source": [
    "p1 = Person(\"John\")\n",
    "p2 = Student(\"Mary\", 90)\n",
    "p3 = GroupLeader(\"Tom\", \"Group A\");"
   ]
  },
  {
   "cell_type": "code",
   "execution_count": 5,
   "metadata": {},
   "outputs": [
    {
     "name": "stdout",
     "output_type": "stream",
     "text": [
      "Tom, Group A"
     ]
    }
   ],
   "source": [
    "# Test them here\n",
    "person_info(p3)"
   ]
  },
  {
   "cell_type": "markdown",
   "metadata": {},
   "source": [
    "## Problem 2: Indexing of a range type\n",
    "\n",
    "\n",
    "Create your own Range object, which is an efficient iterable container defined by a (start, step, stop), which gives numeric values incremented by step starting from start, while ensuring that the result never exceeds stop. You only need to extend (add a new method) to the Base.getindex(r::Range, i::Int) function for this exercise.\n",
    "\n",
    "Test your range by initializing a range like r = Range(0, 0.5, 1), and checking if r[1], r[2], r[3] give you indeed 0.0, 0.5, 1.0 as they should.\n",
    "\n",
    "This object can efficiently represent this range while storing only these 3 numbers, instead of all elements that theoretically belong to the range.\n",
    "\n",
    "**Hints:**\n",
    "\n",
    "* As a first step, define your Range struct, preferably by making it a parametric type of 1 type-parameter (think about how many fields it should have).\n",
    "* The Julia syntax A[i] is translated to getindex(A, i). That's why you need to extend the Base.getindex function. Use the help functionality on getindex to learn more. Make sure you also take care of the case where the index is a slice (e.g. A[1:3]).\n",
    "* Implement indexing for your Range type via extending getindex. Index 1 giving start. Be sure it errors for incorrect indices (where the value given by the range would exceed stop).\n",
    "* To make sure all the inputs are of the correct type, you can use the `promote` function. For example, `promote(1, 2.0)` returns `(1.0, 2.0)`. You can use this to make sure that the inputs to your Range are all of the same type.\n",
    "* Did you write generic code? Try to see if your Range works with the package Unitful. This package provides types that combines numbers with physical units (like Newtons). Load this package with using Unitful. Does iterating a Range(1u\"kg\", 0.1u\"kg\", 10u\"kg\") work as expected? Make the necessary adjustments so that it does."
   ]
  },
  {
   "cell_type": "code",
   "execution_count": 2,
   "metadata": {},
   "outputs": [],
   "source": [
    "# Fill in the struct here \n",
    "struct Range{T<: Int64} \n",
    "    start::T\n",
    "    step::T\n",
    "    stop::T\n",
    "end"
   ]
  },
  {
   "cell_type": "code",
   "execution_count": 7,
   "metadata": {},
   "outputs": [],
   "source": [
    "# Getindex function here\n",
    "function Base.getindex(r::Range, i)\n",
    "    output = []\n",
    "    if i == Int64\n",
    "        if i >= 1 && i < r.stop\n",
    "            for o ∈ range(i)\n",
    "                add!(output, v.start + (i-1)*v.step)\n",
    "            end\n",
    "        end\n",
    "    end\n",
    "    return output\n",
    " end\n"
   ]
  },
  {
   "cell_type": "code",
   "execution_count": 8,
   "metadata": {},
   "outputs": [
    {
     "name": "stdout",
     "output_type": "stream",
     "text": [
      "1.0"
     ]
    }
   ],
   "source": [
    "# Some tests here\n",
    "# test_Range(Range);\n",
    "r = Range(0.0, 0.5, 1.0)\n",
    "Getindex(r, 1)"
   ]
  },
  {
   "cell_type": "markdown",
   "metadata": {},
   "source": [
    "## Problem 3: Iteration of a range type"
   ]
  },
  {
   "cell_type": "markdown",
   "metadata": {},
   "source": [
    "Continuing from the previous exercise, now make your Range object iterable by extending Base.iterate(r::Range, state = 1) as well as Base.length(r::Range). It will then be possible to do collect(range) or for a in range ... or [cos(r) for r in range]."
   ]
  },
  {
   "cell_type": "code",
   "execution_count": 9,
   "metadata": {},
   "outputs": [],
   "source": [
    "# Fill function for iterate here"
   ]
  },
  {
   "cell_type": "code",
   "execution_count": 10,
   "metadata": {},
   "outputs": [
    {
     "ename": "UndefVarError",
     "evalue": "UndefVarError: `test_Range` not defined",
     "output_type": "error",
     "traceback": [
      "UndefVarError: `test_Range` not defined\n",
      "\n",
      "Stacktrace:\n",
      " [1] top-level scope\n",
      "   @ c:\\Users\\USAID\\Documents\\2023-2024\\phys 218\\NonLinearDynamics\\Julia Practice\\Problems2.ipynb:1"
     ]
    }
   ],
   "source": [
    "test_Range(Range, true);"
   ]
  },
  {
   "cell_type": "markdown",
   "metadata": {},
   "source": [
    "## Problem 4: Advanced whackadoodle iterator  \n",
    "\n",
    "Leveraging the experience of previous exercises, define an iterator object (and of course define iterate for it!) that has the following properties (make an iterator struct, don't create a vector!):\n",
    "\n",
    "* It iterates for n elements. The first element is always rand().\n",
    "* At the odd steps of the iteration it returns the previous element divided by rand().\n",
    "* At the even steps of the iteration it returns the previous element multiplied by rand().\n",
    "* Use this iterator object to efficiently study how its mean value and standard deviation behaves versus n, by using the functions mean, std (accessible after using Statistics).\n",
    "\n",
    "**Hint:** if you implement this iterator correctly, then you should be able to give it directly to mean."
   ]
  },
  {
   "cell_type": "code",
   "execution_count": 11,
   "metadata": {},
   "outputs": [],
   "source": [
    "# Fill in the whackadoodle struct here"
   ]
  },
  {
   "cell_type": "code",
   "execution_count": 12,
   "metadata": {},
   "outputs": [],
   "source": [
    "# Fill in the iterate function here"
   ]
  },
  {
   "cell_type": "code",
   "execution_count": 13,
   "metadata": {},
   "outputs": [
    {
     "ename": "UndefVarError",
     "evalue": "UndefVarError: `WhackyRange` not defined",
     "output_type": "error",
     "traceback": [
      "UndefVarError: `WhackyRange` not defined\n",
      "\n",
      "Stacktrace:\n",
      " [1] top-level scope\n",
      "   @ c:\\Users\\USAID\\Documents\\2023-2024\\phys 218\\NonLinearDynamics\\Julia Practice\\Problems2.ipynb:1"
     ]
    }
   ],
   "source": [
    "whacky = WhackyRange(10)\n",
    "for i ∈ whacky\n",
    "    @show i\n",
    "end"
   ]
  },
  {
   "cell_type": "code",
   "execution_count": 14,
   "metadata": {},
   "outputs": [
    {
     "ename": "UndefVarError",
     "evalue": "UndefVarError: `test_whack` not defined",
     "output_type": "error",
     "traceback": [
      "UndefVarError: `test_whack` not defined\n",
      "\n",
      "Stacktrace:\n",
      " [1] top-level scope\n",
      "   @ c:\\Users\\USAID\\Documents\\2023-2024\\phys 218\\NonLinearDynamics\\Julia Practice\\Problems2.ipynb:1"
     ]
    }
   ],
   "source": [
    "# Mean and std functions tests\n",
    "test_whack(WhackyRange);"
   ]
  },
  {
   "cell_type": "markdown",
   "metadata": {},
   "source": [
    "## Problem 5: Rational numbers\n",
    "\n",
    "Implement the type RationalNumber <: Real, similar to Julia's Rational, but without being a parametric type (i.e. both fields are just Int). Using the following function that simplifies a fraction:"
   ]
  },
  {
   "cell_type": "code",
   "execution_count": 10,
   "metadata": {},
   "outputs": [
    {
     "data": {
      "text/plain": [
       "simplify (generic function with 1 method)"
      ]
     },
     "metadata": {},
     "output_type": "display_data"
    }
   ],
   "source": [
    "function simplify(n::Integer, d::Integer)\n",
    "    g = gcd(n, d)\n",
    "    m = d < 0 ? -1 : 1\n",
    "    (m * n ÷ g, m * d ÷ g)\n",
    "end"
   ]
  },
  {
   "cell_type": "markdown",
   "metadata": {},
   "source": [
    "* Define an inner constructor: a function RationalNumber inside the type-definition, which returns new(simplify(n, d)...). new is a special keyword and stands for the type to be created. For example:"
   ]
  },
  {
   "cell_type": "code",
   "execution_count": 6,
   "metadata": {},
   "outputs": [],
   "source": [
    "struct A\n",
    "    a::Float64\n",
    "    function A(a)\n",
    "        x = cos(a)\n",
    "        return new(x) # This creates an instance of A with the value x\n",
    "    end\n",
    "end"
   ]
  },
  {
   "cell_type": "markdown",
   "metadata": {},
   "source": [
    "\n",
    "* Inner constructors are used to perform specific tests or transformations necessary before instantiating a type. In this exercise the inner constructor simply ensures that if you try to define the rational number 5/10 you in fact create the equivalent (but simpler) 1/2.\n",
    "\n",
    "* Then, implement the operations +, -, *, / between RationalNumbers, by extending e.g. Base.:+(r1::RationalNumber, r2::RationalNumber).\n",
    "\n",
    "* Test your code by ensuring that RationalNumber(5, 10) indeed has fields (1, 2). Then test all operations with the rationals 1/2 and 1/3.\n",
    "\n",
    "\n",
    "* Find out the minimum extension you need to make to your number type so that all trigonometric functions like cos, tanh, etc. work out of the box with it. (Hint: it is only one more method definition)"
   ]
  },
  {
   "cell_type": "code",
   "execution_count": 11,
   "metadata": {},
   "outputs": [
    {
     "data": {
      "text/plain": [
       "RationalNumber"
      ]
     },
     "metadata": {},
     "output_type": "display_data"
    }
   ],
   "source": [
    "# Fill in the Rational struct here\n",
    "struct RationalNumber <: Real\n",
    "    numerator::Int\n",
    "    denominator::Int\n",
    "end\n",
    "    \n",
    "function RationalNumber(n::Integer, d::Integer)\n",
    "    nn, dd = simplify(n, d)\n",
    "    return new(nn, dd)\n",
    "end"
   ]
  },
  {
   "cell_type": "code",
   "execution_count": 12,
   "metadata": {},
   "outputs": [
    {
     "data": {
      "text/plain": [
       "/ (generic function with 1 method)"
      ]
     },
     "metadata": {},
     "output_type": "display_data"
    }
   ],
   "source": [
    "# Fill in the functions here\n",
    "\n",
    "function +(r1::RationalNumber, r2::RationalNumber)\n",
    "    num = r1.numerator * r2.denominator + r2.numerator * r1.denominator\n",
    "    den = r1.denominator * r2.denominator\n",
    "    return RationalNumber(num, den)\n",
    "end\n",
    "\n",
    "function -(r1::RationalNumber, r2::RationalNumber)\n",
    "    num = r1.numerator * r2.denominator - r2.numerator * r1.denominator\n",
    "    den = r1.denominator * r2.denominator\n",
    "    return RationalNumber(num, den)\n",
    "end\n",
    "\n",
    "function *(r1::RationalNumber, r2::RationalNumber)\n",
    "    num = r1.numerator * r2.numerator\n",
    "    den = r1.denominator * r2.denominator\n",
    "    return RationalNumber(num, den)\n",
    "end\n",
    "\n",
    "function /(r1::RationalNumber, r2::RationalNumber)\n",
    "    num = r1.numerator * r2.denominator\n",
    "    den = r1.denominator * r2.numerator\n",
    "    return RationalNumber(num, den)\n",
    "end"
   ]
  },
  {
   "cell_type": "code",
   "execution_count": 13,
   "metadata": {},
   "outputs": [
    {
     "data": {
      "text/plain": [
       "RationalNumber(5, 10)"
      ]
     },
     "metadata": {},
     "output_type": "display_data"
    }
   ],
   "source": [
    "RationalNumber(5,10)"
   ]
  }
 ],
 "metadata": {
  "kernelspec": {
   "display_name": "Julia 1.10.0",
   "language": "julia",
   "name": "julia-1.10"
  },
  "language_info": {
   "file_extension": ".jl",
   "mimetype": "application/julia",
   "name": "julia",
   "version": "1.10.0"
  }
 },
 "nbformat": 4,
 "nbformat_minor": 2
}
