{
 "cells": [
  {
   "cell_type": "code",
   "execution_count": 18,
   "metadata": {},
   "outputs": [],
   "source": [
    "# latex format + tab\n",
    "λ = 5\n",
    "# for constants, we can ommit the star\n",
    "x = 2\n",
    "2x\n",
    "# dollar sign within string\n",
    "# you can put any types within tupple\n",
    "# 2d array and array of array are not the same\n",
    "matrix = [1 2 3; 4 5 6; 7 8 9]\n",
    "arrofarr = [[1,2], [1,3,4]]\n",
    "zermatrix = zeros(3,3)\n",
    "a = [2]\n",
    "appendel = push!(a, 2)\n",
    "b = 2:2:10\n",
    "c = range(1,20, size = 2)\n",
    "# to create the list collect(c)\n",
    "# for the for loop, u can use \\in   \n",
    "# check double for loops\n",
    "# end all functions\n",
    "# shorthands for the if condition\n",
    "function f(x)\n",
    "    return x^2\n",
    "end\n",
    "# of if 1 line function\n",
    "f(x) = x^2\n",
    "# element wise, you add .\n",
    "#f.(x) #if x is a list\n",
    "# x .+ y\n",
    "# no log function?\n",
    "# functions with !, change the input you give it, without creating a copy\n",
    "d = rand(1:10, 5)\n",
    "sort!(d)\n",
    "same type always makes code faster\n",
    "# @code_warntype \n"
   ]
  },
  {
   "cell_type": "code",
   "execution_count": 31,
   "metadata": {},
   "outputs": [
    {
     "name": "stderr",
     "output_type": "stream",
     "text": [
      "\u001b[32m\u001b[1m  Activating\u001b[22m\u001b[39m new project at `c:\\Users\\USAID\\Documents\\2023-2024\\phys 218\\ms jul`\n"
     ]
    }
   ],
   "source": [
    "# using BenchmarkTools\n",
    "using Pkg\n",
    "Pkg.activate(\".\")"
   ]
  },
  {
   "cell_type": "code",
   "execution_count": null,
   "metadata": {},
   "outputs": [],
   "source": [
    "# plots\n",
    "Pkg.add(\"CairoMakie\")\n",
    "using CairoMakie"
   ]
  }
 ],
 "metadata": {
  "kernelspec": {
   "display_name": "Julia 1.10.0",
   "language": "julia",
   "name": "julia-1.10"
  },
  "language_info": {
   "file_extension": ".jl",
   "mimetype": "application/julia",
   "name": "julia",
   "version": "1.10.0"
  }
 },
 "nbformat": 4,
 "nbformat_minor": 2
}
