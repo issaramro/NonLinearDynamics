{
 "cells": [
  {
   "cell_type": "markdown",
   "metadata": {},
   "source": [
    "# Problem set 3"
   ]
  },
  {
   "cell_type": "markdown",
   "metadata": {},
   "source": [
    "Most of the exercises here will require you to search for functions on Google as it is important to learn how to find answers to your questions. It is more challenging to find answers in Julia than in Python since it is a relatively new language. However, the Julia community is very active and helpful, so you should be able to find answers to most of your questions."
   ]
  },
  {
   "cell_type": "markdown",
   "metadata": {},
   "source": [
    "## Problem 1: Bouncing ball\n",
    "\n",
    "Using the callback functionality of DifferentialEquations.jl, implement the bouncing ball physical system:\n",
    "$$\n",
    "\\dot x = v\\\\\n",
    "\\dot v = -g - \\gamma v\n",
    "$$\n",
    "with $g=10$ , $\\gamma=0.99$, $x_0 = 1$, $v_0 = 0$. The ball bounces elastically off the ground, i.e. $v \\leftarrow -v$. Implement this problem for elastic collisions (elastic collisions preserve velocity measure), and plot the time evolution of x and v versus time.\n",
    "\n",
    "* Animate the ball bouncing for 10 seconds with a vector that represents the velocity of the ball at each time step. Save the animation in a file called `Bouncing_Ball.mp4`.\n",
    "\n",
    "**Hint:** whenever the ball reaches the level x = 0 , its velocity should be reversed."
   ]
  },
  {
   "cell_type": "code",
   "execution_count": 1,
   "metadata": {},
   "outputs": [
    {
     "name": "stderr",
     "output_type": "stream",
     "text": [
      "\u001b[32m\u001b[1m  Activating\u001b[22m\u001b[39m project at `c:\\Users\\USAID\\Documents\\2023-2024\\phys 218\\NonLinearDynamics\\Julia Practice`\n"
     ]
    }
   ],
   "source": [
    "using Pkg\n",
    "Pkg.activate(\".\")\n",
    "using GLMakie\n",
    "using OrdinaryDiffEq, StaticArrays\n",
    "using DynamicalSystems"
   ]
  },
  {
   "cell_type": "code",
   "execution_count": 3,
   "metadata": {},
   "outputs": [],
   "source": [
    "# Fill in the initial conditions, constants and time span (0->10s)\n",
    "t = (0.0, 10.0)\n",
    "p = [10, 0.99]\n",
    "u0 = [1, 0];"
   ]
  },
  {
   "cell_type": "code",
   "execution_count": 16,
   "metadata": {},
   "outputs": [
    {
     "data": {
      "text/plain": [
       "ContinuousCallback{typeof(condition), typeof(affect!), typeof(affect!), typeof(SciMLBase.INITIALIZE_DEFAULT), typeof(SciMLBase.FINALIZE_DEFAULT), Float64, Int64, Rational{Int64}, Nothing, Int64}(condition, affect!, affect!, SciMLBase.INITIALIZE_DEFAULT, SciMLBase.FINALIZE_DEFAULT, nothing, SciMLBase.LeftRootFind, 10, Bool[1, 1], 1, 2.220446049250313e-15, 0, 1//100)"
      ]
     },
     "metadata": {},
     "output_type": "display_data"
    }
   ],
   "source": [
    "# Define the ODE system as a function with the constraint that the ball should Bounce when it hits the ground x = 0 \n",
    "function Ball(u)\n",
    "    du1 = u[2]\n",
    "    du2 = -10-0.99*u[2]\n",
    "    return [du1, du2]\n",
    "end\n",
    "\n",
    "condition(u,t,integrator) = u[1] == 0\n",
    "\n",
    "function affect!(integrator)\n",
    "    integrator.u = (u[1], -u[2])\n",
    "end\n",
    "\n",
    "cb = ContinuousCallback(condition,affect!)"
   ]
  },
  {
   "cell_type": "code",
   "execution_count": 17,
   "metadata": {},
   "outputs": [
    {
     "ename": "SciMLBase.NoMethodsError",
     "evalue": "No methods were found for the model function passed to the equation solver.\nThe function `f` needs to have dispatches, for example, for an ODEProblem\n`f` must define either `f(u,p,t)` or `f(du,u,p,t)`. For more information\non how the model function `f` should be defined, consult the docstring for\nthe appropriate `AbstractSciMLFunction`.\n\nOffending function: f",
     "output_type": "error",
     "traceback": [
      "No methods were found for the model function passed to the equation solver.\n",
      "The function `f` needs to have dispatches, for example, for an ODEProblem\n",
      "`f` must define either `f(u,p,t)` or `f(du,u,p,t)`. For more information\n",
      "on how the model function `f` should be defined, consult the docstring for\n",
      "the appropriate `AbstractSciMLFunction`.\n",
      "\n",
      "Offending function: f\n",
      "\n",
      "Stacktrace:\n",
      " [1] isinplace(f::Vector{Float64}, inplace_param_number::Int64, fname::String, iip_preferred::Bool; has_two_dispatches::Bool, isoptimization::Bool)\n",
      "   @ SciMLBase C:\\Users\\USAID\\.julia\\packages\\SciMLBase\\wVDwN\\src\\utils.jl:249\n",
      " [2] isinplace (repeats 2 times)\n",
      "   @ C:\\Users\\USAID\\.julia\\packages\\SciMLBase\\wVDwN\\src\\utils.jl:242 [inlined]\n",
      " [3] ODEProblem(f::Vector{Float64}, u0::Vector{Int64}, tspan::Tuple{Float64, Float64}, p::SciMLBase.NullParameters; kwargs::@Kwargs{})\n",
      "   @ SciMLBase C:\\Users\\USAID\\.julia\\packages\\SciMLBase\\wVDwN\\src\\problems\\ode_problems.jl:188\n",
      " [4] ODEProblem\n",
      "   @ SciMLBase C:\\Users\\USAID\\.julia\\packages\\SciMLBase\\wVDwN\\src\\problems\\ode_problems.jl:187 [inlined]\n",
      " [5] ODEProblem(f::Vector{Float64}, u0::Vector{Int64}, tspan::Tuple{Float64, Float64})\n",
      "   @ SciMLBase C:\\Users\\USAID\\.julia\\packages\\SciMLBase\\wVDwN\\src\\problems\\ode_problems.jl:187\n",
      " [6] top-level scope\n",
      "   @ c:\\Users\\USAID\\Documents\\2023-2024\\phys 218\\NonLinearDynamics\\Julia Practice\\Problems3.ipynb:2"
     ]
    }
   ],
   "source": [
    "# Solve the ODE system using the ODE solver Vern9()\n",
    "prob = ODEProblem(Ball,u0,t)\n",
    "sol = solve(prob;alg=Vern9(), callback = cb);"
   ]
  },
  {
   "cell_type": "code",
   "execution_count": null,
   "metadata": {},
   "outputs": [],
   "source": [
    "# Get x, v, and t from the solution\n",
    "xs = sol[1,:]\n",
    "vs = sol[2,:];"
   ]
  },
  {
   "cell_type": "code",
   "execution_count": null,
   "metadata": {},
   "outputs": [],
   "source": [
    "# Plot the trajectory of the ball and the velocity of the ball as a function of time\n",
    "fig = Figure(size=(800,800))\n",
    "ax = Axis3(fig[1, 1])\n",
    "lines!(ax, xs, vs, t, color = :blue)\n",
    "ax.azimuth = 90\n",
    "fig"
   ]
  },
  {
   "cell_type": "code",
   "execution_count": null,
   "metadata": {},
   "outputs": [],
   "source": [
    "# Plot them using interpolations to get a smooth curve"
   ]
  },
  {
   "cell_type": "code",
   "execution_count": null,
   "metadata": {},
   "outputs": [],
   "source": [
    "# Here insert the code to get the animation "
   ]
  },
  {
   "cell_type": "markdown",
   "metadata": {},
   "source": [
    "## Problem 2: Distribution quantile\n",
    "\n",
    "To find the q-th quantile of a distribution, one can use Newton's method:\n",
    "$$\n",
    "\\theta_{n+1} = \\theta_n - \\frac{\\text{cdf}(\\theta_n) - q}{\\text{pdf}(\\theta_n)}\n",
    "$$\n",
    "where $\\theta_n$ converges to the value of the q-th quantile. cdf and pdf are the cumulatide and probability density functions respectively.\n",
    "\n",
    "Write a generic function that implements the algorithm which calculates the qth quantile of any UnivariateDistribution in `Distributions.jl`, and test your result against the `quantile(d::UnivariateDistribution, q::Number) `function from `Distributions.jl` using the following distributions: `[Gamma(5, 1), Normal(0, 1), Beta(2, 4)].`\n",
    "\n",
    "use $\\theta_0 = \\text{median}(\\text{distribution})$"
   ]
  },
  {
   "cell_type": "code",
   "execution_count": null,
   "metadata": {},
   "outputs": [],
   "source": [
    "using ..."
   ]
  },
  {
   "cell_type": "code",
   "execution_count": null,
   "metadata": {},
   "outputs": [],
   "source": [
    "# Your function to calculate quantile"
   ]
  },
  {
   "cell_type": "code",
   "execution_count": null,
   "metadata": {},
   "outputs": [],
   "source": [
    "# Compare the two methods "
   ]
  },
  {
   "cell_type": "markdown",
   "metadata": {},
   "source": [
    "## Problem 3: Plotting subsets of a dataframe\n",
    "\n",
    "Using the `DataFrames` package, load the `iris` dataset. with the following code:"
   ]
  },
  {
   "cell_type": "code",
   "execution_count": null,
   "metadata": {},
   "outputs": [],
   "source": [
    "using DataFrames, CSV\n",
    "iris = DataFrame(CSV.File(\n",
    "    joinpath(dirname(pathof(DataFrames)), \n",
    "    \"../docs/src/assets/iris.csv\")\n",
    "));\n",
    "iris[1:5,:]"
   ]
  },
  {
   "cell_type": "markdown",
   "metadata": {},
   "source": [
    "This dataset has various flower species (column :Species). For every species create a 1x2 figure with the following plots:\n",
    "* [1,1] = scatter plot of SepalLength vs SepalWidth.\n",
    "* [1,2] = scatter plot of PetalLength vs PetalWidth.\n",
    "\n",
    "For each of these sub-scatter plots, calculate and print the Pearson correlaton coefficient."
   ]
  },
  {
   "cell_type": "code",
   "execution_count": null,
   "metadata": {},
   "outputs": [],
   "source": [
    "using ..."
   ]
  },
  {
   "cell_type": "code",
   "execution_count": null,
   "metadata": {},
   "outputs": [],
   "source": [
    "# Write all the code here "
   ]
  },
  {
   "cell_type": "markdown",
   "metadata": {},
   "source": [
    "## Problem 4: DataFrame of chaos\n",
    "Define the Roessler system as a DynamicalSystem:\n",
    "$$\n",
    "\\dot x = -y - z\\\\   \n",
    "\\dot y = x + a y\\\\\n",
    "\\dot z = b + z(x - c)\n",
    "$$\n",
    "with initial condition ones(3). Loop over all three of the following parameter ranges:\n",
    "\n",
    "as = 0.15:0.025:0.25\n",
    "\n",
    "bs = 0.15:0.025:0.25\n",
    "\n",
    "cs = 4:0.1:6.0\n",
    "\n",
    "and for each parameter combination calculate:\n",
    "* (1) the Lyapunov spectrum using lyapunovspectrum \n",
    "* (2) the Shannon entropy of the system's trajectory. For the entropy, simulate a trajectory of the system with sampling time Δt=0.1 for T = 1000.0 and use ε=0.1 for the box size when calling `DynamicalSystems.entropy(ValueHistogram(ε), X)` to estimate the entropy. For changing parameters you have to use `set_parameter!`. \n",
    "* Remember that you can push entries to a DataFrame row-by-row using `push!(dataframe, (a = a, b = b, ...))`.\n",
    "* Collect this analysis into a dataframe, with columns `a, b, c, λ1, λ3, H` with `λ1, λ3` the first and last elements of lyapunovspectrum"
   ]
  },
  {
   "cell_type": "markdown",
   "metadata": {},
   "source": [
    "Then use the querying framework to query into this dataframe and do the following tasks:\n",
    "* #### find chaotic parameter sets\n",
    "    Select all values a, b, c where λ1 > 0.01 (which indicates chaotic dynamics).\n",
    "* #### $\\lambda$ vs H\n",
    "    For all chaotic cases, select the λ1, H values and then perform a scatter plot of these two.\n",
    "* #### heatmap of H\n",
    "    For `a` fixed to 0.2, plot a heatmap of the value of `H` with axis the values of `c` and the values of `b`. Provided that you have a dataframe with columns `:b, :c, :H`, then these commands:"
   ]
  },
  {
   "cell_type": "code",
   "execution_count": null,
   "metadata": {},
   "outputs": [],
   "source": [
    "unstacked = unstack(df, :b,  :H; renamecols = (x -> \"H for b=$(x)\"))\n",
    "heat = Matrix(unstacked[:, Not(:c)])"
   ]
  },
  {
   "cell_type": "markdown",
   "metadata": {},
   "source": [
    "\n",
    "will create a matrix with the values of H where the row index is the values of c and the column index is the values of b.\n",
    "\n",
    "Hint: you can initiallize an empty dataframe with df = DataFrame(), and then start pushing into it arbitrary named tuples like push!(df, (a = 0.5, b = 0.5)).\n",
    "\n",
    "Hint 2: this all sounds like a lot of computation, but if you do the exercise correct running all code should not take more than 10 seconds."
   ]
  },
  {
   "cell_type": "code",
   "execution_count": null,
   "metadata": {},
   "outputs": [],
   "source": [
    "using ..."
   ]
  },
  {
   "cell_type": "code",
   "execution_count": null,
   "metadata": {},
   "outputs": [],
   "source": [
    "# Define the Roessler system as a function"
   ]
  },
  {
   "cell_type": "code",
   "execution_count": null,
   "metadata": {},
   "outputs": [],
   "source": [
    "# Define the initial conditions"
   ]
  },
  {
   "cell_type": "code",
   "execution_count": null,
   "metadata": {},
   "outputs": [],
   "source": [
    "# Fill in the DataFrame with all the conditions"
   ]
  },
  {
   "cell_type": "code",
   "execution_count": null,
   "metadata": {},
   "outputs": [],
   "source": [
    "# Get the Chaotic parameters"
   ]
  },
  {
   "cell_type": "code",
   "execution_count": null,
   "metadata": {},
   "outputs": [],
   "source": [
    "# Scatter plot λ1 vs H"
   ]
  },
  {
   "cell_type": "code",
   "execution_count": null,
   "metadata": {},
   "outputs": [],
   "source": [
    "# fix a and get the new DataFrame"
   ]
  },
  {
   "cell_type": "code",
   "execution_count": null,
   "metadata": {},
   "outputs": [],
   "source": [
    "unstacked = unstack(fixa, :b,  :H; renamecols = (x -> \"H for b=$(x)\"))\n",
    "heat = Matrix{Float64}(unstacked[:, Not(:c)]);"
   ]
  },
  {
   "cell_type": "code",
   "execution_count": null,
   "metadata": {},
   "outputs": [],
   "source": [
    "# Plot the heatmap"
   ]
  }
 ],
 "metadata": {
  "kernelspec": {
   "display_name": "Julia 1.10.0",
   "language": "julia",
   "name": "julia-1.10"
  },
  "language_info": {
   "file_extension": ".jl",
   "mimetype": "application/julia",
   "name": "julia",
   "version": "1.10.0"
  }
 },
 "nbformat": 4,
 "nbformat_minor": 2
}
