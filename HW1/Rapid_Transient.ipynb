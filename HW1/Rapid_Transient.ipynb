{
 "cells": [
  {
   "cell_type": "code",
   "execution_count": 1,
   "metadata": {},
   "outputs": [],
   "source": [
    "import numpy as np\n",
    "import matplotlib.pyplot as plt"
   ]
  },
  {
   "cell_type": "markdown",
   "metadata": {},
   "source": [
    "## Problem 3.5.5 - Time scale for the rapid transient."
   ]
  },
  {
   "cell_type": "markdown",
   "metadata": {},
   "source": [
    "From section 3.5, we have the dimensionless equation of a bead on a rotating hoop\n",
    "$$\\epsilon \\frac{d\\phi^2}{d\\tau^2} + \\frac{d\\phi}{d\\tau} = f(\\phi)$$"
   ]
  },
  {
   "cell_type": "markdown",
   "metadata": {},
   "source": [
    "a.) We want the second order term to become negligible. we introduce a change of variable $\\tau = \\epsilon \\tau$ and replace in the above equation, getting\n",
    "$$\\frac{d\\phi^2}{d\\tau^2} + \\frac{1}{\\epsilon} \\frac{d\\phi}{d\\tau} = f(\\phi)$$\n",
    "The term $\\frac{1}{\\epsilon}$ is >> 1 and hence dominates allowing for a rapid relax to the first order derivative term."
   ]
  },
  {
   "cell_type": "markdown",
   "metadata": {},
   "source": [
    "b.) The timescale is defined by $T_{fast}= \\frac{t}{\\tau}$ and $T_{slow}$ is given (in section 3.5) to be \n",
    "$$T_{slow} = \\frac{t}{\\tau} = \\frac{b}{mg}$$\n",
    "Where $\\tau $ here is before imposing the change of variable $\\tau = \\epsilon \\tau$.\n",
    "Hence, $$T_fast = \\frac{\\tau_{new} b}{mg \\tau} = \\frac{\\epsilon b}{mg}$$"
   ]
  }
 ],
 "metadata": {
  "kernelspec": {
   "display_name": "Python 3",
   "language": "python",
   "name": "python3"
  },
  "language_info": {
   "codemirror_mode": {
    "name": "ipython",
    "version": 3
   },
   "file_extension": ".py",
   "mimetype": "text/x-python",
   "name": "python",
   "nbconvert_exporter": "python",
   "pygments_lexer": "ipython3",
   "version": "3.11.3"
  }
 },
 "nbformat": 4,
 "nbformat_minor": 2
}
